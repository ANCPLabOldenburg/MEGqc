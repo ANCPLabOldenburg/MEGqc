{
 "cells": [
  {
   "cell_type": "code",
   "execution_count": 1,
   "metadata": {},
   "outputs": [
    {
     "name": "stdout",
     "output_type": "stream",
     "text": [
      "Using matplotlib as 2D backend.\n",
      "___MEGqc___:  list_of_subs ['009', '012', '013', '014', '015', '016', '017', '018', '019', '020', '021', '022', '023', '024', '025', '026', '027', '028', '029', '030', '031']\n",
      "___MEGqc___:  TOTAL subs 21\n",
      "___MEGqc___:  EMPTY room? 009 031\n",
      "___MEGqc___:  Dataset:  /data/areer/MEG_QC_stuff/data/openneuro/ds003483\n",
      "___MEGqc___:  Take SID:  013\n",
      "___MEGqc___:  list_of_fifs ['/data/areer/MEG_QC_stuff/data/openneuro/ds003483/sub-013/ses-1/meg/sub-013_ses-1_task-deduction_run-1_meg.fif', '/data/areer/MEG_QC_stuff/data/openneuro/ds003483/sub-013/ses-1/meg/sub-013_ses-1_task-induction_run-1_meg.fif']\n",
      "___MEGqc___:  TOTAL fifs:  2\n",
      "list_of_sub_jsons\n",
      "[{'name': 'sub-013_ses-1_task-deduction_run[...]', 'extension': '.fif', 'suffix': 'meg'}, {'name': 'sub-013_ses-1_task-induction_run[...]', 'extension': '.fif', 'suffix': 'meg'}]\n",
      "___MEGqc___:  Take fif:  /data/areer/MEG_QC_stuff/data/openneuro/ds003483/sub-013/ses-1/meg/sub-013_ses-1_task-deduction_run-1_meg.fif\n",
      "___MEGqc___:  Starting initial processing...\n",
      "___MEGqc___:  Reading data from file: /data/areer/MEG_QC_stuff/data/openneuro/ds003483/sub-013/ses-1/meg/sub-013_ses-1_task-deduction_run-1_meg.fif\n",
      "Opening raw data file /data/areer/MEG_QC_stuff/data/openneuro/ds003483/sub-013/ses-1/meg/sub-013_ses-1_task-deduction_run-1_meg.fif...\n",
      "    Range : 66000 ... 993999 =     66.000 ...   993.999 secs\n",
      "Ready.\n"
     ]
    },
    {
     "data": {
      "text/html": [
       "<details open>\n",
       "    <summary><strong>General</strong></summary>\n",
       "    <table class=\"table table-hover table-striped table-sm table-responsive small\">\n",
       "        <tr>\n",
       "            <th>Measurement date</th>\n",
       "            \n",
       "            <td>February 26, 2019  15:05:17 GMT</td>\n",
       "            \n",
       "        </tr>\n",
       "        <tr>\n",
       "            <th>Experimenter</th>\n",
       "            \n",
       "            <td>Common account for MEG work (meg)</td>\n",
       "            \n",
       "        </tr>\n",
       "        <tr>\n",
       "            <th>Participant</th>\n",
       "            \n",
       "            \n",
       "            \n",
       "        </tr>\n",
       "    </table>\n",
       "    </details>\n",
       "    <details open>\n",
       "        <summary><strong>Channels</strong></summary>\n",
       "        <table class=\"table table-hover table-striped table-sm table-responsive small\">\n",
       "            <tr>\n",
       "                <th>Digitized points</th>\n",
       "                \n",
       "                <td>350 points</td>\n",
       "                \n",
       "            </tr>\n",
       "            <tr>\n",
       "                <th>Good channels</th>\n",
       "                <td>204 Gradiometers, 102 Magnetometers, 1 EOG, 1 ECG, 3 Stimulus, 9 CHPI</td>\n",
       "            </tr>\n",
       "            <tr>\n",
       "                <th>Bad channels</th>\n",
       "                <td>None</td>\n",
       "            </tr>\n",
       "            <tr>\n",
       "                <th>EOG channels</th>\n",
       "                <td>EOG061</td>\n",
       "            </tr>\n",
       "            <tr>\n",
       "                <th>ECG channels</th>\n",
       "                <td>ECG062</td>\n",
       "            </tr>\n",
       "        </table>\n",
       "        </details>\n",
       "        <details open>\n",
       "            <summary><strong>Data</strong></summary>\n",
       "            <table class=\"table table-hover table-striped table-sm table-responsive small\">\n",
       "                \n",
       "                <tr>\n",
       "                    <th>Sampling frequency</th>\n",
       "                    <td>1000.00 Hz</td>\n",
       "                </tr>\n",
       "                \n",
       "                \n",
       "                <tr>\n",
       "                    <th>Highpass</th>\n",
       "                    <td>0.10 Hz</td>\n",
       "                </tr>\n",
       "                \n",
       "                \n",
       "                <tr>\n",
       "                    <th>Lowpass</th>\n",
       "                    <td>330.00 Hz</td>\n",
       "                </tr>\n",
       "                \n",
       "                \n",
       "                \n",
       "                <tr>\n",
       "                    <th>Filenames</th>\n",
       "                    <td>sub-013_ses-1_task-deduction_run-1_meg.fif</td>\n",
       "                </tr>\n",
       "                \n",
       "                \n",
       "                <tr>\n",
       "                    <th>Duration</th>\n",
       "                    <td>00:15:28 (HH:MM:SS)</td>\n",
       "                </tr>\n",
       "                \n",
       "            </table>\n",
       "            </details>"
      ],
      "text/plain": [
       "<Raw | sub-013_ses-1_task-deduction_run-1_meg.fif, 320 x 928000 (928.0 s), ~5.3 MB, data not loaded>"
      ]
     },
     "metadata": {},
     "output_type": "display_data"
    },
    {
     "name": "stdout",
     "output_type": "stream",
     "text": [
      "Reading 0 ... 120000  =      0.000 ...   120.000 secs...\n",
      "Filtering raw data in 1 contiguous segment\n",
      "Setting up low-pass filter at 1.4e+02 Hz\n",
      "\n",
      "IIR filter parameters\n",
      "---------------------\n",
      "Butterworth lowpass zero-phase (two-pass forward and reverse) non-causal filter:\n",
      "- Filter order 8 (effective, after forward-backward)\n",
      "- Cutoff at 140.00 Hz: -6.02 dB\n",
      "\n",
      "___MEGqc___:  Data filtered from 0.0 to 140.0 Hz.\n",
      "Sampling frequency of the instance is already 1000.0, returning unmodified.\n",
      "___MEGqc___:  Data resampled to 1000 Hz. \n",
      "___MEGqc___:  Stimulus channels detected: ['STI101', 'STI201', 'STI301']\n",
      "23 events found on stim channel STI101\n",
      "Event IDs: [2 4 8]\n",
      "Trigger channel STI201 has a non-zero initial value of {initial_value} (consider using initial_event=True to detect this event)\n",
      "Not setting metadata\n",
      "23 matching events found\n",
      "No baseline correction applied\n",
      "0 projection items activated\n",
      "Using data from preloaded Raw for 23 events and 1201 original time points ...\n",
      "0 bad epochs dropped\n",
      "Not setting metadata\n",
      "23 matching events found\n",
      "No baseline correction applied\n",
      "0 projection items activated\n",
      "Using data from preloaded Raw for 23 events and 1201 original time points ...\n",
      "0 bad epochs dropped\n",
      "NOTE: pick_types() is a legacy function. New code should use inst.pick(...).\n",
      "NOTE: pick_types() is a legacy function. New code should use inst.pick(...).\n",
      "___MEGqc___:  Finished initial processing. --- Execution 1.516937255859375 seconds ---\n",
      "___MEGqc___:  Starting STD...\n",
      "___MEGqc___:  4.169954655805303e-13  threshold for NOISY. \n",
      "___MEGqc___:  1.9672642173215773e-13  threshold for FLAT. \n",
      "___MEGqc___:  8.041433951359217e-12  threshold for NOISY. \n",
      "___MEGqc___:  4.081474057268758e-12  threshold for FLAT. \n",
      "___MEGqc___:  Finished STD. --- Execution 19.32373070716858 seconds ---\n",
      "___MEGqc___:  Starting PSD...\n",
      "Effective window size : 2.000 (s)\n"
     ]
    },
    {
     "name": "stderr",
     "output_type": "stream",
     "text": [
      "/home/areer1/Environments/ancp_test/lib/python3.8/site-packages/meg_qc/calculation/metrics/PSD_meg_qc.py:1157: RuntimeWarning: joblib not installed. Cannot run in parallel.\n",
      "  psds[m_or_g], freqs[m_or_g] = raw.compute_psd(method=method, fmin=psd_params['freq_min'], fmax=psd_params['freq_max'], picks=m_or_g, n_jobs=-1, n_fft=nfft, n_per_seg=nperseg).get_data(return_freqs=True)\n"
     ]
    },
    {
     "name": "stdout",
     "output_type": "stream",
     "text": [
      "Effective window size : 2.000 (s)\n"
     ]
    },
    {
     "name": "stderr",
     "output_type": "stream",
     "text": [
      "/home/areer1/Environments/ancp_test/lib/python3.8/site-packages/meg_qc/calculation/metrics/PSD_meg_qc.py:1157: RuntimeWarning: joblib not installed. Cannot run in parallel.\n",
      "  psds[m_or_g], freqs[m_or_g] = raw.compute_psd(method=method, fmin=psd_params['freq_min'], fmax=psd_params['freq_max'], picks=m_or_g, n_jobs=-1, n_fft=nfft, n_per_seg=nperseg).get_data(return_freqs=True)\n"
     ]
    },
    {
     "name": "stdout",
     "output_type": "stream",
     "text": [
      "___MEGqc___:  Finished PSD. --- Execution 3.9055755138397217 seconds ---\n",
      "___MEGqc___:  Starting Peak-to-Peak manual...\n",
      "___MEGqc___:  1.0657275208784295e-12  threshold for NOISY. \n",
      "___MEGqc___:  3.843988633318883e-13  threshold for FLAT. \n",
      "___MEGqc___:  2.424706099918118e-11  threshold for NOISY. \n",
      "___MEGqc___:  4.865954540063838e-12  threshold for FLAT. \n",
      "___MEGqc___:  Finished Peak-to-Peak manual. --- Execution 43.53314781188965 seconds ---\n",
      "___MEGqc___:  Starting ECG...\n",
      "___MEGqc___: Peaks have similar amplitudes, amplitude std:  0.03305839978650958\n",
      "___MEGqc___: There are more than 2 breaks in the data, number:  9\n",
      "___MEGqc___: ECG062 satisfied conditions for a good channel:  {'similar_ampl': True, 'no_breaks': False, 'no_bursts': True}\n",
      "___MEGqc___:  Overall bad ECG channel: ECG062: \n",
      " - Peaks have similar amplitude: True \n",
      " - No breaks (too long distances between peaks): False \n",
      " - No bursts (too short distances between peaks): True\n",
      "\n",
      "___MEGqc___:  ECG channel data is too noisy, cardio artifacts were reconstructed. ECG channel was dropped from the analysis. Consider checking the quality of ECG channel on your recording device. \n",
      "\n",
      "Reconstructing ECG signal from Magnetometers\n",
      "Setting up band-pass filter from 5 - 35 Hz\n",
      "\n",
      "FIR filter parameters\n",
      "---------------------\n",
      "Designing a two-pass forward and reverse, zero-phase, non-causal bandpass filter:\n",
      "- Windowed frequency-domain design (firwin2) method\n",
      "- Hann window\n",
      "- Lower passband edge: 5.00\n",
      "- Lower transition bandwidth: 0.50 Hz (-12 dB cutoff frequency: 4.75 Hz)\n",
      "- Upper passband edge: 35.00 Hz\n",
      "- Upper transition bandwidth: 0.50 Hz (-12 dB cutoff frequency: 35.25 Hz)\n",
      "- Filter length: 10000 samples (10.000 s)\n",
      "\n",
      "Number of ECG events detected : 202 (average pulse 100 / min.)\n",
      "___MEGqc___:  Mean event of ECG channel has expected shape.\n"
     ]
    },
    {
     "data": {
      "application/vnd.plotly.v1+json": {
       "config": {
        "plotlyServerURL": "https://plot.ly"
       },
       "data": [
        {
         "legendgroup": "Original data",
         "legendgrouptitle": {
          "text": "Original data"
         },
         "name": "Mean_rwave",
         "type": "scatter",
         "x": [
          -0.08,
          -0.079,
          -0.078,
          -0.077,
          -0.076,
          -0.075,
          -0.074,
          -0.073,
          -0.07200000000000001,
          -0.07100000000000001,
          -0.07,
          -0.069,
          -0.068,
          -0.067,
          -0.066,
          -0.065,
          -0.064,
          -0.063,
          -0.062,
          -0.061,
          -0.06,
          -0.059,
          -0.058,
          -0.057,
          -0.056,
          -0.055,
          -0.054,
          -0.053000000000000005,
          -0.052000000000000005,
          -0.051000000000000004,
          -0.05,
          -0.049,
          -0.048,
          -0.047,
          -0.046,
          -0.045,
          -0.044,
          -0.043000000000000003,
          -0.042,
          -0.041,
          -0.04,
          -0.039,
          -0.038,
          -0.037,
          -0.036000000000000004,
          -0.035,
          -0.034,
          -0.033,
          -0.032,
          -0.031,
          -0.03,
          -0.028999999999999998,
          -0.027999999999999997,
          -0.027000000000000003,
          -0.026000000000000002,
          -0.025,
          -0.024,
          -0.023,
          -0.022,
          -0.020999999999999998,
          -0.020000000000000004,
          -0.019000000000000003,
          -0.018000000000000002,
          -0.017,
          -0.016,
          -0.015,
          -0.013999999999999999,
          -0.012999999999999998,
          -0.011999999999999997,
          -0.010999999999999996,
          -0.009999999999999995,
          -0.008999999999999994,
          -0.007999999999999993,
          -0.007000000000000006,
          -0.006000000000000005,
          -0.0050000000000000044,
          -0.0040000000000000036,
          -0.0030000000000000027,
          -0.0020000000000000018,
          -0.0010000000000000009,
          0,
          0.0010000000000000009,
          0.0020000000000000018,
          0.0030000000000000027,
          0.0040000000000000036,
          0.0050000000000000044,
          0.006000000000000005,
          0.007000000000000006,
          0.007999999999999993,
          0.008999999999999994,
          0.009999999999999995,
          0.010999999999999996,
          0.011999999999999997,
          0.012999999999999998,
          0.013999999999999999,
          0.015,
          0.016,
          0.017,
          0.018000000000000002,
          0.019000000000000003,
          0.020000000000000004,
          0.021000000000000005,
          0.022000000000000006,
          0.023000000000000007,
          0.024000000000000007,
          0.024999999999999994,
          0.025999999999999995,
          0.026999999999999996,
          0.027999999999999997,
          0.028999999999999998,
          0.03,
          0.031,
          0.032,
          0.033,
          0.034,
          0.035,
          0.036000000000000004,
          0.037000000000000005,
          0.038000000000000006,
          0.03900000000000001,
          0.039999999999999994,
          0.040999999999999995,
          0.041999999999999996,
          0.043,
          0.044,
          0.045,
          0.046,
          0.047,
          0.048,
          0.049,
          0.05,
          0.051000000000000004,
          0.052000000000000005,
          0.053000000000000005,
          0.054000000000000006,
          0.05500000000000001,
          0.05600000000000001,
          0.05700000000000001,
          0.05800000000000001,
          0.05900000000000001,
          0.06000000000000001,
          0.06100000000000001,
          0.06200000000000001,
          0.06300000000000001,
          0.06400000000000002,
          0.06499999999999999,
          0.06599999999999999,
          0.06699999999999999,
          0.06799999999999999,
          0.06899999999999999,
          0.06999999999999999,
          0.071,
          0.072,
          0.073,
          0.074,
          0.075,
          0.076,
          0.077,
          0.078,
          0.079,
          0.08
         ],
         "y": [
          -4.779118806617302e-15,
          -5.750274678788872e-15,
          -6.745612001445354e-15,
          -7.742672032757072e-15,
          -8.717785940743698e-15,
          -9.646794035698482e-15,
          -1.0505817937009401e-14,
          -1.1272058322926086e-14,
          -1.1924588566306009e-14,
          -1.2445113364772046e-14,
          -1.2818661527867198e-14,
          -1.3034183433103592e-14,
          -1.3085026298559018e-14,
          -1.296926427672639e-14,
          -1.2689865332260664e-14,
          -1.2254682753074946e-14,
          -1.1676265742334516e-14,
          -1.0971490593350942e-14,
          -1.0161021177975696e-14,
          -9.26861458384955e-15,
          -8.320294415517161e-15,
          -7.343420237348809e-15,
          -6.3656866132593864e-15,
          -5.414088954794334e-15,
          -4.513895736147328e-15,
          -3.687667437602246e-15,
          -2.9543617648950762e-15,
          -2.3285622543232367e-15,
          -1.8198633731847054e-15,
          -1.4324397900919223e-15,
          -1.1648208103215513e-15,
          -1.009883293951583e-15,
          -9.550679919988303e-16,
          -9.82815476129258e-16,
          -1.071209050783469e-15,
          -1.1948035804437198e-15,
          -1.3256113898027471e-15,
          -1.434209629361958e-15,
          -1.490928036028149e-15,
          -1.4670721013258728e-15,
          -1.3361344729191451e-15,
          -1.074947074028149e-15,
          -6.647279718101391e-16,
          -9.19804248806206e-17,
          6.507933193772252e-16,
          1.564594209119778e-15,
          2.6436672797235105e-15,
          3.875494971327503e-15,
          5.24104693219364e-15,
          6.7152804386645165e-15,
          8.267875758169639e-15,
          9.864181496437993e-15,
          1.1466336580467128e-14,
          1.3034528378326374e-14,
          1.452834084140624e-14,
          1.5908142710043185e-14,
          1.7136463915134744e-14,
          1.8179308424564336e-14,
          1.900735393062559e-14,
          1.959699287760668e-14,
          1.9931175232191706e-14,
          2.0000020874789103e-14,
          1.980117824432178e-14,
          1.9339915556808987e-14,
          1.8628941155015412e-14,
          1.768795992535646e-14,
          1.6542982825610638e-14,
          1.5225415999880658e-14,
          1.3770964339853787e-14,
          1.221839135044378e-14,
          1.0608182516236435e-14,
          8.981162833195231e-15,
          7.377120634244105e-15,
          5.833489245480712e-15,
          4.3841353931563835e-15,
          3.0582987534186686e-15,
          1.87972078748931e-15,
          8.659932938546344e-16,
          2.814825377730059e-17,
          -6.294990904705103e-16,
          -1.1092520114218402e-15,
          -1.4196870225060744e-15,
          -1.5750792405940305e-15,
          -1.5946248585349423e-15,
          -1.5014948382917296e-15,
          -1.321760123830225e-15,
          -1.0832331761657016e-15,
          -8.142732849183669e-16,
          -5.426038225050538e-16,
          -2.9418837003387645e-16,
          -9.220952934465378e-17,
          4.38106089460503e-17,
          9.871572890308132e-17,
          6.222126474945758e-17,
          -7.079542755036292e-17,
          -3.0022816345286527e-16,
          -6.208965198980054e-16,
          -1.0229111328358665e-15,
          -1.4922304660880637e-15,
          -2.0113822833003687e-15,
          -2.5603167349534666e-15,
          -3.117353108815302e-15,
          -3.6601790653130204e-15,
          -4.166859699354744e-15,
          -4.61681407346875e-15,
          -4.9917189155118295e-15,
          -5.27630285735614e-15,
          -5.458999732112987e-15,
          -5.5324358115641175e-15,
          -5.493733169882591e-15,
          -5.3446192866206435e-15,
          -5.0913412121627444e-15,
          -4.744390766412433e-15,
          -4.318054988228858e-15,
          -3.829813082778423e-15,
          -3.299607145115238e-15,
          -2.7490187357338478e-15,
          -2.2003867677244353e-15,
          -1.6759040177904384e-15,
          -1.1967298431562684e-15,
          -7.821553889328554e-16,
          -4.488547869587481e-16,
          -2.1025171965009626e-16,
          -7.602544713809511e-17,
          -5.1774213933597706e-17,
          -1.3884713739741973e-16,
          -3.343485309461667e-16,
          -6.31311435470196e-16,
          -1.0190302238387572e-15,
          -1.4835357895784239e-15,
          -2.008191287078097e-15,
          -2.5743818732316325e-15,
          -3.1622685780605147e-15,
          -3.751574419630645e-15,
          -4.322370233985102e-15,
          -4.855828412460641e-15,
          -5.3349147675664024e-15,
          -5.744991971495577e-15,
          -6.074312267123207e-15,
          -6.314382238565828e-15,
          -6.460188114747955e-15,
          -6.510276112348713e-15,
          -6.4666884423099075e-15,
          -6.334761547364741e-15,
          -6.122798660678046e-15,
          -5.84163365507181e-15,
          -5.504107198340048e-15,
          -5.124479292624806e-15,
          -4.717804249922357e-15,
          -4.2992949855445156e-15,
          -3.88370319088432e-15,
          -3.4847405193822906e-15,
          -3.114563474510382e-15,
          -2.783341356377664e-15,
          -2.4989225692209635e-15,
          -2.2666100071410422e-15,
          -2.089051329193115e-15,
          -1.9662449247410435e-15,
          -1.895657471851327e-15,
          -1.8724444107869054e-15,
          -1.88976057747546e-15
         ]
        },
        {
         "legendgroup": "Original data",
         "legendgrouptitle": {
          "text": "Original data"
         },
         "mode": "markers",
         "name": "peak: Mean_rwave",
         "type": "scatter",
         "x": [
          -0.019000000000000003,
          -0.068
         ],
         "y": [
          2.0000020874789103e-14,
          -1.3085026298559018e-14
         ]
        }
       ],
       "layout": {
        "template": {
         "data": {
          "bar": [
           {
            "error_x": {
             "color": "#2a3f5f"
            },
            "error_y": {
             "color": "#2a3f5f"
            },
            "marker": {
             "line": {
              "color": "#E5ECF6",
              "width": 0.5
             },
             "pattern": {
              "fillmode": "overlay",
              "size": 10,
              "solidity": 0.2
             }
            },
            "type": "bar"
           }
          ],
          "barpolar": [
           {
            "marker": {
             "line": {
              "color": "#E5ECF6",
              "width": 0.5
             },
             "pattern": {
              "fillmode": "overlay",
              "size": 10,
              "solidity": 0.2
             }
            },
            "type": "barpolar"
           }
          ],
          "carpet": [
           {
            "aaxis": {
             "endlinecolor": "#2a3f5f",
             "gridcolor": "white",
             "linecolor": "white",
             "minorgridcolor": "white",
             "startlinecolor": "#2a3f5f"
            },
            "baxis": {
             "endlinecolor": "#2a3f5f",
             "gridcolor": "white",
             "linecolor": "white",
             "minorgridcolor": "white",
             "startlinecolor": "#2a3f5f"
            },
            "type": "carpet"
           }
          ],
          "choropleth": [
           {
            "colorbar": {
             "outlinewidth": 0,
             "ticks": ""
            },
            "type": "choropleth"
           }
          ],
          "contour": [
           {
            "colorbar": {
             "outlinewidth": 0,
             "ticks": ""
            },
            "colorscale": [
             [
              0,
              "#0d0887"
             ],
             [
              0.1111111111111111,
              "#46039f"
             ],
             [
              0.2222222222222222,
              "#7201a8"
             ],
             [
              0.3333333333333333,
              "#9c179e"
             ],
             [
              0.4444444444444444,
              "#bd3786"
             ],
             [
              0.5555555555555556,
              "#d8576b"
             ],
             [
              0.6666666666666666,
              "#ed7953"
             ],
             [
              0.7777777777777778,
              "#fb9f3a"
             ],
             [
              0.8888888888888888,
              "#fdca26"
             ],
             [
              1,
              "#f0f921"
             ]
            ],
            "type": "contour"
           }
          ],
          "contourcarpet": [
           {
            "colorbar": {
             "outlinewidth": 0,
             "ticks": ""
            },
            "type": "contourcarpet"
           }
          ],
          "heatmap": [
           {
            "colorbar": {
             "outlinewidth": 0,
             "ticks": ""
            },
            "colorscale": [
             [
              0,
              "#0d0887"
             ],
             [
              0.1111111111111111,
              "#46039f"
             ],
             [
              0.2222222222222222,
              "#7201a8"
             ],
             [
              0.3333333333333333,
              "#9c179e"
             ],
             [
              0.4444444444444444,
              "#bd3786"
             ],
             [
              0.5555555555555556,
              "#d8576b"
             ],
             [
              0.6666666666666666,
              "#ed7953"
             ],
             [
              0.7777777777777778,
              "#fb9f3a"
             ],
             [
              0.8888888888888888,
              "#fdca26"
             ],
             [
              1,
              "#f0f921"
             ]
            ],
            "type": "heatmap"
           }
          ],
          "heatmapgl": [
           {
            "colorbar": {
             "outlinewidth": 0,
             "ticks": ""
            },
            "colorscale": [
             [
              0,
              "#0d0887"
             ],
             [
              0.1111111111111111,
              "#46039f"
             ],
             [
              0.2222222222222222,
              "#7201a8"
             ],
             [
              0.3333333333333333,
              "#9c179e"
             ],
             [
              0.4444444444444444,
              "#bd3786"
             ],
             [
              0.5555555555555556,
              "#d8576b"
             ],
             [
              0.6666666666666666,
              "#ed7953"
             ],
             [
              0.7777777777777778,
              "#fb9f3a"
             ],
             [
              0.8888888888888888,
              "#fdca26"
             ],
             [
              1,
              "#f0f921"
             ]
            ],
            "type": "heatmapgl"
           }
          ],
          "histogram": [
           {
            "marker": {
             "pattern": {
              "fillmode": "overlay",
              "size": 10,
              "solidity": 0.2
             }
            },
            "type": "histogram"
           }
          ],
          "histogram2d": [
           {
            "colorbar": {
             "outlinewidth": 0,
             "ticks": ""
            },
            "colorscale": [
             [
              0,
              "#0d0887"
             ],
             [
              0.1111111111111111,
              "#46039f"
             ],
             [
              0.2222222222222222,
              "#7201a8"
             ],
             [
              0.3333333333333333,
              "#9c179e"
             ],
             [
              0.4444444444444444,
              "#bd3786"
             ],
             [
              0.5555555555555556,
              "#d8576b"
             ],
             [
              0.6666666666666666,
              "#ed7953"
             ],
             [
              0.7777777777777778,
              "#fb9f3a"
             ],
             [
              0.8888888888888888,
              "#fdca26"
             ],
             [
              1,
              "#f0f921"
             ]
            ],
            "type": "histogram2d"
           }
          ],
          "histogram2dcontour": [
           {
            "colorbar": {
             "outlinewidth": 0,
             "ticks": ""
            },
            "colorscale": [
             [
              0,
              "#0d0887"
             ],
             [
              0.1111111111111111,
              "#46039f"
             ],
             [
              0.2222222222222222,
              "#7201a8"
             ],
             [
              0.3333333333333333,
              "#9c179e"
             ],
             [
              0.4444444444444444,
              "#bd3786"
             ],
             [
              0.5555555555555556,
              "#d8576b"
             ],
             [
              0.6666666666666666,
              "#ed7953"
             ],
             [
              0.7777777777777778,
              "#fb9f3a"
             ],
             [
              0.8888888888888888,
              "#fdca26"
             ],
             [
              1,
              "#f0f921"
             ]
            ],
            "type": "histogram2dcontour"
           }
          ],
          "mesh3d": [
           {
            "colorbar": {
             "outlinewidth": 0,
             "ticks": ""
            },
            "type": "mesh3d"
           }
          ],
          "parcoords": [
           {
            "line": {
             "colorbar": {
              "outlinewidth": 0,
              "ticks": ""
             }
            },
            "type": "parcoords"
           }
          ],
          "pie": [
           {
            "automargin": true,
            "type": "pie"
           }
          ],
          "scatter": [
           {
            "fillpattern": {
             "fillmode": "overlay",
             "size": 10,
             "solidity": 0.2
            },
            "type": "scatter"
           }
          ],
          "scatter3d": [
           {
            "line": {
             "colorbar": {
              "outlinewidth": 0,
              "ticks": ""
             }
            },
            "marker": {
             "colorbar": {
              "outlinewidth": 0,
              "ticks": ""
             }
            },
            "type": "scatter3d"
           }
          ],
          "scattercarpet": [
           {
            "marker": {
             "colorbar": {
              "outlinewidth": 0,
              "ticks": ""
             }
            },
            "type": "scattercarpet"
           }
          ],
          "scattergeo": [
           {
            "marker": {
             "colorbar": {
              "outlinewidth": 0,
              "ticks": ""
             }
            },
            "type": "scattergeo"
           }
          ],
          "scattergl": [
           {
            "marker": {
             "colorbar": {
              "outlinewidth": 0,
              "ticks": ""
             }
            },
            "type": "scattergl"
           }
          ],
          "scattermapbox": [
           {
            "marker": {
             "colorbar": {
              "outlinewidth": 0,
              "ticks": ""
             }
            },
            "type": "scattermapbox"
           }
          ],
          "scatterpolar": [
           {
            "marker": {
             "colorbar": {
              "outlinewidth": 0,
              "ticks": ""
             }
            },
            "type": "scatterpolar"
           }
          ],
          "scatterpolargl": [
           {
            "marker": {
             "colorbar": {
              "outlinewidth": 0,
              "ticks": ""
             }
            },
            "type": "scatterpolargl"
           }
          ],
          "scatterternary": [
           {
            "marker": {
             "colorbar": {
              "outlinewidth": 0,
              "ticks": ""
             }
            },
            "type": "scatterternary"
           }
          ],
          "surface": [
           {
            "colorbar": {
             "outlinewidth": 0,
             "ticks": ""
            },
            "colorscale": [
             [
              0,
              "#0d0887"
             ],
             [
              0.1111111111111111,
              "#46039f"
             ],
             [
              0.2222222222222222,
              "#7201a8"
             ],
             [
              0.3333333333333333,
              "#9c179e"
             ],
             [
              0.4444444444444444,
              "#bd3786"
             ],
             [
              0.5555555555555556,
              "#d8576b"
             ],
             [
              0.6666666666666666,
              "#ed7953"
             ],
             [
              0.7777777777777778,
              "#fb9f3a"
             ],
             [
              0.8888888888888888,
              "#fdca26"
             ],
             [
              1,
              "#f0f921"
             ]
            ],
            "type": "surface"
           }
          ],
          "table": [
           {
            "cells": {
             "fill": {
              "color": "#EBF0F8"
             },
             "line": {
              "color": "white"
             }
            },
            "header": {
             "fill": {
              "color": "#C8D4E3"
             },
             "line": {
              "color": "white"
             }
            },
            "type": "table"
           }
          ]
         },
         "layout": {
          "annotationdefaults": {
           "arrowcolor": "#2a3f5f",
           "arrowhead": 0,
           "arrowwidth": 1
          },
          "autotypenumbers": "strict",
          "coloraxis": {
           "colorbar": {
            "outlinewidth": 0,
            "ticks": ""
           }
          },
          "colorscale": {
           "diverging": [
            [
             0,
             "#8e0152"
            ],
            [
             0.1,
             "#c51b7d"
            ],
            [
             0.2,
             "#de77ae"
            ],
            [
             0.3,
             "#f1b6da"
            ],
            [
             0.4,
             "#fde0ef"
            ],
            [
             0.5,
             "#f7f7f7"
            ],
            [
             0.6,
             "#e6f5d0"
            ],
            [
             0.7,
             "#b8e186"
            ],
            [
             0.8,
             "#7fbc41"
            ],
            [
             0.9,
             "#4d9221"
            ],
            [
             1,
             "#276419"
            ]
           ],
           "sequential": [
            [
             0,
             "#0d0887"
            ],
            [
             0.1111111111111111,
             "#46039f"
            ],
            [
             0.2222222222222222,
             "#7201a8"
            ],
            [
             0.3333333333333333,
             "#9c179e"
            ],
            [
             0.4444444444444444,
             "#bd3786"
            ],
            [
             0.5555555555555556,
             "#d8576b"
            ],
            [
             0.6666666666666666,
             "#ed7953"
            ],
            [
             0.7777777777777778,
             "#fb9f3a"
            ],
            [
             0.8888888888888888,
             "#fdca26"
            ],
            [
             1,
             "#f0f921"
            ]
           ],
           "sequentialminus": [
            [
             0,
             "#0d0887"
            ],
            [
             0.1111111111111111,
             "#46039f"
            ],
            [
             0.2222222222222222,
             "#7201a8"
            ],
            [
             0.3333333333333333,
             "#9c179e"
            ],
            [
             0.4444444444444444,
             "#bd3786"
            ],
            [
             0.5555555555555556,
             "#d8576b"
            ],
            [
             0.6666666666666666,
             "#ed7953"
            ],
            [
             0.7777777777777778,
             "#fb9f3a"
            ],
            [
             0.8888888888888888,
             "#fdca26"
            ],
            [
             1,
             "#f0f921"
            ]
           ]
          },
          "colorway": [
           "#636efa",
           "#EF553B",
           "#00cc96",
           "#ab63fa",
           "#FFA15A",
           "#19d3f3",
           "#FF6692",
           "#B6E880",
           "#FF97FF",
           "#FECB52"
          ],
          "font": {
           "color": "#2a3f5f"
          },
          "geo": {
           "bgcolor": "white",
           "lakecolor": "white",
           "landcolor": "#E5ECF6",
           "showlakes": true,
           "showland": true,
           "subunitcolor": "white"
          },
          "hoverlabel": {
           "align": "left"
          },
          "hovermode": "closest",
          "mapbox": {
           "style": "light"
          },
          "paper_bgcolor": "white",
          "plot_bgcolor": "#E5ECF6",
          "polar": {
           "angularaxis": {
            "gridcolor": "white",
            "linecolor": "white",
            "ticks": ""
           },
           "bgcolor": "#E5ECF6",
           "radialaxis": {
            "gridcolor": "white",
            "linecolor": "white",
            "ticks": ""
           }
          },
          "scene": {
           "xaxis": {
            "backgroundcolor": "#E5ECF6",
            "gridcolor": "white",
            "gridwidth": 2,
            "linecolor": "white",
            "showbackground": true,
            "ticks": "",
            "zerolinecolor": "white"
           },
           "yaxis": {
            "backgroundcolor": "#E5ECF6",
            "gridcolor": "white",
            "gridwidth": 2,
            "linecolor": "white",
            "showbackground": true,
            "ticks": "",
            "zerolinecolor": "white"
           },
           "zaxis": {
            "backgroundcolor": "#E5ECF6",
            "gridcolor": "white",
            "gridwidth": 2,
            "linecolor": "white",
            "showbackground": true,
            "ticks": "",
            "zerolinecolor": "white"
           }
          },
          "shapedefaults": {
           "line": {
            "color": "#2a3f5f"
           }
          },
          "ternary": {
           "aaxis": {
            "gridcolor": "white",
            "linecolor": "white",
            "ticks": ""
           },
           "baxis": {
            "gridcolor": "white",
            "linecolor": "white",
            "ticks": ""
           },
           "bgcolor": "#E5ECF6",
           "caxis": {
            "gridcolor": "white",
            "linecolor": "white",
            "ticks": ""
           }
          },
          "title": {
           "x": 0.05
          },
          "xaxis": {
           "automargin": true,
           "gridcolor": "white",
           "linecolor": "white",
           "ticks": "",
           "title": {
            "standoff": 15
           },
           "zerolinecolor": "white",
           "zerolinewidth": 2
          },
          "yaxis": {
           "automargin": true,
           "gridcolor": "white",
           "linecolor": "white",
           "ticks": "",
           "title": {
            "standoff": 15
           },
           "zerolinecolor": "white",
           "zerolinewidth": 2
          }
         }
        },
        "title": {
         "text": "Mean data of the RECONSTRUCTED ECG channel",
         "x": 0.5,
         "xanchor": "center",
         "y": 0.85,
         "yanchor": "top"
        },
        "xaxis": {
         "title": {
          "text": "Time in seconds"
         }
        },
        "yaxis": {
         "exponentformat": "e",
         "showexponent": "all",
         "title": {
          "text": "Artifact magnitude in V"
         }
        }
       }
      }
     },
     "metadata": {},
     "output_type": "display_data"
    },
    {
     "name": "stdout",
     "output_type": "stream",
     "text": [
      "___MEGqc___: mean_rwave_time: 0        -0.080\n",
      "1        -0.079\n",
      "2        -0.078\n",
      "3        -0.077\n",
      "4        -0.076\n",
      "          ...  \n",
      "119996      NaN\n",
      "119997      NaN\n",
      "119998      NaN\n",
      "119999      NaN\n",
      "120000      NaN\n",
      "Name: mean_rwave_time, Length: 120001, dtype: float64\n",
      "Reconstructing ECG signal from Magnetometers\n",
      "Setting up band-pass filter from 8 - 16 Hz\n",
      "\n",
      "FIR filter parameters\n",
      "---------------------\n",
      "Designing a two-pass forward and reverse, zero-phase, non-causal bandpass filter:\n",
      "- Windowed frequency-domain design (firwin2) method\n",
      "- Hann window\n",
      "- Lower passband edge: 8.00\n",
      "- Lower transition bandwidth: 0.50 Hz (-12 dB cutoff frequency: 7.75 Hz)\n",
      "- Upper passband edge: 16.00 Hz\n",
      "- Upper transition bandwidth: 0.50 Hz (-12 dB cutoff frequency: 16.25 Hz)\n",
      "- Filter length: 10000 samples (10.000 s)\n",
      "\n",
      "Number of ECG events detected : 195 (average pulse 97 / min.)\n",
      "Not setting metadata\n",
      "195 matching events found\n",
      "No baseline correction applied\n",
      "Using data from preloaded Raw for 195 events and 161 original time points ...\n",
      "0 bad epochs dropped\n",
      "___MEGqc___:  max_n_peaks_allowed_for_ch: 13\n",
      "t0_time_channels:  0.036000000000000004\n",
      "t0_time_mean:  [-0.068 -0.019  0.028  0.044  0.061]\n"
     ]
    },
    {
     "data": {
      "application/vnd.plotly.v1+json": {
       "config": {
        "plotlyServerURL": "https://plot.ly"
       },
       "data": [
        {
         "mode": "lines",
         "name": "mean_rwave_shifted",
         "type": "scatter",
         "x": [
          -0.08,
          -0.079,
          -0.078,
          -0.077,
          -0.076,
          -0.075,
          -0.074,
          -0.073,
          -0.07200000000000001,
          -0.07100000000000001,
          -0.07,
          -0.069,
          -0.068,
          -0.067,
          -0.066,
          -0.065,
          -0.064,
          -0.063,
          -0.062,
          -0.061,
          -0.06,
          -0.059,
          -0.058,
          -0.057,
          -0.056,
          -0.055,
          -0.054,
          -0.053000000000000005,
          -0.052000000000000005,
          -0.051000000000000004,
          -0.05,
          -0.049,
          -0.048,
          -0.047,
          -0.046,
          -0.045,
          -0.044,
          -0.043000000000000003,
          -0.042,
          -0.041,
          -0.04,
          -0.039,
          -0.038,
          -0.037,
          -0.036000000000000004,
          -0.035,
          -0.034,
          -0.033,
          -0.032,
          -0.031,
          -0.03,
          -0.028999999999999998,
          -0.027999999999999997,
          -0.027000000000000003,
          -0.026000000000000002,
          -0.025,
          -0.024,
          -0.023,
          -0.022,
          -0.020999999999999998,
          -0.020000000000000004,
          -0.019000000000000003,
          -0.018000000000000002,
          -0.017,
          -0.016,
          -0.015,
          -0.013999999999999999,
          -0.012999999999999998,
          -0.011999999999999997,
          -0.010999999999999996,
          -0.009999999999999995,
          -0.008999999999999994,
          -0.007999999999999993,
          -0.007000000000000006,
          -0.006000000000000005,
          -0.0050000000000000044,
          -0.0040000000000000036,
          -0.0030000000000000027,
          -0.0020000000000000018,
          -0.0010000000000000009,
          0,
          0.0010000000000000009,
          0.0020000000000000018,
          0.0030000000000000027,
          0.0040000000000000036,
          0.0050000000000000044,
          0.006000000000000005,
          0.007000000000000006,
          0.007999999999999993,
          0.008999999999999994,
          0.009999999999999995,
          0.010999999999999996,
          0.011999999999999997,
          0.012999999999999998,
          0.013999999999999999,
          0.015,
          0.016,
          0.017,
          0.018000000000000002,
          0.019000000000000003,
          0.020000000000000004,
          0.021000000000000005,
          0.022000000000000006,
          0.023000000000000007,
          0.024000000000000007,
          0.024999999999999994,
          0.025999999999999995,
          0.026999999999999996,
          0.027999999999999997,
          0.028999999999999998,
          0.03,
          0.031,
          0.032,
          0.033,
          0.034,
          0.035,
          0.036000000000000004,
          0.037000000000000005,
          0.038000000000000006,
          0.03900000000000001,
          0.039999999999999994,
          0.040999999999999995,
          0.041999999999999996,
          0.043,
          0.044,
          0.045,
          0.046,
          0.047,
          0.048,
          0.049,
          0.05,
          0.051000000000000004,
          0.052000000000000005,
          0.053000000000000005,
          0.054000000000000006,
          0.05500000000000001,
          0.05600000000000001,
          0.05700000000000001,
          0.05800000000000001,
          0.05900000000000001,
          0.06000000000000001,
          0.06100000000000001,
          0.06200000000000001,
          0.06300000000000001,
          0.06400000000000002,
          0.06499999999999999,
          0.06599999999999999,
          0.06699999999999999,
          0.06799999999999999,
          0.06899999999999999,
          0.06999999999999999,
          0.071,
          0.072,
          0.073,
          0.074,
          0.075,
          0.076,
          0.077,
          0.078,
          0.079,
          0.08
         ],
         "y": [
          -3.687667437602246e-15,
          -2.9543617648950762e-15,
          -2.3285622543232367e-15,
          -1.8198633731847054e-15,
          -1.4324397900919223e-15,
          -1.1648208103215513e-15,
          -1.009883293951583e-15,
          -9.550679919988303e-16,
          -9.82815476129258e-16,
          -1.071209050783469e-15,
          -1.1948035804437198e-15,
          -1.3256113898027471e-15,
          -1.434209629361958e-15,
          -1.490928036028149e-15,
          -1.4670721013258728e-15,
          -1.3361344729191451e-15,
          -1.074947074028149e-15,
          -6.647279718101391e-16,
          -9.19804248806206e-17,
          6.507933193772252e-16,
          1.564594209119778e-15,
          2.6436672797235105e-15,
          3.875494971327503e-15,
          5.24104693219364e-15,
          6.7152804386645165e-15,
          8.267875758169639e-15,
          9.864181496437993e-15,
          1.1466336580467128e-14,
          1.3034528378326374e-14,
          1.452834084140624e-14,
          1.5908142710043185e-14,
          1.7136463915134744e-14,
          1.8179308424564336e-14,
          1.900735393062559e-14,
          1.959699287760668e-14,
          1.9931175232191706e-14,
          2.0000020874789103e-14,
          1.980117824432178e-14,
          1.9339915556808987e-14,
          1.8628941155015412e-14,
          1.768795992535646e-14,
          1.6542982825610638e-14,
          1.5225415999880658e-14,
          1.3770964339853787e-14,
          1.221839135044378e-14,
          1.0608182516236435e-14,
          8.981162833195231e-15,
          7.377120634244105e-15,
          5.833489245480712e-15,
          4.3841353931563835e-15,
          3.0582987534186686e-15,
          1.87972078748931e-15,
          8.659932938546344e-16,
          2.814825377730059e-17,
          -6.294990904705103e-16,
          -1.1092520114218402e-15,
          -1.4196870225060744e-15,
          -1.5750792405940305e-15,
          -1.5946248585349423e-15,
          -1.5014948382917296e-15,
          -1.321760123830225e-15,
          -1.0832331761657016e-15,
          -8.142732849183669e-16,
          -5.426038225050538e-16,
          -2.9418837003387645e-16,
          -9.220952934465378e-17,
          4.38106089460503e-17,
          9.871572890308132e-17,
          6.222126474945758e-17,
          -7.079542755036292e-17,
          -3.0022816345286527e-16,
          -6.208965198980054e-16,
          -1.0229111328358665e-15,
          -1.4922304660880637e-15,
          -2.0113822833003687e-15,
          -2.5603167349534666e-15,
          -3.117353108815302e-15,
          -3.6601790653130204e-15,
          -4.166859699354744e-15,
          -4.61681407346875e-15,
          -4.9917189155118295e-15,
          -5.27630285735614e-15,
          -5.458999732112987e-15,
          -5.5324358115641175e-15,
          -5.493733169882591e-15,
          -5.3446192866206435e-15,
          -5.0913412121627444e-15,
          -4.744390766412433e-15,
          -4.318054988228858e-15,
          -3.829813082778423e-15,
          -3.299607145115238e-15,
          -2.7490187357338478e-15,
          -2.2003867677244353e-15,
          -1.6759040177904384e-15,
          -1.1967298431562684e-15,
          -7.821553889328554e-16,
          -4.488547869587481e-16,
          -2.1025171965009626e-16,
          -7.602544713809511e-17,
          -5.1774213933597706e-17,
          -1.3884713739741973e-16,
          -3.343485309461667e-16,
          -6.31311435470196e-16,
          -1.0190302238387572e-15,
          -1.4835357895784239e-15,
          -2.008191287078097e-15,
          -2.5743818732316325e-15,
          -3.1622685780605147e-15,
          -3.751574419630645e-15,
          -4.322370233985102e-15,
          -4.855828412460641e-15,
          -5.3349147675664024e-15,
          -5.744991971495577e-15,
          -6.074312267123207e-15,
          -6.314382238565828e-15,
          -6.460188114747955e-15,
          -6.510276112348713e-15,
          -6.4666884423099075e-15,
          -6.334761547364741e-15,
          -6.122798660678046e-15,
          -5.84163365507181e-15,
          -5.504107198340048e-15,
          -5.124479292624806e-15,
          -4.717804249922357e-15,
          -4.2992949855445156e-15,
          -3.88370319088432e-15,
          -3.4847405193822906e-15,
          -3.114563474510382e-15,
          -2.783341356377664e-15,
          -2.4989225692209635e-15,
          -2.2666100071410422e-15,
          -2.089051329193115e-15,
          -1.9662449247410435e-15,
          -1.895657471851327e-15,
          -1.8724444107869054e-15,
          -1.88976057747546e-15,
          -4.779118806617302e-15,
          -5.750274678788872e-15,
          -6.745612001445354e-15,
          -7.742672032757072e-15,
          -8.717785940743698e-15,
          -9.646794035698482e-15,
          -1.0505817937009401e-14,
          -1.1272058322926086e-14,
          -1.1924588566306009e-14,
          -1.2445113364772046e-14,
          -1.2818661527867198e-14,
          -1.3034183433103592e-14,
          -1.3085026298559018e-14,
          -1.296926427672639e-14,
          -1.2689865332260664e-14,
          -1.2254682753074946e-14,
          -1.1676265742334516e-14,
          -1.0971490593350942e-14,
          -1.0161021177975696e-14,
          -9.26861458384955e-15,
          -8.320294415517161e-15,
          -7.343420237348809e-15,
          -6.3656866132593864e-15,
          -5.414088954794334e-15,
          -4.513895736147328e-15
         ]
        },
        {
         "mode": "lines",
         "name": "mean_rwave",
         "type": "scatter",
         "x": [
          -0.08,
          -0.079,
          -0.078,
          -0.077,
          -0.076,
          -0.075,
          -0.074,
          -0.073,
          -0.07200000000000001,
          -0.07100000000000001,
          -0.07,
          -0.069,
          -0.068,
          -0.067,
          -0.066,
          -0.065,
          -0.064,
          -0.063,
          -0.062,
          -0.061,
          -0.06,
          -0.059,
          -0.058,
          -0.057,
          -0.056,
          -0.055,
          -0.054,
          -0.053000000000000005,
          -0.052000000000000005,
          -0.051000000000000004,
          -0.05,
          -0.049,
          -0.048,
          -0.047,
          -0.046,
          -0.045,
          -0.044,
          -0.043000000000000003,
          -0.042,
          -0.041,
          -0.04,
          -0.039,
          -0.038,
          -0.037,
          -0.036000000000000004,
          -0.035,
          -0.034,
          -0.033,
          -0.032,
          -0.031,
          -0.03,
          -0.028999999999999998,
          -0.027999999999999997,
          -0.027000000000000003,
          -0.026000000000000002,
          -0.025,
          -0.024,
          -0.023,
          -0.022,
          -0.020999999999999998,
          -0.020000000000000004,
          -0.019000000000000003,
          -0.018000000000000002,
          -0.017,
          -0.016,
          -0.015,
          -0.013999999999999999,
          -0.012999999999999998,
          -0.011999999999999997,
          -0.010999999999999996,
          -0.009999999999999995,
          -0.008999999999999994,
          -0.007999999999999993,
          -0.007000000000000006,
          -0.006000000000000005,
          -0.0050000000000000044,
          -0.0040000000000000036,
          -0.0030000000000000027,
          -0.0020000000000000018,
          -0.0010000000000000009,
          0,
          0.0010000000000000009,
          0.0020000000000000018,
          0.0030000000000000027,
          0.0040000000000000036,
          0.0050000000000000044,
          0.006000000000000005,
          0.007000000000000006,
          0.007999999999999993,
          0.008999999999999994,
          0.009999999999999995,
          0.010999999999999996,
          0.011999999999999997,
          0.012999999999999998,
          0.013999999999999999,
          0.015,
          0.016,
          0.017,
          0.018000000000000002,
          0.019000000000000003,
          0.020000000000000004,
          0.021000000000000005,
          0.022000000000000006,
          0.023000000000000007,
          0.024000000000000007,
          0.024999999999999994,
          0.025999999999999995,
          0.026999999999999996,
          0.027999999999999997,
          0.028999999999999998,
          0.03,
          0.031,
          0.032,
          0.033,
          0.034,
          0.035,
          0.036000000000000004,
          0.037000000000000005,
          0.038000000000000006,
          0.03900000000000001,
          0.039999999999999994,
          0.040999999999999995,
          0.041999999999999996,
          0.043,
          0.044,
          0.045,
          0.046,
          0.047,
          0.048,
          0.049,
          0.05,
          0.051000000000000004,
          0.052000000000000005,
          0.053000000000000005,
          0.054000000000000006,
          0.05500000000000001,
          0.05600000000000001,
          0.05700000000000001,
          0.05800000000000001,
          0.05900000000000001,
          0.06000000000000001,
          0.06100000000000001,
          0.06200000000000001,
          0.06300000000000001,
          0.06400000000000002,
          0.06499999999999999,
          0.06599999999999999,
          0.06699999999999999,
          0.06799999999999999,
          0.06899999999999999,
          0.06999999999999999,
          0.071,
          0.072,
          0.073,
          0.074,
          0.075,
          0.076,
          0.077,
          0.078,
          0.079,
          0.08
         ],
         "y": [
          -4.779118806617302e-15,
          -5.750274678788872e-15,
          -6.745612001445354e-15,
          -7.742672032757072e-15,
          -8.717785940743698e-15,
          -9.646794035698482e-15,
          -1.0505817937009401e-14,
          -1.1272058322926086e-14,
          -1.1924588566306009e-14,
          -1.2445113364772046e-14,
          -1.2818661527867198e-14,
          -1.3034183433103592e-14,
          -1.3085026298559018e-14,
          -1.296926427672639e-14,
          -1.2689865332260664e-14,
          -1.2254682753074946e-14,
          -1.1676265742334516e-14,
          -1.0971490593350942e-14,
          -1.0161021177975696e-14,
          -9.26861458384955e-15,
          -8.320294415517161e-15,
          -7.343420237348809e-15,
          -6.3656866132593864e-15,
          -5.414088954794334e-15,
          -4.513895736147328e-15,
          -3.687667437602246e-15,
          -2.9543617648950762e-15,
          -2.3285622543232367e-15,
          -1.8198633731847054e-15,
          -1.4324397900919223e-15,
          -1.1648208103215513e-15,
          -1.009883293951583e-15,
          -9.550679919988303e-16,
          -9.82815476129258e-16,
          -1.071209050783469e-15,
          -1.1948035804437198e-15,
          -1.3256113898027471e-15,
          -1.434209629361958e-15,
          -1.490928036028149e-15,
          -1.4670721013258728e-15,
          -1.3361344729191451e-15,
          -1.074947074028149e-15,
          -6.647279718101391e-16,
          -9.19804248806206e-17,
          6.507933193772252e-16,
          1.564594209119778e-15,
          2.6436672797235105e-15,
          3.875494971327503e-15,
          5.24104693219364e-15,
          6.7152804386645165e-15,
          8.267875758169639e-15,
          9.864181496437993e-15,
          1.1466336580467128e-14,
          1.3034528378326374e-14,
          1.452834084140624e-14,
          1.5908142710043185e-14,
          1.7136463915134744e-14,
          1.8179308424564336e-14,
          1.900735393062559e-14,
          1.959699287760668e-14,
          1.9931175232191706e-14,
          2.0000020874789103e-14,
          1.980117824432178e-14,
          1.9339915556808987e-14,
          1.8628941155015412e-14,
          1.768795992535646e-14,
          1.6542982825610638e-14,
          1.5225415999880658e-14,
          1.3770964339853787e-14,
          1.221839135044378e-14,
          1.0608182516236435e-14,
          8.981162833195231e-15,
          7.377120634244105e-15,
          5.833489245480712e-15,
          4.3841353931563835e-15,
          3.0582987534186686e-15,
          1.87972078748931e-15,
          8.659932938546344e-16,
          2.814825377730059e-17,
          -6.294990904705103e-16,
          -1.1092520114218402e-15,
          -1.4196870225060744e-15,
          -1.5750792405940305e-15,
          -1.5946248585349423e-15,
          -1.5014948382917296e-15,
          -1.321760123830225e-15,
          -1.0832331761657016e-15,
          -8.142732849183669e-16,
          -5.426038225050538e-16,
          -2.9418837003387645e-16,
          -9.220952934465378e-17,
          4.38106089460503e-17,
          9.871572890308132e-17,
          6.222126474945758e-17,
          -7.079542755036292e-17,
          -3.0022816345286527e-16,
          -6.208965198980054e-16,
          -1.0229111328358665e-15,
          -1.4922304660880637e-15,
          -2.0113822833003687e-15,
          -2.5603167349534666e-15,
          -3.117353108815302e-15,
          -3.6601790653130204e-15,
          -4.166859699354744e-15,
          -4.61681407346875e-15,
          -4.9917189155118295e-15,
          -5.27630285735614e-15,
          -5.458999732112987e-15,
          -5.5324358115641175e-15,
          -5.493733169882591e-15,
          -5.3446192866206435e-15,
          -5.0913412121627444e-15,
          -4.744390766412433e-15,
          -4.318054988228858e-15,
          -3.829813082778423e-15,
          -3.299607145115238e-15,
          -2.7490187357338478e-15,
          -2.2003867677244353e-15,
          -1.6759040177904384e-15,
          -1.1967298431562684e-15,
          -7.821553889328554e-16,
          -4.488547869587481e-16,
          -2.1025171965009626e-16,
          -7.602544713809511e-17,
          -5.1774213933597706e-17,
          -1.3884713739741973e-16,
          -3.343485309461667e-16,
          -6.31311435470196e-16,
          -1.0190302238387572e-15,
          -1.4835357895784239e-15,
          -2.008191287078097e-15,
          -2.5743818732316325e-15,
          -3.1622685780605147e-15,
          -3.751574419630645e-15,
          -4.322370233985102e-15,
          -4.855828412460641e-15,
          -5.3349147675664024e-15,
          -5.744991971495577e-15,
          -6.074312267123207e-15,
          -6.314382238565828e-15,
          -6.460188114747955e-15,
          -6.510276112348713e-15,
          -6.4666884423099075e-15,
          -6.334761547364741e-15,
          -6.122798660678046e-15,
          -5.84163365507181e-15,
          -5.504107198340048e-15,
          -5.124479292624806e-15,
          -4.717804249922357e-15,
          -4.2992949855445156e-15,
          -3.88370319088432e-15,
          -3.4847405193822906e-15,
          -3.114563474510382e-15,
          -2.783341356377664e-15,
          -2.4989225692209635e-15,
          -2.2666100071410422e-15,
          -2.089051329193115e-15,
          -1.9662449247410435e-15,
          -1.895657471851327e-15,
          -1.8724444107869054e-15,
          -1.88976057747546e-15
         ]
        }
       ],
       "layout": {
        "template": {
         "data": {
          "bar": [
           {
            "error_x": {
             "color": "#2a3f5f"
            },
            "error_y": {
             "color": "#2a3f5f"
            },
            "marker": {
             "line": {
              "color": "#E5ECF6",
              "width": 0.5
             },
             "pattern": {
              "fillmode": "overlay",
              "size": 10,
              "solidity": 0.2
             }
            },
            "type": "bar"
           }
          ],
          "barpolar": [
           {
            "marker": {
             "line": {
              "color": "#E5ECF6",
              "width": 0.5
             },
             "pattern": {
              "fillmode": "overlay",
              "size": 10,
              "solidity": 0.2
             }
            },
            "type": "barpolar"
           }
          ],
          "carpet": [
           {
            "aaxis": {
             "endlinecolor": "#2a3f5f",
             "gridcolor": "white",
             "linecolor": "white",
             "minorgridcolor": "white",
             "startlinecolor": "#2a3f5f"
            },
            "baxis": {
             "endlinecolor": "#2a3f5f",
             "gridcolor": "white",
             "linecolor": "white",
             "minorgridcolor": "white",
             "startlinecolor": "#2a3f5f"
            },
            "type": "carpet"
           }
          ],
          "choropleth": [
           {
            "colorbar": {
             "outlinewidth": 0,
             "ticks": ""
            },
            "type": "choropleth"
           }
          ],
          "contour": [
           {
            "colorbar": {
             "outlinewidth": 0,
             "ticks": ""
            },
            "colorscale": [
             [
              0,
              "#0d0887"
             ],
             [
              0.1111111111111111,
              "#46039f"
             ],
             [
              0.2222222222222222,
              "#7201a8"
             ],
             [
              0.3333333333333333,
              "#9c179e"
             ],
             [
              0.4444444444444444,
              "#bd3786"
             ],
             [
              0.5555555555555556,
              "#d8576b"
             ],
             [
              0.6666666666666666,
              "#ed7953"
             ],
             [
              0.7777777777777778,
              "#fb9f3a"
             ],
             [
              0.8888888888888888,
              "#fdca26"
             ],
             [
              1,
              "#f0f921"
             ]
            ],
            "type": "contour"
           }
          ],
          "contourcarpet": [
           {
            "colorbar": {
             "outlinewidth": 0,
             "ticks": ""
            },
            "type": "contourcarpet"
           }
          ],
          "heatmap": [
           {
            "colorbar": {
             "outlinewidth": 0,
             "ticks": ""
            },
            "colorscale": [
             [
              0,
              "#0d0887"
             ],
             [
              0.1111111111111111,
              "#46039f"
             ],
             [
              0.2222222222222222,
              "#7201a8"
             ],
             [
              0.3333333333333333,
              "#9c179e"
             ],
             [
              0.4444444444444444,
              "#bd3786"
             ],
             [
              0.5555555555555556,
              "#d8576b"
             ],
             [
              0.6666666666666666,
              "#ed7953"
             ],
             [
              0.7777777777777778,
              "#fb9f3a"
             ],
             [
              0.8888888888888888,
              "#fdca26"
             ],
             [
              1,
              "#f0f921"
             ]
            ],
            "type": "heatmap"
           }
          ],
          "heatmapgl": [
           {
            "colorbar": {
             "outlinewidth": 0,
             "ticks": ""
            },
            "colorscale": [
             [
              0,
              "#0d0887"
             ],
             [
              0.1111111111111111,
              "#46039f"
             ],
             [
              0.2222222222222222,
              "#7201a8"
             ],
             [
              0.3333333333333333,
              "#9c179e"
             ],
             [
              0.4444444444444444,
              "#bd3786"
             ],
             [
              0.5555555555555556,
              "#d8576b"
             ],
             [
              0.6666666666666666,
              "#ed7953"
             ],
             [
              0.7777777777777778,
              "#fb9f3a"
             ],
             [
              0.8888888888888888,
              "#fdca26"
             ],
             [
              1,
              "#f0f921"
             ]
            ],
            "type": "heatmapgl"
           }
          ],
          "histogram": [
           {
            "marker": {
             "pattern": {
              "fillmode": "overlay",
              "size": 10,
              "solidity": 0.2
             }
            },
            "type": "histogram"
           }
          ],
          "histogram2d": [
           {
            "colorbar": {
             "outlinewidth": 0,
             "ticks": ""
            },
            "colorscale": [
             [
              0,
              "#0d0887"
             ],
             [
              0.1111111111111111,
              "#46039f"
             ],
             [
              0.2222222222222222,
              "#7201a8"
             ],
             [
              0.3333333333333333,
              "#9c179e"
             ],
             [
              0.4444444444444444,
              "#bd3786"
             ],
             [
              0.5555555555555556,
              "#d8576b"
             ],
             [
              0.6666666666666666,
              "#ed7953"
             ],
             [
              0.7777777777777778,
              "#fb9f3a"
             ],
             [
              0.8888888888888888,
              "#fdca26"
             ],
             [
              1,
              "#f0f921"
             ]
            ],
            "type": "histogram2d"
           }
          ],
          "histogram2dcontour": [
           {
            "colorbar": {
             "outlinewidth": 0,
             "ticks": ""
            },
            "colorscale": [
             [
              0,
              "#0d0887"
             ],
             [
              0.1111111111111111,
              "#46039f"
             ],
             [
              0.2222222222222222,
              "#7201a8"
             ],
             [
              0.3333333333333333,
              "#9c179e"
             ],
             [
              0.4444444444444444,
              "#bd3786"
             ],
             [
              0.5555555555555556,
              "#d8576b"
             ],
             [
              0.6666666666666666,
              "#ed7953"
             ],
             [
              0.7777777777777778,
              "#fb9f3a"
             ],
             [
              0.8888888888888888,
              "#fdca26"
             ],
             [
              1,
              "#f0f921"
             ]
            ],
            "type": "histogram2dcontour"
           }
          ],
          "mesh3d": [
           {
            "colorbar": {
             "outlinewidth": 0,
             "ticks": ""
            },
            "type": "mesh3d"
           }
          ],
          "parcoords": [
           {
            "line": {
             "colorbar": {
              "outlinewidth": 0,
              "ticks": ""
             }
            },
            "type": "parcoords"
           }
          ],
          "pie": [
           {
            "automargin": true,
            "type": "pie"
           }
          ],
          "scatter": [
           {
            "fillpattern": {
             "fillmode": "overlay",
             "size": 10,
             "solidity": 0.2
            },
            "type": "scatter"
           }
          ],
          "scatter3d": [
           {
            "line": {
             "colorbar": {
              "outlinewidth": 0,
              "ticks": ""
             }
            },
            "marker": {
             "colorbar": {
              "outlinewidth": 0,
              "ticks": ""
             }
            },
            "type": "scatter3d"
           }
          ],
          "scattercarpet": [
           {
            "marker": {
             "colorbar": {
              "outlinewidth": 0,
              "ticks": ""
             }
            },
            "type": "scattercarpet"
           }
          ],
          "scattergeo": [
           {
            "marker": {
             "colorbar": {
              "outlinewidth": 0,
              "ticks": ""
             }
            },
            "type": "scattergeo"
           }
          ],
          "scattergl": [
           {
            "marker": {
             "colorbar": {
              "outlinewidth": 0,
              "ticks": ""
             }
            },
            "type": "scattergl"
           }
          ],
          "scattermapbox": [
           {
            "marker": {
             "colorbar": {
              "outlinewidth": 0,
              "ticks": ""
             }
            },
            "type": "scattermapbox"
           }
          ],
          "scatterpolar": [
           {
            "marker": {
             "colorbar": {
              "outlinewidth": 0,
              "ticks": ""
             }
            },
            "type": "scatterpolar"
           }
          ],
          "scatterpolargl": [
           {
            "marker": {
             "colorbar": {
              "outlinewidth": 0,
              "ticks": ""
             }
            },
            "type": "scatterpolargl"
           }
          ],
          "scatterternary": [
           {
            "marker": {
             "colorbar": {
              "outlinewidth": 0,
              "ticks": ""
             }
            },
            "type": "scatterternary"
           }
          ],
          "surface": [
           {
            "colorbar": {
             "outlinewidth": 0,
             "ticks": ""
            },
            "colorscale": [
             [
              0,
              "#0d0887"
             ],
             [
              0.1111111111111111,
              "#46039f"
             ],
             [
              0.2222222222222222,
              "#7201a8"
             ],
             [
              0.3333333333333333,
              "#9c179e"
             ],
             [
              0.4444444444444444,
              "#bd3786"
             ],
             [
              0.5555555555555556,
              "#d8576b"
             ],
             [
              0.6666666666666666,
              "#ed7953"
             ],
             [
              0.7777777777777778,
              "#fb9f3a"
             ],
             [
              0.8888888888888888,
              "#fdca26"
             ],
             [
              1,
              "#f0f921"
             ]
            ],
            "type": "surface"
           }
          ],
          "table": [
           {
            "cells": {
             "fill": {
              "color": "#EBF0F8"
             },
             "line": {
              "color": "white"
             }
            },
            "header": {
             "fill": {
              "color": "#C8D4E3"
             },
             "line": {
              "color": "white"
             }
            },
            "type": "table"
           }
          ]
         },
         "layout": {
          "annotationdefaults": {
           "arrowcolor": "#2a3f5f",
           "arrowhead": 0,
           "arrowwidth": 1
          },
          "autotypenumbers": "strict",
          "coloraxis": {
           "colorbar": {
            "outlinewidth": 0,
            "ticks": ""
           }
          },
          "colorscale": {
           "diverging": [
            [
             0,
             "#8e0152"
            ],
            [
             0.1,
             "#c51b7d"
            ],
            [
             0.2,
             "#de77ae"
            ],
            [
             0.3,
             "#f1b6da"
            ],
            [
             0.4,
             "#fde0ef"
            ],
            [
             0.5,
             "#f7f7f7"
            ],
            [
             0.6,
             "#e6f5d0"
            ],
            [
             0.7,
             "#b8e186"
            ],
            [
             0.8,
             "#7fbc41"
            ],
            [
             0.9,
             "#4d9221"
            ],
            [
             1,
             "#276419"
            ]
           ],
           "sequential": [
            [
             0,
             "#0d0887"
            ],
            [
             0.1111111111111111,
             "#46039f"
            ],
            [
             0.2222222222222222,
             "#7201a8"
            ],
            [
             0.3333333333333333,
             "#9c179e"
            ],
            [
             0.4444444444444444,
             "#bd3786"
            ],
            [
             0.5555555555555556,
             "#d8576b"
            ],
            [
             0.6666666666666666,
             "#ed7953"
            ],
            [
             0.7777777777777778,
             "#fb9f3a"
            ],
            [
             0.8888888888888888,
             "#fdca26"
            ],
            [
             1,
             "#f0f921"
            ]
           ],
           "sequentialminus": [
            [
             0,
             "#0d0887"
            ],
            [
             0.1111111111111111,
             "#46039f"
            ],
            [
             0.2222222222222222,
             "#7201a8"
            ],
            [
             0.3333333333333333,
             "#9c179e"
            ],
            [
             0.4444444444444444,
             "#bd3786"
            ],
            [
             0.5555555555555556,
             "#d8576b"
            ],
            [
             0.6666666666666666,
             "#ed7953"
            ],
            [
             0.7777777777777778,
             "#fb9f3a"
            ],
            [
             0.8888888888888888,
             "#fdca26"
            ],
            [
             1,
             "#f0f921"
            ]
           ]
          },
          "colorway": [
           "#636efa",
           "#EF553B",
           "#00cc96",
           "#ab63fa",
           "#FFA15A",
           "#19d3f3",
           "#FF6692",
           "#B6E880",
           "#FF97FF",
           "#FECB52"
          ],
          "font": {
           "color": "#2a3f5f"
          },
          "geo": {
           "bgcolor": "white",
           "lakecolor": "white",
           "landcolor": "#E5ECF6",
           "showlakes": true,
           "showland": true,
           "subunitcolor": "white"
          },
          "hoverlabel": {
           "align": "left"
          },
          "hovermode": "closest",
          "mapbox": {
           "style": "light"
          },
          "paper_bgcolor": "white",
          "plot_bgcolor": "#E5ECF6",
          "polar": {
           "angularaxis": {
            "gridcolor": "white",
            "linecolor": "white",
            "ticks": ""
           },
           "bgcolor": "#E5ECF6",
           "radialaxis": {
            "gridcolor": "white",
            "linecolor": "white",
            "ticks": ""
           }
          },
          "scene": {
           "xaxis": {
            "backgroundcolor": "#E5ECF6",
            "gridcolor": "white",
            "gridwidth": 2,
            "linecolor": "white",
            "showbackground": true,
            "ticks": "",
            "zerolinecolor": "white"
           },
           "yaxis": {
            "backgroundcolor": "#E5ECF6",
            "gridcolor": "white",
            "gridwidth": 2,
            "linecolor": "white",
            "showbackground": true,
            "ticks": "",
            "zerolinecolor": "white"
           },
           "zaxis": {
            "backgroundcolor": "#E5ECF6",
            "gridcolor": "white",
            "gridwidth": 2,
            "linecolor": "white",
            "showbackground": true,
            "ticks": "",
            "zerolinecolor": "white"
           }
          },
          "shapedefaults": {
           "line": {
            "color": "#2a3f5f"
           }
          },
          "ternary": {
           "aaxis": {
            "gridcolor": "white",
            "linecolor": "white",
            "ticks": ""
           },
           "baxis": {
            "gridcolor": "white",
            "linecolor": "white",
            "ticks": ""
           },
           "bgcolor": "#E5ECF6",
           "caxis": {
            "gridcolor": "white",
            "linecolor": "white",
            "ticks": ""
           }
          },
          "title": {
           "x": 0.05
          },
          "xaxis": {
           "automargin": true,
           "gridcolor": "white",
           "linecolor": "white",
           "ticks": "",
           "title": {
            "standoff": 15
           },
           "zerolinecolor": "white",
           "zerolinewidth": 2
          },
          "yaxis": {
           "automargin": true,
           "gridcolor": "white",
           "linecolor": "white",
           "ticks": "",
           "title": {
            "standoff": 15
           },
           "zerolinecolor": "white",
           "zerolinewidth": 2
          }
         }
        }
       }
      }
     },
     "metadata": {},
     "output_type": "display_data"
    },
    {
     "name": "stdout",
     "output_type": "stream",
     "text": [
      "Reconstructing ECG signal from Magnetometers\n",
      "Setting up band-pass filter from 8 - 16 Hz\n",
      "\n",
      "FIR filter parameters\n",
      "---------------------\n",
      "Designing a two-pass forward and reverse, zero-phase, non-causal bandpass filter:\n",
      "- Windowed frequency-domain design (firwin2) method\n",
      "- Hann window\n",
      "- Lower passband edge: 8.00\n",
      "- Lower transition bandwidth: 0.50 Hz (-12 dB cutoff frequency: 7.75 Hz)\n",
      "- Upper passband edge: 16.00 Hz\n",
      "- Upper transition bandwidth: 0.50 Hz (-12 dB cutoff frequency: 16.25 Hz)\n",
      "- Filter length: 10000 samples (10.000 s)\n",
      "\n",
      "Number of ECG events detected : 195 (average pulse 97 / min.)\n",
      "Not setting metadata\n",
      "195 matching events found\n",
      "No baseline correction applied\n",
      "Using data from preloaded Raw for 195 events and 161 original time points ...\n",
      "0 bad epochs dropped\n",
      "___MEGqc___:  max_n_peaks_allowed_for_ch: 13\n",
      "t0_time_channels:  0.05700000000000001\n",
      "t0_time_mean:  [-0.068 -0.019  0.028  0.044  0.061]\n"
     ]
    },
    {
     "data": {
      "application/vnd.plotly.v1+json": {
       "config": {
        "plotlyServerURL": "https://plot.ly"
       },
       "data": [
        {
         "mode": "lines",
         "name": "mean_rwave_shifted",
         "type": "scatter",
         "x": [
          -0.08,
          -0.079,
          -0.078,
          -0.077,
          -0.076,
          -0.075,
          -0.074,
          -0.073,
          -0.07200000000000001,
          -0.07100000000000001,
          -0.07,
          -0.069,
          -0.068,
          -0.067,
          -0.066,
          -0.065,
          -0.064,
          -0.063,
          -0.062,
          -0.061,
          -0.06,
          -0.059,
          -0.058,
          -0.057,
          -0.056,
          -0.055,
          -0.054,
          -0.053000000000000005,
          -0.052000000000000005,
          -0.051000000000000004,
          -0.05,
          -0.049,
          -0.048,
          -0.047,
          -0.046,
          -0.045,
          -0.044,
          -0.043000000000000003,
          -0.042,
          -0.041,
          -0.04,
          -0.039,
          -0.038,
          -0.037,
          -0.036000000000000004,
          -0.035,
          -0.034,
          -0.033,
          -0.032,
          -0.031,
          -0.03,
          -0.028999999999999998,
          -0.027999999999999997,
          -0.027000000000000003,
          -0.026000000000000002,
          -0.025,
          -0.024,
          -0.023,
          -0.022,
          -0.020999999999999998,
          -0.020000000000000004,
          -0.019000000000000003,
          -0.018000000000000002,
          -0.017,
          -0.016,
          -0.015,
          -0.013999999999999999,
          -0.012999999999999998,
          -0.011999999999999997,
          -0.010999999999999996,
          -0.009999999999999995,
          -0.008999999999999994,
          -0.007999999999999993,
          -0.007000000000000006,
          -0.006000000000000005,
          -0.0050000000000000044,
          -0.0040000000000000036,
          -0.0030000000000000027,
          -0.0020000000000000018,
          -0.0010000000000000009,
          0,
          0.0010000000000000009,
          0.0020000000000000018,
          0.0030000000000000027,
          0.0040000000000000036,
          0.0050000000000000044,
          0.006000000000000005,
          0.007000000000000006,
          0.007999999999999993,
          0.008999999999999994,
          0.009999999999999995,
          0.010999999999999996,
          0.011999999999999997,
          0.012999999999999998,
          0.013999999999999999,
          0.015,
          0.016,
          0.017,
          0.018000000000000002,
          0.019000000000000003,
          0.020000000000000004,
          0.021000000000000005,
          0.022000000000000006,
          0.023000000000000007,
          0.024000000000000007,
          0.024999999999999994,
          0.025999999999999995,
          0.026999999999999996,
          0.027999999999999997,
          0.028999999999999998,
          0.03,
          0.031,
          0.032,
          0.033,
          0.034,
          0.035,
          0.036000000000000004,
          0.037000000000000005,
          0.038000000000000006,
          0.03900000000000001,
          0.039999999999999994,
          0.040999999999999995,
          0.041999999999999996,
          0.043,
          0.044,
          0.045,
          0.046,
          0.047,
          0.048,
          0.049,
          0.05,
          0.051000000000000004,
          0.052000000000000005,
          0.053000000000000005,
          0.054000000000000006,
          0.05500000000000001,
          0.05600000000000001,
          0.05700000000000001,
          0.05800000000000001,
          0.05900000000000001,
          0.06000000000000001,
          0.06100000000000001,
          0.06200000000000001,
          0.06300000000000001,
          0.06400000000000002,
          0.06499999999999999,
          0.06599999999999999,
          0.06699999999999999,
          0.06799999999999999,
          0.06899999999999999,
          0.06999999999999999,
          0.071,
          0.072,
          0.073,
          0.074,
          0.075,
          0.076,
          0.077,
          0.078,
          0.079,
          0.08
         ],
         "y": [
          -8.717785940743698e-15,
          -9.646794035698482e-15,
          -1.0505817937009401e-14,
          -1.1272058322926086e-14,
          -1.1924588566306009e-14,
          -1.2445113364772046e-14,
          -1.2818661527867198e-14,
          -1.3034183433103592e-14,
          -1.3085026298559018e-14,
          -1.296926427672639e-14,
          -1.2689865332260664e-14,
          -1.2254682753074946e-14,
          -1.1676265742334516e-14,
          -1.0971490593350942e-14,
          -1.0161021177975696e-14,
          -9.26861458384955e-15,
          -8.320294415517161e-15,
          -7.343420237348809e-15,
          -6.3656866132593864e-15,
          -5.414088954794334e-15,
          -4.513895736147328e-15,
          -3.687667437602246e-15,
          -2.9543617648950762e-15,
          -2.3285622543232367e-15,
          -1.8198633731847054e-15,
          -1.4324397900919223e-15,
          -1.1648208103215513e-15,
          -1.009883293951583e-15,
          -9.550679919988303e-16,
          -9.82815476129258e-16,
          -1.071209050783469e-15,
          -1.1948035804437198e-15,
          -1.3256113898027471e-15,
          -1.434209629361958e-15,
          -1.490928036028149e-15,
          -1.4670721013258728e-15,
          -1.3361344729191451e-15,
          -1.074947074028149e-15,
          -6.647279718101391e-16,
          -9.19804248806206e-17,
          6.507933193772252e-16,
          1.564594209119778e-15,
          2.6436672797235105e-15,
          3.875494971327503e-15,
          5.24104693219364e-15,
          6.7152804386645165e-15,
          8.267875758169639e-15,
          9.864181496437993e-15,
          1.1466336580467128e-14,
          1.3034528378326374e-14,
          1.452834084140624e-14,
          1.5908142710043185e-14,
          1.7136463915134744e-14,
          1.8179308424564336e-14,
          1.900735393062559e-14,
          1.959699287760668e-14,
          1.9931175232191706e-14,
          2.0000020874789103e-14,
          1.980117824432178e-14,
          1.9339915556808987e-14,
          1.8628941155015412e-14,
          1.768795992535646e-14,
          1.6542982825610638e-14,
          1.5225415999880658e-14,
          1.3770964339853787e-14,
          1.221839135044378e-14,
          1.0608182516236435e-14,
          8.981162833195231e-15,
          7.377120634244105e-15,
          5.833489245480712e-15,
          4.3841353931563835e-15,
          3.0582987534186686e-15,
          1.87972078748931e-15,
          8.659932938546344e-16,
          2.814825377730059e-17,
          -6.294990904705103e-16,
          -1.1092520114218402e-15,
          -1.4196870225060744e-15,
          -1.5750792405940305e-15,
          -1.5946248585349423e-15,
          -1.5014948382917296e-15,
          -1.321760123830225e-15,
          -1.0832331761657016e-15,
          -8.142732849183669e-16,
          -5.426038225050538e-16,
          -2.9418837003387645e-16,
          -9.220952934465378e-17,
          4.38106089460503e-17,
          9.871572890308132e-17,
          6.222126474945758e-17,
          -7.079542755036292e-17,
          -3.0022816345286527e-16,
          -6.208965198980054e-16,
          -1.0229111328358665e-15,
          -1.4922304660880637e-15,
          -2.0113822833003687e-15,
          -2.5603167349534666e-15,
          -3.117353108815302e-15,
          -3.6601790653130204e-15,
          -4.166859699354744e-15,
          -4.61681407346875e-15,
          -4.9917189155118295e-15,
          -5.27630285735614e-15,
          -5.458999732112987e-15,
          -5.5324358115641175e-15,
          -5.493733169882591e-15,
          -5.3446192866206435e-15,
          -5.0913412121627444e-15,
          -4.744390766412433e-15,
          -4.318054988228858e-15,
          -3.829813082778423e-15,
          -3.299607145115238e-15,
          -2.7490187357338478e-15,
          -2.2003867677244353e-15,
          -1.6759040177904384e-15,
          -1.1967298431562684e-15,
          -7.821553889328554e-16,
          -4.488547869587481e-16,
          -2.1025171965009626e-16,
          -7.602544713809511e-17,
          -5.1774213933597706e-17,
          -1.3884713739741973e-16,
          -3.343485309461667e-16,
          -6.31311435470196e-16,
          -1.0190302238387572e-15,
          -1.4835357895784239e-15,
          -2.008191287078097e-15,
          -2.5743818732316325e-15,
          -3.1622685780605147e-15,
          -3.751574419630645e-15,
          -4.322370233985102e-15,
          -4.855828412460641e-15,
          -5.3349147675664024e-15,
          -5.744991971495577e-15,
          -6.074312267123207e-15,
          -6.314382238565828e-15,
          -6.460188114747955e-15,
          -6.510276112348713e-15,
          -6.4666884423099075e-15,
          -6.334761547364741e-15,
          -6.122798660678046e-15,
          -5.84163365507181e-15,
          -5.504107198340048e-15,
          -5.124479292624806e-15,
          -4.717804249922357e-15,
          -4.2992949855445156e-15,
          -3.88370319088432e-15,
          -3.4847405193822906e-15,
          -3.114563474510382e-15,
          -2.783341356377664e-15,
          -2.4989225692209635e-15,
          -2.2666100071410422e-15,
          -2.089051329193115e-15,
          -1.9662449247410435e-15,
          -1.895657471851327e-15,
          -1.8724444107869054e-15,
          -1.88976057747546e-15,
          -4.779118806617302e-15,
          -5.750274678788872e-15,
          -6.745612001445354e-15,
          -7.742672032757072e-15
         ]
        },
        {
         "mode": "lines",
         "name": "mean_rwave",
         "type": "scatter",
         "x": [
          -0.08,
          -0.079,
          -0.078,
          -0.077,
          -0.076,
          -0.075,
          -0.074,
          -0.073,
          -0.07200000000000001,
          -0.07100000000000001,
          -0.07,
          -0.069,
          -0.068,
          -0.067,
          -0.066,
          -0.065,
          -0.064,
          -0.063,
          -0.062,
          -0.061,
          -0.06,
          -0.059,
          -0.058,
          -0.057,
          -0.056,
          -0.055,
          -0.054,
          -0.053000000000000005,
          -0.052000000000000005,
          -0.051000000000000004,
          -0.05,
          -0.049,
          -0.048,
          -0.047,
          -0.046,
          -0.045,
          -0.044,
          -0.043000000000000003,
          -0.042,
          -0.041,
          -0.04,
          -0.039,
          -0.038,
          -0.037,
          -0.036000000000000004,
          -0.035,
          -0.034,
          -0.033,
          -0.032,
          -0.031,
          -0.03,
          -0.028999999999999998,
          -0.027999999999999997,
          -0.027000000000000003,
          -0.026000000000000002,
          -0.025,
          -0.024,
          -0.023,
          -0.022,
          -0.020999999999999998,
          -0.020000000000000004,
          -0.019000000000000003,
          -0.018000000000000002,
          -0.017,
          -0.016,
          -0.015,
          -0.013999999999999999,
          -0.012999999999999998,
          -0.011999999999999997,
          -0.010999999999999996,
          -0.009999999999999995,
          -0.008999999999999994,
          -0.007999999999999993,
          -0.007000000000000006,
          -0.006000000000000005,
          -0.0050000000000000044,
          -0.0040000000000000036,
          -0.0030000000000000027,
          -0.0020000000000000018,
          -0.0010000000000000009,
          0,
          0.0010000000000000009,
          0.0020000000000000018,
          0.0030000000000000027,
          0.0040000000000000036,
          0.0050000000000000044,
          0.006000000000000005,
          0.007000000000000006,
          0.007999999999999993,
          0.008999999999999994,
          0.009999999999999995,
          0.010999999999999996,
          0.011999999999999997,
          0.012999999999999998,
          0.013999999999999999,
          0.015,
          0.016,
          0.017,
          0.018000000000000002,
          0.019000000000000003,
          0.020000000000000004,
          0.021000000000000005,
          0.022000000000000006,
          0.023000000000000007,
          0.024000000000000007,
          0.024999999999999994,
          0.025999999999999995,
          0.026999999999999996,
          0.027999999999999997,
          0.028999999999999998,
          0.03,
          0.031,
          0.032,
          0.033,
          0.034,
          0.035,
          0.036000000000000004,
          0.037000000000000005,
          0.038000000000000006,
          0.03900000000000001,
          0.039999999999999994,
          0.040999999999999995,
          0.041999999999999996,
          0.043,
          0.044,
          0.045,
          0.046,
          0.047,
          0.048,
          0.049,
          0.05,
          0.051000000000000004,
          0.052000000000000005,
          0.053000000000000005,
          0.054000000000000006,
          0.05500000000000001,
          0.05600000000000001,
          0.05700000000000001,
          0.05800000000000001,
          0.05900000000000001,
          0.06000000000000001,
          0.06100000000000001,
          0.06200000000000001,
          0.06300000000000001,
          0.06400000000000002,
          0.06499999999999999,
          0.06599999999999999,
          0.06699999999999999,
          0.06799999999999999,
          0.06899999999999999,
          0.06999999999999999,
          0.071,
          0.072,
          0.073,
          0.074,
          0.075,
          0.076,
          0.077,
          0.078,
          0.079,
          0.08
         ],
         "y": [
          -4.779118806617302e-15,
          -5.750274678788872e-15,
          -6.745612001445354e-15,
          -7.742672032757072e-15,
          -8.717785940743698e-15,
          -9.646794035698482e-15,
          -1.0505817937009401e-14,
          -1.1272058322926086e-14,
          -1.1924588566306009e-14,
          -1.2445113364772046e-14,
          -1.2818661527867198e-14,
          -1.3034183433103592e-14,
          -1.3085026298559018e-14,
          -1.296926427672639e-14,
          -1.2689865332260664e-14,
          -1.2254682753074946e-14,
          -1.1676265742334516e-14,
          -1.0971490593350942e-14,
          -1.0161021177975696e-14,
          -9.26861458384955e-15,
          -8.320294415517161e-15,
          -7.343420237348809e-15,
          -6.3656866132593864e-15,
          -5.414088954794334e-15,
          -4.513895736147328e-15,
          -3.687667437602246e-15,
          -2.9543617648950762e-15,
          -2.3285622543232367e-15,
          -1.8198633731847054e-15,
          -1.4324397900919223e-15,
          -1.1648208103215513e-15,
          -1.009883293951583e-15,
          -9.550679919988303e-16,
          -9.82815476129258e-16,
          -1.071209050783469e-15,
          -1.1948035804437198e-15,
          -1.3256113898027471e-15,
          -1.434209629361958e-15,
          -1.490928036028149e-15,
          -1.4670721013258728e-15,
          -1.3361344729191451e-15,
          -1.074947074028149e-15,
          -6.647279718101391e-16,
          -9.19804248806206e-17,
          6.507933193772252e-16,
          1.564594209119778e-15,
          2.6436672797235105e-15,
          3.875494971327503e-15,
          5.24104693219364e-15,
          6.7152804386645165e-15,
          8.267875758169639e-15,
          9.864181496437993e-15,
          1.1466336580467128e-14,
          1.3034528378326374e-14,
          1.452834084140624e-14,
          1.5908142710043185e-14,
          1.7136463915134744e-14,
          1.8179308424564336e-14,
          1.900735393062559e-14,
          1.959699287760668e-14,
          1.9931175232191706e-14,
          2.0000020874789103e-14,
          1.980117824432178e-14,
          1.9339915556808987e-14,
          1.8628941155015412e-14,
          1.768795992535646e-14,
          1.6542982825610638e-14,
          1.5225415999880658e-14,
          1.3770964339853787e-14,
          1.221839135044378e-14,
          1.0608182516236435e-14,
          8.981162833195231e-15,
          7.377120634244105e-15,
          5.833489245480712e-15,
          4.3841353931563835e-15,
          3.0582987534186686e-15,
          1.87972078748931e-15,
          8.659932938546344e-16,
          2.814825377730059e-17,
          -6.294990904705103e-16,
          -1.1092520114218402e-15,
          -1.4196870225060744e-15,
          -1.5750792405940305e-15,
          -1.5946248585349423e-15,
          -1.5014948382917296e-15,
          -1.321760123830225e-15,
          -1.0832331761657016e-15,
          -8.142732849183669e-16,
          -5.426038225050538e-16,
          -2.9418837003387645e-16,
          -9.220952934465378e-17,
          4.38106089460503e-17,
          9.871572890308132e-17,
          6.222126474945758e-17,
          -7.079542755036292e-17,
          -3.0022816345286527e-16,
          -6.208965198980054e-16,
          -1.0229111328358665e-15,
          -1.4922304660880637e-15,
          -2.0113822833003687e-15,
          -2.5603167349534666e-15,
          -3.117353108815302e-15,
          -3.6601790653130204e-15,
          -4.166859699354744e-15,
          -4.61681407346875e-15,
          -4.9917189155118295e-15,
          -5.27630285735614e-15,
          -5.458999732112987e-15,
          -5.5324358115641175e-15,
          -5.493733169882591e-15,
          -5.3446192866206435e-15,
          -5.0913412121627444e-15,
          -4.744390766412433e-15,
          -4.318054988228858e-15,
          -3.829813082778423e-15,
          -3.299607145115238e-15,
          -2.7490187357338478e-15,
          -2.2003867677244353e-15,
          -1.6759040177904384e-15,
          -1.1967298431562684e-15,
          -7.821553889328554e-16,
          -4.488547869587481e-16,
          -2.1025171965009626e-16,
          -7.602544713809511e-17,
          -5.1774213933597706e-17,
          -1.3884713739741973e-16,
          -3.343485309461667e-16,
          -6.31311435470196e-16,
          -1.0190302238387572e-15,
          -1.4835357895784239e-15,
          -2.008191287078097e-15,
          -2.5743818732316325e-15,
          -3.1622685780605147e-15,
          -3.751574419630645e-15,
          -4.322370233985102e-15,
          -4.855828412460641e-15,
          -5.3349147675664024e-15,
          -5.744991971495577e-15,
          -6.074312267123207e-15,
          -6.314382238565828e-15,
          -6.460188114747955e-15,
          -6.510276112348713e-15,
          -6.4666884423099075e-15,
          -6.334761547364741e-15,
          -6.122798660678046e-15,
          -5.84163365507181e-15,
          -5.504107198340048e-15,
          -5.124479292624806e-15,
          -4.717804249922357e-15,
          -4.2992949855445156e-15,
          -3.88370319088432e-15,
          -3.4847405193822906e-15,
          -3.114563474510382e-15,
          -2.783341356377664e-15,
          -2.4989225692209635e-15,
          -2.2666100071410422e-15,
          -2.089051329193115e-15,
          -1.9662449247410435e-15,
          -1.895657471851327e-15,
          -1.8724444107869054e-15,
          -1.88976057747546e-15
         ]
        }
       ],
       "layout": {
        "template": {
         "data": {
          "bar": [
           {
            "error_x": {
             "color": "#2a3f5f"
            },
            "error_y": {
             "color": "#2a3f5f"
            },
            "marker": {
             "line": {
              "color": "#E5ECF6",
              "width": 0.5
             },
             "pattern": {
              "fillmode": "overlay",
              "size": 10,
              "solidity": 0.2
             }
            },
            "type": "bar"
           }
          ],
          "barpolar": [
           {
            "marker": {
             "line": {
              "color": "#E5ECF6",
              "width": 0.5
             },
             "pattern": {
              "fillmode": "overlay",
              "size": 10,
              "solidity": 0.2
             }
            },
            "type": "barpolar"
           }
          ],
          "carpet": [
           {
            "aaxis": {
             "endlinecolor": "#2a3f5f",
             "gridcolor": "white",
             "linecolor": "white",
             "minorgridcolor": "white",
             "startlinecolor": "#2a3f5f"
            },
            "baxis": {
             "endlinecolor": "#2a3f5f",
             "gridcolor": "white",
             "linecolor": "white",
             "minorgridcolor": "white",
             "startlinecolor": "#2a3f5f"
            },
            "type": "carpet"
           }
          ],
          "choropleth": [
           {
            "colorbar": {
             "outlinewidth": 0,
             "ticks": ""
            },
            "type": "choropleth"
           }
          ],
          "contour": [
           {
            "colorbar": {
             "outlinewidth": 0,
             "ticks": ""
            },
            "colorscale": [
             [
              0,
              "#0d0887"
             ],
             [
              0.1111111111111111,
              "#46039f"
             ],
             [
              0.2222222222222222,
              "#7201a8"
             ],
             [
              0.3333333333333333,
              "#9c179e"
             ],
             [
              0.4444444444444444,
              "#bd3786"
             ],
             [
              0.5555555555555556,
              "#d8576b"
             ],
             [
              0.6666666666666666,
              "#ed7953"
             ],
             [
              0.7777777777777778,
              "#fb9f3a"
             ],
             [
              0.8888888888888888,
              "#fdca26"
             ],
             [
              1,
              "#f0f921"
             ]
            ],
            "type": "contour"
           }
          ],
          "contourcarpet": [
           {
            "colorbar": {
             "outlinewidth": 0,
             "ticks": ""
            },
            "type": "contourcarpet"
           }
          ],
          "heatmap": [
           {
            "colorbar": {
             "outlinewidth": 0,
             "ticks": ""
            },
            "colorscale": [
             [
              0,
              "#0d0887"
             ],
             [
              0.1111111111111111,
              "#46039f"
             ],
             [
              0.2222222222222222,
              "#7201a8"
             ],
             [
              0.3333333333333333,
              "#9c179e"
             ],
             [
              0.4444444444444444,
              "#bd3786"
             ],
             [
              0.5555555555555556,
              "#d8576b"
             ],
             [
              0.6666666666666666,
              "#ed7953"
             ],
             [
              0.7777777777777778,
              "#fb9f3a"
             ],
             [
              0.8888888888888888,
              "#fdca26"
             ],
             [
              1,
              "#f0f921"
             ]
            ],
            "type": "heatmap"
           }
          ],
          "heatmapgl": [
           {
            "colorbar": {
             "outlinewidth": 0,
             "ticks": ""
            },
            "colorscale": [
             [
              0,
              "#0d0887"
             ],
             [
              0.1111111111111111,
              "#46039f"
             ],
             [
              0.2222222222222222,
              "#7201a8"
             ],
             [
              0.3333333333333333,
              "#9c179e"
             ],
             [
              0.4444444444444444,
              "#bd3786"
             ],
             [
              0.5555555555555556,
              "#d8576b"
             ],
             [
              0.6666666666666666,
              "#ed7953"
             ],
             [
              0.7777777777777778,
              "#fb9f3a"
             ],
             [
              0.8888888888888888,
              "#fdca26"
             ],
             [
              1,
              "#f0f921"
             ]
            ],
            "type": "heatmapgl"
           }
          ],
          "histogram": [
           {
            "marker": {
             "pattern": {
              "fillmode": "overlay",
              "size": 10,
              "solidity": 0.2
             }
            },
            "type": "histogram"
           }
          ],
          "histogram2d": [
           {
            "colorbar": {
             "outlinewidth": 0,
             "ticks": ""
            },
            "colorscale": [
             [
              0,
              "#0d0887"
             ],
             [
              0.1111111111111111,
              "#46039f"
             ],
             [
              0.2222222222222222,
              "#7201a8"
             ],
             [
              0.3333333333333333,
              "#9c179e"
             ],
             [
              0.4444444444444444,
              "#bd3786"
             ],
             [
              0.5555555555555556,
              "#d8576b"
             ],
             [
              0.6666666666666666,
              "#ed7953"
             ],
             [
              0.7777777777777778,
              "#fb9f3a"
             ],
             [
              0.8888888888888888,
              "#fdca26"
             ],
             [
              1,
              "#f0f921"
             ]
            ],
            "type": "histogram2d"
           }
          ],
          "histogram2dcontour": [
           {
            "colorbar": {
             "outlinewidth": 0,
             "ticks": ""
            },
            "colorscale": [
             [
              0,
              "#0d0887"
             ],
             [
              0.1111111111111111,
              "#46039f"
             ],
             [
              0.2222222222222222,
              "#7201a8"
             ],
             [
              0.3333333333333333,
              "#9c179e"
             ],
             [
              0.4444444444444444,
              "#bd3786"
             ],
             [
              0.5555555555555556,
              "#d8576b"
             ],
             [
              0.6666666666666666,
              "#ed7953"
             ],
             [
              0.7777777777777778,
              "#fb9f3a"
             ],
             [
              0.8888888888888888,
              "#fdca26"
             ],
             [
              1,
              "#f0f921"
             ]
            ],
            "type": "histogram2dcontour"
           }
          ],
          "mesh3d": [
           {
            "colorbar": {
             "outlinewidth": 0,
             "ticks": ""
            },
            "type": "mesh3d"
           }
          ],
          "parcoords": [
           {
            "line": {
             "colorbar": {
              "outlinewidth": 0,
              "ticks": ""
             }
            },
            "type": "parcoords"
           }
          ],
          "pie": [
           {
            "automargin": true,
            "type": "pie"
           }
          ],
          "scatter": [
           {
            "fillpattern": {
             "fillmode": "overlay",
             "size": 10,
             "solidity": 0.2
            },
            "type": "scatter"
           }
          ],
          "scatter3d": [
           {
            "line": {
             "colorbar": {
              "outlinewidth": 0,
              "ticks": ""
             }
            },
            "marker": {
             "colorbar": {
              "outlinewidth": 0,
              "ticks": ""
             }
            },
            "type": "scatter3d"
           }
          ],
          "scattercarpet": [
           {
            "marker": {
             "colorbar": {
              "outlinewidth": 0,
              "ticks": ""
             }
            },
            "type": "scattercarpet"
           }
          ],
          "scattergeo": [
           {
            "marker": {
             "colorbar": {
              "outlinewidth": 0,
              "ticks": ""
             }
            },
            "type": "scattergeo"
           }
          ],
          "scattergl": [
           {
            "marker": {
             "colorbar": {
              "outlinewidth": 0,
              "ticks": ""
             }
            },
            "type": "scattergl"
           }
          ],
          "scattermapbox": [
           {
            "marker": {
             "colorbar": {
              "outlinewidth": 0,
              "ticks": ""
             }
            },
            "type": "scattermapbox"
           }
          ],
          "scatterpolar": [
           {
            "marker": {
             "colorbar": {
              "outlinewidth": 0,
              "ticks": ""
             }
            },
            "type": "scatterpolar"
           }
          ],
          "scatterpolargl": [
           {
            "marker": {
             "colorbar": {
              "outlinewidth": 0,
              "ticks": ""
             }
            },
            "type": "scatterpolargl"
           }
          ],
          "scatterternary": [
           {
            "marker": {
             "colorbar": {
              "outlinewidth": 0,
              "ticks": ""
             }
            },
            "type": "scatterternary"
           }
          ],
          "surface": [
           {
            "colorbar": {
             "outlinewidth": 0,
             "ticks": ""
            },
            "colorscale": [
             [
              0,
              "#0d0887"
             ],
             [
              0.1111111111111111,
              "#46039f"
             ],
             [
              0.2222222222222222,
              "#7201a8"
             ],
             [
              0.3333333333333333,
              "#9c179e"
             ],
             [
              0.4444444444444444,
              "#bd3786"
             ],
             [
              0.5555555555555556,
              "#d8576b"
             ],
             [
              0.6666666666666666,
              "#ed7953"
             ],
             [
              0.7777777777777778,
              "#fb9f3a"
             ],
             [
              0.8888888888888888,
              "#fdca26"
             ],
             [
              1,
              "#f0f921"
             ]
            ],
            "type": "surface"
           }
          ],
          "table": [
           {
            "cells": {
             "fill": {
              "color": "#EBF0F8"
             },
             "line": {
              "color": "white"
             }
            },
            "header": {
             "fill": {
              "color": "#C8D4E3"
             },
             "line": {
              "color": "white"
             }
            },
            "type": "table"
           }
          ]
         },
         "layout": {
          "annotationdefaults": {
           "arrowcolor": "#2a3f5f",
           "arrowhead": 0,
           "arrowwidth": 1
          },
          "autotypenumbers": "strict",
          "coloraxis": {
           "colorbar": {
            "outlinewidth": 0,
            "ticks": ""
           }
          },
          "colorscale": {
           "diverging": [
            [
             0,
             "#8e0152"
            ],
            [
             0.1,
             "#c51b7d"
            ],
            [
             0.2,
             "#de77ae"
            ],
            [
             0.3,
             "#f1b6da"
            ],
            [
             0.4,
             "#fde0ef"
            ],
            [
             0.5,
             "#f7f7f7"
            ],
            [
             0.6,
             "#e6f5d0"
            ],
            [
             0.7,
             "#b8e186"
            ],
            [
             0.8,
             "#7fbc41"
            ],
            [
             0.9,
             "#4d9221"
            ],
            [
             1,
             "#276419"
            ]
           ],
           "sequential": [
            [
             0,
             "#0d0887"
            ],
            [
             0.1111111111111111,
             "#46039f"
            ],
            [
             0.2222222222222222,
             "#7201a8"
            ],
            [
             0.3333333333333333,
             "#9c179e"
            ],
            [
             0.4444444444444444,
             "#bd3786"
            ],
            [
             0.5555555555555556,
             "#d8576b"
            ],
            [
             0.6666666666666666,
             "#ed7953"
            ],
            [
             0.7777777777777778,
             "#fb9f3a"
            ],
            [
             0.8888888888888888,
             "#fdca26"
            ],
            [
             1,
             "#f0f921"
            ]
           ],
           "sequentialminus": [
            [
             0,
             "#0d0887"
            ],
            [
             0.1111111111111111,
             "#46039f"
            ],
            [
             0.2222222222222222,
             "#7201a8"
            ],
            [
             0.3333333333333333,
             "#9c179e"
            ],
            [
             0.4444444444444444,
             "#bd3786"
            ],
            [
             0.5555555555555556,
             "#d8576b"
            ],
            [
             0.6666666666666666,
             "#ed7953"
            ],
            [
             0.7777777777777778,
             "#fb9f3a"
            ],
            [
             0.8888888888888888,
             "#fdca26"
            ],
            [
             1,
             "#f0f921"
            ]
           ]
          },
          "colorway": [
           "#636efa",
           "#EF553B",
           "#00cc96",
           "#ab63fa",
           "#FFA15A",
           "#19d3f3",
           "#FF6692",
           "#B6E880",
           "#FF97FF",
           "#FECB52"
          ],
          "font": {
           "color": "#2a3f5f"
          },
          "geo": {
           "bgcolor": "white",
           "lakecolor": "white",
           "landcolor": "#E5ECF6",
           "showlakes": true,
           "showland": true,
           "subunitcolor": "white"
          },
          "hoverlabel": {
           "align": "left"
          },
          "hovermode": "closest",
          "mapbox": {
           "style": "light"
          },
          "paper_bgcolor": "white",
          "plot_bgcolor": "#E5ECF6",
          "polar": {
           "angularaxis": {
            "gridcolor": "white",
            "linecolor": "white",
            "ticks": ""
           },
           "bgcolor": "#E5ECF6",
           "radialaxis": {
            "gridcolor": "white",
            "linecolor": "white",
            "ticks": ""
           }
          },
          "scene": {
           "xaxis": {
            "backgroundcolor": "#E5ECF6",
            "gridcolor": "white",
            "gridwidth": 2,
            "linecolor": "white",
            "showbackground": true,
            "ticks": "",
            "zerolinecolor": "white"
           },
           "yaxis": {
            "backgroundcolor": "#E5ECF6",
            "gridcolor": "white",
            "gridwidth": 2,
            "linecolor": "white",
            "showbackground": true,
            "ticks": "",
            "zerolinecolor": "white"
           },
           "zaxis": {
            "backgroundcolor": "#E5ECF6",
            "gridcolor": "white",
            "gridwidth": 2,
            "linecolor": "white",
            "showbackground": true,
            "ticks": "",
            "zerolinecolor": "white"
           }
          },
          "shapedefaults": {
           "line": {
            "color": "#2a3f5f"
           }
          },
          "ternary": {
           "aaxis": {
            "gridcolor": "white",
            "linecolor": "white",
            "ticks": ""
           },
           "baxis": {
            "gridcolor": "white",
            "linecolor": "white",
            "ticks": ""
           },
           "bgcolor": "#E5ECF6",
           "caxis": {
            "gridcolor": "white",
            "linecolor": "white",
            "ticks": ""
           }
          },
          "title": {
           "x": 0.05
          },
          "xaxis": {
           "automargin": true,
           "gridcolor": "white",
           "linecolor": "white",
           "ticks": "",
           "title": {
            "standoff": 15
           },
           "zerolinecolor": "white",
           "zerolinewidth": 2
          },
          "yaxis": {
           "automargin": true,
           "gridcolor": "white",
           "linecolor": "white",
           "ticks": "",
           "title": {
            "standoff": 15
           },
           "zerolinecolor": "white",
           "zerolinewidth": 2
          }
         }
        }
       }
      }
     },
     "metadata": {},
     "output_type": "display_data"
    },
    {
     "name": "stdout",
     "output_type": "stream",
     "text": [
      "___MEGqc___:  Finished ECG. --- Execution 5.891665935516357 seconds ---\n",
      "___MEGqc___:  Starting EOG...\n",
      "___MEGqc___: EOG channel names: ['EOG061']\n",
      "Using EOG channel: EOG061\n",
      "EOG channel index for this subject is: [306]\n",
      "Filtering the data to remove DC offset to help distinguish blinks from saccades\n",
      "Selecting channel EOG061 for blink detection\n",
      "Setting up band-pass filter from 1 - 10 Hz\n",
      "\n",
      "FIR filter parameters\n",
      "---------------------\n",
      "Designing a two-pass forward and reverse, zero-phase, non-causal bandpass filter:\n",
      "- Windowed frequency-domain design (firwin2) method\n",
      "- Hann window\n",
      "- Lower passband edge: 1.00\n",
      "- Lower transition bandwidth: 0.50 Hz (-12 dB cutoff frequency: 0.75 Hz)\n",
      "- Upper passband edge: 10.00 Hz\n",
      "- Upper transition bandwidth: 0.50 Hz (-12 dB cutoff frequency: 10.25 Hz)\n",
      "- Filter length: 10000 samples (10.000 s)\n",
      "\n",
      "Now detecting blinks and generating corresponding events\n",
      "Found 171 significant peaks\n",
      "Number of EOG events detected: 171\n",
      "___MEG_QC___: Blinks will be detected based on channel:  EOG061\n",
      "___MEGqc___:  Mean event of EOG channel has expected shape.\n"
     ]
    },
    {
     "data": {
      "application/vnd.plotly.v1+json": {
       "config": {
        "plotlyServerURL": "https://plot.ly"
       },
       "data": [
        {
         "legendgroup": "Original data",
         "legendgrouptitle": {
          "text": "Original data"
         },
         "name": "Mean_rwave",
         "type": "scatter",
         "x": [
          -0.2,
          -0.199,
          -0.198,
          -0.197,
          -0.196,
          -0.195,
          -0.194,
          -0.193,
          -0.192,
          -0.191,
          -0.19,
          -0.189,
          -0.188,
          -0.187,
          -0.186,
          -0.185,
          -0.184,
          -0.183,
          -0.182,
          -0.181,
          -0.18,
          -0.179,
          -0.178,
          -0.177,
          -0.176,
          -0.17500000000000002,
          -0.17400000000000002,
          -0.17300000000000001,
          -0.17200000000000001,
          -0.171,
          -0.17,
          -0.169,
          -0.168,
          -0.167,
          -0.166,
          -0.165,
          -0.164,
          -0.163,
          -0.162,
          -0.161,
          -0.16,
          -0.159,
          -0.158,
          -0.157,
          -0.156,
          -0.155,
          -0.154,
          -0.153,
          -0.152,
          -0.151,
          -0.15,
          -0.149,
          -0.148,
          -0.147,
          -0.146,
          -0.145,
          -0.144,
          -0.143,
          -0.142,
          -0.14100000000000001,
          -0.14,
          -0.139,
          -0.138,
          -0.137,
          -0.136,
          -0.135,
          -0.134,
          -0.133,
          -0.132,
          -0.131,
          -0.13,
          -0.129,
          -0.128,
          -0.127,
          -0.126,
          -0.125,
          -0.124,
          -0.123,
          -0.122,
          -0.121,
          -0.12,
          -0.119,
          -0.118,
          -0.11699999999999999,
          -0.11599999999999999,
          -0.11499999999999999,
          -0.11399999999999999,
          -0.11299999999999999,
          -0.11199999999999999,
          -0.11099999999999999,
          -0.10999999999999999,
          -0.10899999999999999,
          -0.10799999999999998,
          -0.10699999999999998,
          -0.10599999999999998,
          -0.10499999999999998,
          -0.10399999999999998,
          -0.103,
          -0.102,
          -0.10099999999999999,
          -0.09999999999999999,
          -0.09899999999999999,
          -0.09799999999999999,
          -0.09699999999999999,
          -0.09599999999999999,
          -0.09499999999999999,
          -0.09399999999999999,
          -0.09299999999999999,
          -0.09199999999999998,
          -0.09099999999999998,
          -0.08999999999999998,
          -0.08899999999999998,
          -0.08799999999999998,
          -0.08699999999999998,
          -0.08599999999999998,
          -0.08499999999999998,
          -0.08399999999999998,
          -0.08299999999999998,
          -0.08199999999999999,
          -0.08099999999999999,
          -0.07999999999999999,
          -0.07899999999999999,
          -0.07799999999999999,
          -0.07699999999999999,
          -0.07599999999999998,
          -0.07499999999999998,
          -0.07399999999999998,
          -0.07299999999999998,
          -0.07199999999999998,
          -0.07099999999999998,
          -0.06999999999999998,
          -0.06899999999999998,
          -0.06799999999999998,
          -0.06699999999999998,
          -0.06599999999999998,
          -0.06499999999999997,
          -0.06399999999999997,
          -0.06299999999999997,
          -0.06199999999999997,
          -0.06099999999999997,
          -0.05999999999999997,
          -0.05899999999999997,
          -0.05799999999999997,
          -0.05699999999999997,
          -0.055999999999999966,
          -0.054999999999999966,
          -0.053999999999999965,
          -0.052999999999999964,
          -0.05199999999999996,
          -0.05099999999999996,
          -0.04999999999999999,
          -0.04899999999999999,
          -0.04799999999999999,
          -0.046999999999999986,
          -0.045999999999999985,
          -0.044999999999999984,
          -0.043999999999999984,
          -0.04299999999999998,
          -0.04199999999999998,
          -0.04099999999999998,
          -0.03999999999999998,
          -0.03899999999999998,
          -0.03799999999999998,
          -0.03699999999999998,
          -0.035999999999999976,
          -0.034999999999999976,
          -0.033999999999999975,
          -0.032999999999999974,
          -0.03199999999999997,
          -0.030999999999999972,
          -0.02999999999999997,
          -0.02899999999999997,
          -0.02799999999999997,
          -0.02699999999999997,
          -0.025999999999999968,
          -0.024999999999999967,
          -0.023999999999999966,
          -0.022999999999999965,
          -0.021999999999999964,
          -0.020999999999999963,
          -0.019999999999999962,
          -0.01899999999999996,
          -0.01799999999999996,
          -0.01699999999999996,
          -0.01599999999999996,
          -0.014999999999999958,
          -0.013999999999999957,
          -0.012999999999999956,
          -0.011999999999999955,
          -0.010999999999999954,
          -0.009999999999999953,
          -0.008999999999999952,
          -0.007999999999999952,
          -0.0069999999999999785,
          -0.005999999999999978,
          -0.004999999999999977,
          -0.003999999999999976,
          -0.002999999999999975,
          -0.001999999999999974,
          -0.0009999999999999731,
          2.7755575615628914e-17,
          0.0010000000000000286,
          0.0020000000000000295,
          0.0030000000000000304,
          0.004000000000000031,
          0.005000000000000032,
          0.006000000000000033,
          0.007000000000000034,
          0.008000000000000035,
          0.009000000000000036,
          0.010000000000000037,
          0.011000000000000038,
          0.012000000000000038,
          0.01300000000000004,
          0.01400000000000004,
          0.015000000000000041,
          0.016000000000000042,
          0.017000000000000043,
          0.018000000000000044,
          0.019000000000000045,
          0.020000000000000046,
          0.021000000000000046,
          0.022000000000000047,
          0.023000000000000048,
          0.02400000000000005,
          0.02500000000000005,
          0.02600000000000005,
          0.027000000000000052,
          0.028000000000000053,
          0.029000000000000054,
          0.030000000000000054,
          0.031000000000000055,
          0.032000000000000056,
          0.03300000000000006,
          0.03400000000000006,
          0.03500000000000003,
          0.03600000000000003,
          0.03700000000000003,
          0.038000000000000034,
          0.039000000000000035,
          0.040000000000000036,
          0.041000000000000036,
          0.04200000000000004,
          0.04300000000000004,
          0.04400000000000004,
          0.04500000000000004,
          0.04600000000000004,
          0.04700000000000004,
          0.04800000000000004,
          0.049000000000000044,
          0.050000000000000044,
          0.051000000000000045,
          0.052000000000000046,
          0.05300000000000005,
          0.05400000000000005,
          0.05500000000000005,
          0.05600000000000005,
          0.05700000000000005,
          0.05800000000000005,
          0.05900000000000005,
          0.06000000000000005,
          0.061000000000000054,
          0.062000000000000055,
          0.06300000000000006,
          0.06400000000000006,
          0.06500000000000006,
          0.06600000000000006,
          0.06700000000000006,
          0.06800000000000006,
          0.06900000000000006,
          0.07000000000000006,
          0.07100000000000006,
          0.07200000000000006,
          0.07300000000000006,
          0.07400000000000007,
          0.07500000000000007,
          0.07600000000000007,
          0.07700000000000007,
          0.07800000000000007,
          0.07900000000000007,
          0.08000000000000007,
          0.08100000000000007,
          0.08200000000000007,
          0.08300000000000007,
          0.08400000000000007,
          0.08500000000000008,
          0.08600000000000008,
          0.08700000000000008,
          0.08800000000000008,
          0.08900000000000008,
          0.09000000000000008,
          0.09100000000000008,
          0.09200000000000008,
          0.09300000000000008,
          0.09400000000000008,
          0.09500000000000008,
          0.09600000000000009,
          0.09700000000000009,
          0.09800000000000009,
          0.09900000000000003,
          0.10000000000000003,
          0.10100000000000003,
          0.10200000000000004,
          0.10300000000000004,
          0.10400000000000004,
          0.10500000000000004,
          0.10600000000000004,
          0.10700000000000004,
          0.10800000000000004,
          0.10900000000000004,
          0.11000000000000004,
          0.11100000000000004,
          0.11200000000000004,
          0.11300000000000004,
          0.11400000000000005,
          0.11500000000000005,
          0.11600000000000005,
          0.11700000000000005,
          0.11800000000000005,
          0.11900000000000005,
          0.12000000000000005,
          0.12100000000000005,
          0.12200000000000005,
          0.12300000000000005,
          0.12400000000000005,
          0.12500000000000006,
          0.12600000000000006,
          0.12700000000000006,
          0.12800000000000006,
          0.12900000000000006,
          0.13000000000000006,
          0.13100000000000006,
          0.13200000000000006,
          0.13300000000000006,
          0.13400000000000006,
          0.13500000000000006,
          0.13600000000000007,
          0.13700000000000007,
          0.13800000000000007,
          0.13900000000000007,
          0.14000000000000007,
          0.14100000000000007,
          0.14200000000000007,
          0.14300000000000007,
          0.14400000000000007,
          0.14500000000000007,
          0.14600000000000007,
          0.14700000000000008,
          0.14800000000000008,
          0.14900000000000008,
          0.15000000000000008,
          0.15100000000000008,
          0.15200000000000008,
          0.15300000000000008,
          0.15400000000000008,
          0.15500000000000008,
          0.15600000000000008,
          0.15700000000000008,
          0.15800000000000008,
          0.15900000000000009,
          0.1600000000000001,
          0.1610000000000001,
          0.1620000000000001,
          0.1630000000000001,
          0.1640000000000001,
          0.1650000000000001,
          0.1660000000000001,
          0.1670000000000001,
          0.1680000000000001,
          0.1690000000000001,
          0.1700000000000001,
          0.1710000000000001,
          0.1720000000000001,
          0.1730000000000001,
          0.1740000000000001,
          0.1750000000000001,
          0.1760000000000001,
          0.1770000000000001,
          0.1780000000000001,
          0.1790000000000001,
          0.1800000000000001,
          0.1810000000000001,
          0.1820000000000001,
          0.1830000000000001,
          0.1840000000000001,
          0.18500000000000005,
          0.18600000000000005,
          0.18700000000000006,
          0.18800000000000006,
          0.18900000000000006,
          0.19000000000000006,
          0.19100000000000006,
          0.19200000000000006,
          0.19300000000000006,
          0.19400000000000006,
          0.19500000000000006,
          0.19600000000000006,
          0.19700000000000006,
          0.19800000000000006,
          0.19900000000000007,
          0.20000000000000007,
          0.20100000000000007,
          0.20200000000000007,
          0.20300000000000007,
          0.20400000000000007,
          0.20500000000000007,
          0.20600000000000007,
          0.20700000000000007,
          0.20800000000000007,
          0.20900000000000007,
          0.21000000000000008,
          0.21100000000000008,
          0.21200000000000008,
          0.21300000000000008,
          0.21400000000000008,
          0.21500000000000008,
          0.21600000000000008,
          0.21700000000000008,
          0.21800000000000008,
          0.21900000000000008,
          0.22000000000000008,
          0.22100000000000009,
          0.2220000000000001,
          0.2230000000000001,
          0.2240000000000001,
          0.2250000000000001,
          0.2260000000000001,
          0.2270000000000001,
          0.2280000000000001,
          0.2290000000000001,
          0.2300000000000001,
          0.2310000000000001,
          0.2320000000000001,
          0.2330000000000001,
          0.2340000000000001,
          0.2350000000000001,
          0.2360000000000001,
          0.2370000000000001,
          0.2380000000000001,
          0.2390000000000001,
          0.2400000000000001,
          0.2410000000000001,
          0.2420000000000001,
          0.2430000000000001,
          0.2440000000000001,
          0.2450000000000001,
          0.2460000000000001,
          0.2470000000000001,
          0.2480000000000001,
          0.2490000000000001,
          0.2500000000000001,
          0.2510000000000001,
          0.2520000000000001,
          0.2530000000000001,
          0.2540000000000001,
          0.2550000000000001,
          0.2560000000000001,
          0.2570000000000001,
          0.2580000000000001,
          0.2590000000000001,
          0.2600000000000001,
          0.2610000000000001,
          0.2620000000000001,
          0.2630000000000001,
          0.2640000000000001,
          0.2650000000000001,
          0.2660000000000001,
          0.2670000000000001,
          0.2680000000000001,
          0.26900000000000013,
          0.2700000000000001,
          0.2710000000000001,
          0.2720000000000001,
          0.2730000000000001,
          0.2740000000000001,
          0.2750000000000001,
          0.2760000000000001,
          0.2770000000000001,
          0.2780000000000001,
          0.2790000000000001,
          0.2800000000000001,
          0.2810000000000001,
          0.2820000000000001,
          0.2830000000000001,
          0.2840000000000001,
          0.2850000000000001,
          0.2860000000000001,
          0.2870000000000001,
          0.2880000000000001,
          0.2890000000000001,
          0.2900000000000001,
          0.2910000000000001,
          0.2920000000000001,
          0.2930000000000001,
          0.2940000000000001,
          0.2950000000000001,
          0.2960000000000001,
          0.2970000000000001,
          0.2980000000000001,
          0.2990000000000001,
          0.3000000000000001,
          0.3010000000000001,
          0.3020000000000001,
          0.3030000000000001,
          0.3040000000000001,
          0.3050000000000001,
          0.3060000000000001,
          0.3070000000000001,
          0.3080000000000001,
          0.3090000000000001,
          0.3100000000000001,
          0.3110000000000001,
          0.3120000000000001,
          0.3130000000000001,
          0.3140000000000001,
          0.3150000000000001,
          0.3160000000000001,
          0.3170000000000001,
          0.3180000000000001,
          0.3190000000000001,
          0.3200000000000001,
          0.3210000000000001,
          0.3220000000000001,
          0.3230000000000001,
          0.3240000000000001,
          0.3250000000000001,
          0.3260000000000001,
          0.3270000000000001,
          0.3280000000000001,
          0.3290000000000001,
          0.3300000000000001,
          0.3310000000000001,
          0.33200000000000013,
          0.33300000000000013,
          0.33400000000000013,
          0.33500000000000013,
          0.33600000000000013,
          0.33700000000000013,
          0.33800000000000013,
          0.33900000000000013,
          0.34000000000000014,
          0.34100000000000014,
          0.34200000000000014,
          0.34300000000000014,
          0.34400000000000014,
          0.34500000000000014,
          0.34600000000000014,
          0.34700000000000014,
          0.34800000000000014,
          0.34900000000000014,
          0.35000000000000014,
          0.35100000000000015,
          0.35200000000000015,
          0.35300000000000015,
          0.35400000000000015,
          0.35500000000000015,
          0.35600000000000015,
          0.35700000000000015,
          0.35800000000000015,
          0.35900000000000015,
          0.36000000000000015,
          0.36100000000000015,
          0.36200000000000015,
          0.36300000000000016,
          0.36400000000000016,
          0.36500000000000016,
          0.36600000000000016,
          0.36700000000000016,
          0.36800000000000016,
          0.36900000000000016,
          0.37000000000000016,
          0.37100000000000016,
          0.37200000000000016,
          0.37300000000000016,
          0.37400000000000017,
          0.37500000000000017,
          0.37600000000000017,
          0.37700000000000017,
          0.37800000000000017,
          0.37900000000000017,
          0.38000000000000017,
          0.38100000000000017,
          0.3820000000000002,
          0.3830000000000002,
          0.3840000000000002,
          0.3850000000000002,
          0.3860000000000002,
          0.3870000000000002,
          0.3880000000000002,
          0.3890000000000002,
          0.3900000000000002,
          0.3910000000000002,
          0.3920000000000002,
          0.3930000000000002,
          0.3940000000000002,
          0.3950000000000002,
          0.3960000000000002,
          0.3970000000000002,
          0.3980000000000001,
          0.3990000000000001,
          0.4
         ],
         "y": [
          0.001428370957598423,
          0.0014293842470249824,
          0.0014267849393655478,
          0.0014263884348073288,
          0.0014271520732157502,
          0.0014274604656499205,
          0.0014274164095878963,
          0.0014275485777739691,
          0.0014277688580840908,
          0.001427108017153726,
          0.0014248317872824696,
          0.0014237303857318616,
          0.0014260213009571262,
          0.0014270933317997178,
          0.0014259919302491099,
          0.0014268877368436043,
          0.0014281213065802853,
          0.0014257129085229559,
          0.0014244499680782588,
          0.0014255660549828749,
          0.0014245087094942913,
          0.0014228639498453835,
          0.0014232898251116185,
          0.0014244059120162346,
          0.001424890528698502,
          0.001422805208429351,
          0.0014213954144445728,
          0.0014235394761297562,
          0.0014250667529465992,
          0.001424317799892186,
          0.0014248024165744533,
          0.001423642273607813,
          0.0014216010094006862,
          0.0014222177942690268,
          0.0014211751341344512,
          0.0014207492588682162,
          0.0014216010094006862,
          0.001421277931612508,
          0.001422232479623035,
          0.0014232898251116185,
          0.0014231576569255454,
          0.0014235394761297562,
          0.001423524790775748,
          0.0014236863296698374,
          0.0014240828342280561,
          0.001423098915509513,
          0.0014214982119226296,
          0.0014223059063930754,
          0.00142296674732344,
          0.0014218653457728323,
          0.0014212485609044916,
          0.0014218066043567997,
          0.0014217331775867592,
          0.0014230401740934807,
          0.0014246408776803642,
          0.0014234219932976913,
          0.001421718492232751,
          0.001421997513958905,
          0.0014238772392719426,
          0.0014248024165744533,
          0.0014238478685639265,
          0.0014243912266622264,
          0.0014254779428588263,
          0.0014237157003778535,
          0.001424464653432267,
          0.0014267996247195557,
          0.001426961163613645,
          0.001424626192326356,
          0.0014238625539179347,
          0.0014242737438301615,
          0.0014249639554685426,
          0.0014267261979495152,
          0.0014272842414018232,
          0.0014274751510039286,
          0.0014285618672005285,
          0.0014285471818465203,
          0.001426828995427572,
          0.0014264765469313774,
          0.0014270052196756692,
          0.0014274751510039286,
          0.001428370957598423,
          0.001429340190962958,
          0.0014297660662291932,
          0.0014284737550764798,
          0.0014269024221976124,
          0.001427651375252026,
          0.0014286940353866015,
          0.0014288408889266825,
          0.001429604527335104,
          0.0014313227137540525,
          0.0014324094299506523,
          0.001433084956235025,
          0.0014333199218991548,
          0.0014328940466329196,
          0.001434039504245552,
          0.001434582862343852,
          0.0014345241209278196,
          0.0014341716724316248,
          0.0014333199218991548,
          0.0014361688805767272,
          0.0014398989604947861,
          0.0014394143438125188,
          0.0014392528049184297,
          0.001440970991337378,
          0.00144289477271244,
          0.0014431591090845858,
          0.001443056311606529,
          0.0014435849843508208,
          0.00144374652324491,
          0.0014450975758136557,
          0.0014466248526304988,
          0.0014462577187802962,
          0.0014450975758136557,
          0.0014459052702841017,
          0.001447065413250742,
          0.001448328353695439,
          0.0014509129760008658,
          0.0014538059907404626,
          0.001456493410523946,
          0.0014579619459247565,
          0.0014562290741518,
          0.0014584025065449997,
          0.0014625437763752856,
          0.0014623969228352044,
          0.001463145875889618,
          0.001464966859786623,
          0.0014656864421330202,
          0.00146646476589545,
          0.0014683151205004711,
          0.0014704738675396629,
          0.0014739102403775596,
          0.0014770822768433104,
          0.0014785801829521373,
          0.0014807976714073612,
          0.0014822662068081718,
          0.0014843368417233147,
          0.0014893004913780546,
          0.0014931480541281784,
          0.0014956445643095563,
          0.0014990368810854288,
          0.001503780250430047,
          0.0015042354964042983,
          0.001503780250430047,
          0.001506276760611425,
          0.0015100362112375001,
          0.001512914540623089,
          0.0015174670003656019,
          0.001524706879891598,
          0.001529009688615973,
          0.0015336943165445587,
          0.001538599224783266,
          0.0015393188071296635,
          0.0015418446880190576,
          0.0015450020391308003,
          0.0015472342129400326,
          0.0015529027595871613,
          0.0015605538290253845,
          0.0015666188802307324,
          0.0015708629475390749,
          0.0015741377814828825,
          0.0015770601669304956,
          0.0015813629756548707,
          0.0015871196344260483,
          0.0015907469168660504,
          0.001594873501342328,
          0.0016017315616641136,
          0.0016062987067606345,
          0.0016118791412837149,
          0.0016174889465148112,
          0.0016214393067429918,
          0.001625771486175383,
          0.0016310288429102848,
          0.0016366827042034056,
          0.0016415141856720725,
          0.0016466981156369339,
          0.0016518820456017953,
          0.0016570512902126485,
          0.0016603408095104643,
          0.0016629988585859315,
          0.001668079991072736,
          0.0016724121705051275,
          0.0016740569301540353,
          0.001677772324718086,
          0.0016815464606981692,
          0.0016816786288842422,
          0.0016825156940627043,
          0.0016849828335360661,
          0.0016864366835828686,
          0.0016883898356659466,
          0.0016916940403177705,
          0.0016943080333312133,
          0.0016948513914295132,
          0.001696187758644251,
          0.0016997269289602045,
          0.0017013570032551042,
          0.0017026933704698418,
          0.0017051898806512199,
          0.0017066584160520305,
          0.0017099332499958381,
          0.0017214906236002175,
          0.0017317263153438672,
          0.0017234437756832954,
          0.0017023556073276554,
          0.0016952772666957484,
          0.0016995507047121072,
          0.001699536019358099,
          0.0016971863627168022,
          0.001695086357093643,
          0.0016934562827987433,
          0.0016936912484628729,
          0.0016945723697033592,
          0.001693705933816881,
          0.0016911653675734787,
          0.0016893737543844896,
          0.0016884926331440034,
          0.001687611511903517,
          0.001684689126455904,
          0.001680959046537845,
          0.0016797842182171966,
          0.001679696106093148,
          0.0016770380570176808,
          0.0016714869932026167,
          0.0016685352370469874,
          0.001669034539083263,
          0.001668314956736866,
          0.001665128234917107,
          0.001661119133272894,
          0.0016570659755666566,
          0.0016542610729511084,
          0.0016511918339634144,
          0.001649077142986247,
          0.0016455379726702936,
          0.0016398841113771728,
          0.0016364036824772516,
          0.0016366973895574138,
          0.0016365652213713407,
          0.0016326148611431604,
          0.0016271959655141692,
          0.001623686165906232,
          0.0016224819668775672,
          0.0016206903536885784,
          0.0016150658631034738,
          0.001610792425087115,
          0.001610102213448734,
          0.0016080462638875992,
          0.001605784719370351,
          0.0016035672309151268,
          0.0015992203661287275,
          0.0015956077690427333,
          0.001595284691254555,
          0.0015950350402364174,
          0.0015922888790369015,
          0.0015909084557601395,
          0.0015899245370415965,
          0.001585592357609205,
          0.0015816419973810247,
          0.0015814951438409435,
          0.0015784112194992413,
          0.0015727867289141368,
          0.001571567844531464,
          0.0015714650470534071,
          0.0015673531479311377,
          0.001563667124075103,
          0.0015617580280540492,
          0.0015610971871236844,
          0.0015605391436713763,
          0.0015573817925596336,
          0.0015535048591014938,
          0.0015513020560002778,
          0.00154965729635137,
          0.0015479391099324216,
          0.0015452663755029462,
          0.0015444733663865086,
          0.001544267771430395,
          0.0015415069248768713,
          0.0015400090187680444,
          0.001539553772793793,
          0.0015369691504883664,
          0.0015338852261466641,
          0.0015338117993766236,
          0.001532769139242048,
          0.0015301551462286052,
          0.0015273061875510326,
          0.0015253677208219628,
          0.001524163521793298,
          0.0015222837964802606,
          0.0015211677095756445,
          0.0015200956787330528,
          0.0015191851867845502,
          0.001517657909967707,
          0.0015144858735019562,
          0.0015114900612843026,
          0.0015100949526535327,
          0.001509478167785192,
          0.001508626417252722,
          0.0015070257136658384,
          0.0015078921495523168,
          0.001508215227340495,
          0.0015055424929110198,
          0.0015052487858308577,
          0.001504911022688671,
          0.0015012249988326366,
          0.0014986403765272099,
          0.0014979061088268046,
          0.0014945137920509323,
          0.0014909305656729543,
          0.0014914004970012138,
          0.0014924578424897973,
          0.00149003475907846,
          0.0014877438438531954,
          0.0014876116756671223,
          0.001487567619605098,
          0.0014855850968140038,
          0.0014855557261059876,
          0.0014859522306642065,
          0.0014844836952633959,
          0.001481326344151653,
          0.001480195571893029,
          0.0014803717961411262,
          0.0014813997709216937,
          0.0014823690042862286,
          0.0014795787870246885,
          0.0014753347197163458,
          0.0014737340161294623,
          0.00147119344988606,
          0.0014698277119633062,
          0.0014709291135139141,
          0.001470092048335452,
          0.0014674339992599848,
          0.001467169662887839,
          0.001466347283063385,
          0.0014646144112904285,
          0.0014645556698743962,
          0.0014651283986807121,
          0.0014654661618228987,
          0.001465642386070996,
          0.001463278044075691,
          0.001459268942431478,
          0.0014591808303074294,
          0.00145871089897917,
          0.0014559941084876704,
          0.0014551570433092083,
          0.0014544521463168193,
          0.001452733959897871,
          0.0014521465457375466,
          0.001453306688704187,
          0.0014525577356497735,
          0.0014497234623262092,
          0.001448739543607666,
          0.0014502668204245091,
          0.001451794097241352,
          0.001451940950781433,
          0.001448196185509366,
          0.0014425276388622373,
          0.0014427185484643427,
          0.0014442605106351938,
          0.0014401192408049078,
          0.0014390472099623161,
          0.0014422486171360833,
          0.0014436730964748695,
          0.0014435702989968127,
          0.0014422339317820751,
          0.0014410150473994022,
          0.0014405451160711428,
          0.001439737421600697,
          0.0014401926675749483,
          0.0014403982625310618,
          0.0014365800704889543,
          0.0014351849618581842,
          0.0014366388119049867,
          0.0014361541952227193,
          0.001435419927522314,
          0.0014340835603075762,
          0.001432526912782717,
          0.0014326737663227982,
          0.0014327471930928387,
          0.0014323947445966441,
          0.001432526912782717,
          0.0014317779597283037,
          0.001428224104058342,
          0.0014273282974638477,
          0.0014297954369372093,
          0.001429457673795023,
          0.0014281066212262772,
          0.0014258010206470045,
          0.0014252576625487046,
          0.001425419201442794,
          0.001424347170600202,
          0.0014245380802023074,
          0.001426711512595507,
          0.0014273282974638477,
          0.0014263150080372883,
          0.0014239653513959912,
          0.0014214541558606052,
          0.0014219534578968809,
          0.0014249198994065182,
          0.0014258744474170452,
          0.00142459682161834,
          0.001421292616966516,
          0.0014194275770074865,
          0.0014217625482947755,
          0.0014219534578968809,
          0.001420602405328135,
          0.0014210723366563944,
          0.001419912193689754,
          0.0014200443618758271,
          0.0014207639442222243,
          0.001419618486609592,
          0.0014198828229817378,
          0.0014215128972766375,
          0.0014207639442222243,
          0.0014195450598395514,
          0.0014199268790437622,
          0.0014218800311268402,
          0.0014216450654627106,
          0.0014187814214311298,
          0.0014192219820513732,
          0.0014214688412146133,
          0.0014207052028061917,
          0.0014202059007699162,
          0.0014206758320981757,
          0.0014203674396640054,
          0.001420998909886354,
          0.0014201324739998758,
          0.0014185023997049758,
          0.0014182968047488625,
          0.0014192807234674055,
          0.001419765340149673,
          0.0014205142932040863,
          0.0014204261810800377,
          0.0014188842189091866,
          0.0014168576400560681,
          0.0014155506435493466,
          0.001415036656159063,
          0.0014152863071772008,
          0.0014158737213375249,
          0.0014158002945674844,
          0.0014167401572240032,
          0.0014186198825370407,
          0.001419750654795665,
          0.0014195010037775272,
          0.0014169016961180923,
          0.0014167842132860274,
          0.0014175919077564732,
          0.0014164758208518573,
          0.0014173716274463518,
          0.0014187520507231138,
          0.001418252748686838,
          0.0014188989042631947,
          0.0014199415643977704,
          0.0014195597451935596,
          0.0014186933093070812,
          0.0014178856148366354,
          0.0014183555461648948,
          0.001421013595240362,
          0.001423098915509513,
          0.0014219240871888646,
          0.001419192611343357,
          0.0014192807234674055,
          0.0014216010094006862,
          0.0014210870220104025,
          0.0014200884179378513,
          0.0014210576513023862,
          0.0014209107977623053,
          0.0014209107977623053,
          0.0014221884235610105,
          0.0014246702483883805,
          0.0014242443731221452,
          0.0014222912210390673,
          0.0014233926225896752,
          0.0014252429771946964,
          0.0014245380802023074,
          0.0014255954256908912,
          0.0014290611692368042,
          0.0014305443899916227,
          0.0014298101222912174,
          0.001428914315696723,
          0.0014281359919342935,
          0.0014279157116241718,
          0.001429472359149031,
          0.001430294738973485,
          0.0014303387950355092,
          0.001428796832864658,
          0.0014282387894123502,
          0.0014292080227768851,
          0.0014300891440173714,
          0.001431278657692028,
          0.0014324681713666846,
          0.0014328940466329196,
          0.001434186357785633,
          0.0014347884572999655,
          0.0014342744699096816,
          0.0014340688749535683,
          0.0014345094355738114,
          0.0014366094411969706,
          0.0014390618953163243,
          0.0014385479079260404,
          0.0014382248301378622,
          0.0014392087488564053,
          0.001437343708897376,
          0.0014367122386750272,
          0.001438474481156,
          0.001439737421600697,
          0.0014395171412905756,
          0.0014380192351817487,
          0.0014382395154918703,
          0.001441235327709524,
          0.0014433500186866912,
          0.0014437318378909018,
          0.0014431444237305777,
          0.00144289477271244,
          0.001441117844877459,
          0.0014400751847428836,
          0.0014413234398335726,
          0.0014424835828002129,
          0.0014435702989968127,
          0.0014451710025836964,
          0.001444187083865153,
          0.0014422339317820751,
          0.0014432325358546263,
          0.0014453325414777855,
          0.0014467423354625635,
          0.0014464486283824016,
          0.0014456409339119556,
          0.0014464045723203772,
          0.0014464192576743853,
          0.0014467717061705798,
          0.0014490626213958444,
          0.0014503402471945496,
          0.0014483430390494472,
          0.0014468304475866122,
          0.00144622834807228,
          0.0014459346409921177,
          0.001448181500155358,
          0.0014494884966620794,
          0.0014487982850236985,
          0.00144762345670305,
          0.0014468304475866122,
          0.001448592690067585,
          0.0014493856991840226,
          0.001447652827411066,
          0.001447770310243131,
          0.001447212266790823,
          0.0014454940803718746,
          0.0014442605106351938,
          0.0014447598126714693,
          0.0014453178561237773,
          0.0014469773011266934,
          0.0014475206592249933,
          0.0014445542177153557,
          0.0014451710025836964,
          0.001448445836527504,
          0.0014494444406000552,
          0.001448445836527504,
          0.001447638142057058,
          0.0014460668091781908,
          0.0014448185540875016,
          0.0014439814889090398,
          0.0014424542120921966,
          0.0014426598070483101,
          0.0014435849843508208,
          0.0014428360312964074,
          0.0014426598070483101,
          0.0014431591090845858,
          0.0014431150530225614,
          0.0014425863802782696,
          0.0014428360312964074,
          0.0014454647096638583,
          0.0014464633137364095,
          0.001444025544971064,
          0.0014409416206293618,
          0.0014399430165568106,
          0.0014403688918230456,
          0.0014408681938593213,
          0.001441382181249605,
          0.0014431150530225614,
          0.0014427038631103345,
          0.0014417493150998076,
          0.0014433059626246668,
          0.0014440842863870965,
          0.0014428507166504155,
          0.0014410444181074185,
          0.001440295465053005,
          0.0014395024559365674,
          0.0014399136458487943,
          0.0014402367236369727,
          0.0014395465119985916,
          0.0014393409170424783,
          0.0014395171412905756,
          0.0014392821756264457,
          0.0014369031482771326,
          0.0014353905568142977,
          0.0014373290235433678,
          0.001437226226065311,
          0.0014355227250003708,
          0.00143544929823033,
          0.0014358898588505734,
          0.0014362863634087922,
          0.0014362129366387517,
          0.0014374758770834487,
          0.0014379604937657163
         ]
        },
        {
         "legendgroup": "Original data",
         "legendgrouptitle": {
          "text": "Original data"
         },
         "mode": "markers",
         "name": "peak: Mean_rwave",
         "type": "scatter",
         "x": [
          2.7755575615628914e-17
         ],
         "y": [
          0.0017317263153438672
         ]
        }
       ],
       "layout": {
        "template": {
         "data": {
          "bar": [
           {
            "error_x": {
             "color": "#2a3f5f"
            },
            "error_y": {
             "color": "#2a3f5f"
            },
            "marker": {
             "line": {
              "color": "#E5ECF6",
              "width": 0.5
             },
             "pattern": {
              "fillmode": "overlay",
              "size": 10,
              "solidity": 0.2
             }
            },
            "type": "bar"
           }
          ],
          "barpolar": [
           {
            "marker": {
             "line": {
              "color": "#E5ECF6",
              "width": 0.5
             },
             "pattern": {
              "fillmode": "overlay",
              "size": 10,
              "solidity": 0.2
             }
            },
            "type": "barpolar"
           }
          ],
          "carpet": [
           {
            "aaxis": {
             "endlinecolor": "#2a3f5f",
             "gridcolor": "white",
             "linecolor": "white",
             "minorgridcolor": "white",
             "startlinecolor": "#2a3f5f"
            },
            "baxis": {
             "endlinecolor": "#2a3f5f",
             "gridcolor": "white",
             "linecolor": "white",
             "minorgridcolor": "white",
             "startlinecolor": "#2a3f5f"
            },
            "type": "carpet"
           }
          ],
          "choropleth": [
           {
            "colorbar": {
             "outlinewidth": 0,
             "ticks": ""
            },
            "type": "choropleth"
           }
          ],
          "contour": [
           {
            "colorbar": {
             "outlinewidth": 0,
             "ticks": ""
            },
            "colorscale": [
             [
              0,
              "#0d0887"
             ],
             [
              0.1111111111111111,
              "#46039f"
             ],
             [
              0.2222222222222222,
              "#7201a8"
             ],
             [
              0.3333333333333333,
              "#9c179e"
             ],
             [
              0.4444444444444444,
              "#bd3786"
             ],
             [
              0.5555555555555556,
              "#d8576b"
             ],
             [
              0.6666666666666666,
              "#ed7953"
             ],
             [
              0.7777777777777778,
              "#fb9f3a"
             ],
             [
              0.8888888888888888,
              "#fdca26"
             ],
             [
              1,
              "#f0f921"
             ]
            ],
            "type": "contour"
           }
          ],
          "contourcarpet": [
           {
            "colorbar": {
             "outlinewidth": 0,
             "ticks": ""
            },
            "type": "contourcarpet"
           }
          ],
          "heatmap": [
           {
            "colorbar": {
             "outlinewidth": 0,
             "ticks": ""
            },
            "colorscale": [
             [
              0,
              "#0d0887"
             ],
             [
              0.1111111111111111,
              "#46039f"
             ],
             [
              0.2222222222222222,
              "#7201a8"
             ],
             [
              0.3333333333333333,
              "#9c179e"
             ],
             [
              0.4444444444444444,
              "#bd3786"
             ],
             [
              0.5555555555555556,
              "#d8576b"
             ],
             [
              0.6666666666666666,
              "#ed7953"
             ],
             [
              0.7777777777777778,
              "#fb9f3a"
             ],
             [
              0.8888888888888888,
              "#fdca26"
             ],
             [
              1,
              "#f0f921"
             ]
            ],
            "type": "heatmap"
           }
          ],
          "heatmapgl": [
           {
            "colorbar": {
             "outlinewidth": 0,
             "ticks": ""
            },
            "colorscale": [
             [
              0,
              "#0d0887"
             ],
             [
              0.1111111111111111,
              "#46039f"
             ],
             [
              0.2222222222222222,
              "#7201a8"
             ],
             [
              0.3333333333333333,
              "#9c179e"
             ],
             [
              0.4444444444444444,
              "#bd3786"
             ],
             [
              0.5555555555555556,
              "#d8576b"
             ],
             [
              0.6666666666666666,
              "#ed7953"
             ],
             [
              0.7777777777777778,
              "#fb9f3a"
             ],
             [
              0.8888888888888888,
              "#fdca26"
             ],
             [
              1,
              "#f0f921"
             ]
            ],
            "type": "heatmapgl"
           }
          ],
          "histogram": [
           {
            "marker": {
             "pattern": {
              "fillmode": "overlay",
              "size": 10,
              "solidity": 0.2
             }
            },
            "type": "histogram"
           }
          ],
          "histogram2d": [
           {
            "colorbar": {
             "outlinewidth": 0,
             "ticks": ""
            },
            "colorscale": [
             [
              0,
              "#0d0887"
             ],
             [
              0.1111111111111111,
              "#46039f"
             ],
             [
              0.2222222222222222,
              "#7201a8"
             ],
             [
              0.3333333333333333,
              "#9c179e"
             ],
             [
              0.4444444444444444,
              "#bd3786"
             ],
             [
              0.5555555555555556,
              "#d8576b"
             ],
             [
              0.6666666666666666,
              "#ed7953"
             ],
             [
              0.7777777777777778,
              "#fb9f3a"
             ],
             [
              0.8888888888888888,
              "#fdca26"
             ],
             [
              1,
              "#f0f921"
             ]
            ],
            "type": "histogram2d"
           }
          ],
          "histogram2dcontour": [
           {
            "colorbar": {
             "outlinewidth": 0,
             "ticks": ""
            },
            "colorscale": [
             [
              0,
              "#0d0887"
             ],
             [
              0.1111111111111111,
              "#46039f"
             ],
             [
              0.2222222222222222,
              "#7201a8"
             ],
             [
              0.3333333333333333,
              "#9c179e"
             ],
             [
              0.4444444444444444,
              "#bd3786"
             ],
             [
              0.5555555555555556,
              "#d8576b"
             ],
             [
              0.6666666666666666,
              "#ed7953"
             ],
             [
              0.7777777777777778,
              "#fb9f3a"
             ],
             [
              0.8888888888888888,
              "#fdca26"
             ],
             [
              1,
              "#f0f921"
             ]
            ],
            "type": "histogram2dcontour"
           }
          ],
          "mesh3d": [
           {
            "colorbar": {
             "outlinewidth": 0,
             "ticks": ""
            },
            "type": "mesh3d"
           }
          ],
          "parcoords": [
           {
            "line": {
             "colorbar": {
              "outlinewidth": 0,
              "ticks": ""
             }
            },
            "type": "parcoords"
           }
          ],
          "pie": [
           {
            "automargin": true,
            "type": "pie"
           }
          ],
          "scatter": [
           {
            "fillpattern": {
             "fillmode": "overlay",
             "size": 10,
             "solidity": 0.2
            },
            "type": "scatter"
           }
          ],
          "scatter3d": [
           {
            "line": {
             "colorbar": {
              "outlinewidth": 0,
              "ticks": ""
             }
            },
            "marker": {
             "colorbar": {
              "outlinewidth": 0,
              "ticks": ""
             }
            },
            "type": "scatter3d"
           }
          ],
          "scattercarpet": [
           {
            "marker": {
             "colorbar": {
              "outlinewidth": 0,
              "ticks": ""
             }
            },
            "type": "scattercarpet"
           }
          ],
          "scattergeo": [
           {
            "marker": {
             "colorbar": {
              "outlinewidth": 0,
              "ticks": ""
             }
            },
            "type": "scattergeo"
           }
          ],
          "scattergl": [
           {
            "marker": {
             "colorbar": {
              "outlinewidth": 0,
              "ticks": ""
             }
            },
            "type": "scattergl"
           }
          ],
          "scattermapbox": [
           {
            "marker": {
             "colorbar": {
              "outlinewidth": 0,
              "ticks": ""
             }
            },
            "type": "scattermapbox"
           }
          ],
          "scatterpolar": [
           {
            "marker": {
             "colorbar": {
              "outlinewidth": 0,
              "ticks": ""
             }
            },
            "type": "scatterpolar"
           }
          ],
          "scatterpolargl": [
           {
            "marker": {
             "colorbar": {
              "outlinewidth": 0,
              "ticks": ""
             }
            },
            "type": "scatterpolargl"
           }
          ],
          "scatterternary": [
           {
            "marker": {
             "colorbar": {
              "outlinewidth": 0,
              "ticks": ""
             }
            },
            "type": "scatterternary"
           }
          ],
          "surface": [
           {
            "colorbar": {
             "outlinewidth": 0,
             "ticks": ""
            },
            "colorscale": [
             [
              0,
              "#0d0887"
             ],
             [
              0.1111111111111111,
              "#46039f"
             ],
             [
              0.2222222222222222,
              "#7201a8"
             ],
             [
              0.3333333333333333,
              "#9c179e"
             ],
             [
              0.4444444444444444,
              "#bd3786"
             ],
             [
              0.5555555555555556,
              "#d8576b"
             ],
             [
              0.6666666666666666,
              "#ed7953"
             ],
             [
              0.7777777777777778,
              "#fb9f3a"
             ],
             [
              0.8888888888888888,
              "#fdca26"
             ],
             [
              1,
              "#f0f921"
             ]
            ],
            "type": "surface"
           }
          ],
          "table": [
           {
            "cells": {
             "fill": {
              "color": "#EBF0F8"
             },
             "line": {
              "color": "white"
             }
            },
            "header": {
             "fill": {
              "color": "#C8D4E3"
             },
             "line": {
              "color": "white"
             }
            },
            "type": "table"
           }
          ]
         },
         "layout": {
          "annotationdefaults": {
           "arrowcolor": "#2a3f5f",
           "arrowhead": 0,
           "arrowwidth": 1
          },
          "autotypenumbers": "strict",
          "coloraxis": {
           "colorbar": {
            "outlinewidth": 0,
            "ticks": ""
           }
          },
          "colorscale": {
           "diverging": [
            [
             0,
             "#8e0152"
            ],
            [
             0.1,
             "#c51b7d"
            ],
            [
             0.2,
             "#de77ae"
            ],
            [
             0.3,
             "#f1b6da"
            ],
            [
             0.4,
             "#fde0ef"
            ],
            [
             0.5,
             "#f7f7f7"
            ],
            [
             0.6,
             "#e6f5d0"
            ],
            [
             0.7,
             "#b8e186"
            ],
            [
             0.8,
             "#7fbc41"
            ],
            [
             0.9,
             "#4d9221"
            ],
            [
             1,
             "#276419"
            ]
           ],
           "sequential": [
            [
             0,
             "#0d0887"
            ],
            [
             0.1111111111111111,
             "#46039f"
            ],
            [
             0.2222222222222222,
             "#7201a8"
            ],
            [
             0.3333333333333333,
             "#9c179e"
            ],
            [
             0.4444444444444444,
             "#bd3786"
            ],
            [
             0.5555555555555556,
             "#d8576b"
            ],
            [
             0.6666666666666666,
             "#ed7953"
            ],
            [
             0.7777777777777778,
             "#fb9f3a"
            ],
            [
             0.8888888888888888,
             "#fdca26"
            ],
            [
             1,
             "#f0f921"
            ]
           ],
           "sequentialminus": [
            [
             0,
             "#0d0887"
            ],
            [
             0.1111111111111111,
             "#46039f"
            ],
            [
             0.2222222222222222,
             "#7201a8"
            ],
            [
             0.3333333333333333,
             "#9c179e"
            ],
            [
             0.4444444444444444,
             "#bd3786"
            ],
            [
             0.5555555555555556,
             "#d8576b"
            ],
            [
             0.6666666666666666,
             "#ed7953"
            ],
            [
             0.7777777777777778,
             "#fb9f3a"
            ],
            [
             0.8888888888888888,
             "#fdca26"
            ],
            [
             1,
             "#f0f921"
            ]
           ]
          },
          "colorway": [
           "#636efa",
           "#EF553B",
           "#00cc96",
           "#ab63fa",
           "#FFA15A",
           "#19d3f3",
           "#FF6692",
           "#B6E880",
           "#FF97FF",
           "#FECB52"
          ],
          "font": {
           "color": "#2a3f5f"
          },
          "geo": {
           "bgcolor": "white",
           "lakecolor": "white",
           "landcolor": "#E5ECF6",
           "showlakes": true,
           "showland": true,
           "subunitcolor": "white"
          },
          "hoverlabel": {
           "align": "left"
          },
          "hovermode": "closest",
          "mapbox": {
           "style": "light"
          },
          "paper_bgcolor": "white",
          "plot_bgcolor": "#E5ECF6",
          "polar": {
           "angularaxis": {
            "gridcolor": "white",
            "linecolor": "white",
            "ticks": ""
           },
           "bgcolor": "#E5ECF6",
           "radialaxis": {
            "gridcolor": "white",
            "linecolor": "white",
            "ticks": ""
           }
          },
          "scene": {
           "xaxis": {
            "backgroundcolor": "#E5ECF6",
            "gridcolor": "white",
            "gridwidth": 2,
            "linecolor": "white",
            "showbackground": true,
            "ticks": "",
            "zerolinecolor": "white"
           },
           "yaxis": {
            "backgroundcolor": "#E5ECF6",
            "gridcolor": "white",
            "gridwidth": 2,
            "linecolor": "white",
            "showbackground": true,
            "ticks": "",
            "zerolinecolor": "white"
           },
           "zaxis": {
            "backgroundcolor": "#E5ECF6",
            "gridcolor": "white",
            "gridwidth": 2,
            "linecolor": "white",
            "showbackground": true,
            "ticks": "",
            "zerolinecolor": "white"
           }
          },
          "shapedefaults": {
           "line": {
            "color": "#2a3f5f"
           }
          },
          "ternary": {
           "aaxis": {
            "gridcolor": "white",
            "linecolor": "white",
            "ticks": ""
           },
           "baxis": {
            "gridcolor": "white",
            "linecolor": "white",
            "ticks": ""
           },
           "bgcolor": "#E5ECF6",
           "caxis": {
            "gridcolor": "white",
            "linecolor": "white",
            "ticks": ""
           }
          },
          "title": {
           "x": 0.05
          },
          "xaxis": {
           "automargin": true,
           "gridcolor": "white",
           "linecolor": "white",
           "ticks": "",
           "title": {
            "standoff": 15
           },
           "zerolinecolor": "white",
           "zerolinewidth": 2
          },
          "yaxis": {
           "automargin": true,
           "gridcolor": "white",
           "linecolor": "white",
           "ticks": "",
           "title": {
            "standoff": 15
           },
           "zerolinecolor": "white",
           "zerolinewidth": 2
          }
         }
        },
        "title": {
         "text": "Mean data of the RECORDED EOG channel",
         "x": 0.5,
         "xanchor": "center",
         "y": 0.85,
         "yanchor": "top"
        },
        "xaxis": {
         "title": {
          "text": "Time in seconds"
         }
        },
        "yaxis": {
         "exponentformat": "e",
         "showexponent": "all",
         "title": {
          "text": "Artifact magnitude in V"
         }
        }
       }
      }
     },
     "metadata": {},
     "output_type": "display_data"
    },
    {
     "name": "stdout",
     "output_type": "stream",
     "text": [
      "Using EOG channel: EOG061\n",
      "EOG channel index for this subject is: [306]\n",
      "Filtering the data to remove DC offset to help distinguish blinks from saccades\n",
      "Selecting channel EOG061 for blink detection\n",
      "Setting up band-pass filter from 1 - 10 Hz\n",
      "\n",
      "FIR filter parameters\n",
      "---------------------\n",
      "Designing a two-pass forward and reverse, zero-phase, non-causal bandpass filter:\n",
      "- Windowed frequency-domain design (firwin2) method\n",
      "- Hann window\n",
      "- Lower passband edge: 1.00\n",
      "- Lower transition bandwidth: 0.50 Hz (-12 dB cutoff frequency: 0.75 Hz)\n",
      "- Upper passband edge: 10.00 Hz\n",
      "- Upper transition bandwidth: 0.50 Hz (-12 dB cutoff frequency: 10.25 Hz)\n",
      "- Filter length: 10000 samples (10.000 s)\n",
      "\n",
      "Now detecting blinks and generating corresponding events\n",
      "Found 171 significant peaks\n",
      "Number of EOG events detected: 171\n",
      "Not setting metadata\n",
      "171 matching events found\n",
      "No baseline correction applied\n",
      "Using data from preloaded Raw for 171 events and 601 original time points ...\n",
      "0 bad epochs dropped\n",
      "___MEGqc___:  max_n_peaks_allowed_for_ch: 30\n",
      "Using EOG channel: EOG061\n",
      "EOG channel index for this subject is: [306]\n",
      "Filtering the data to remove DC offset to help distinguish blinks from saccades\n",
      "Selecting channel EOG061 for blink detection\n",
      "Setting up band-pass filter from 1 - 10 Hz\n",
      "\n",
      "FIR filter parameters\n",
      "---------------------\n",
      "Designing a two-pass forward and reverse, zero-phase, non-causal bandpass filter:\n",
      "- Windowed frequency-domain design (firwin2) method\n",
      "- Hann window\n",
      "- Lower passband edge: 1.00\n",
      "- Lower transition bandwidth: 0.50 Hz (-12 dB cutoff frequency: 0.75 Hz)\n",
      "- Upper passband edge: 10.00 Hz\n",
      "- Upper transition bandwidth: 0.50 Hz (-12 dB cutoff frequency: 10.25 Hz)\n",
      "- Filter length: 10000 samples (10.000 s)\n",
      "\n",
      "Now detecting blinks and generating corresponding events\n",
      "Found 171 significant peaks\n",
      "Number of EOG events detected: 171\n",
      "Not setting metadata\n",
      "171 matching events found\n",
      "No baseline correction applied\n",
      "Using data from preloaded Raw for 171 events and 601 original time points ...\n",
      "0 bad epochs dropped\n",
      "___MEGqc___:  max_n_peaks_allowed_for_ch: 30\n",
      "___MEGqc___:  Finished EOG. --- Execution 7.573581218719482 seconds ---\n",
      "___MEGqc___:  Starting Muscle artifacts calculation...\n",
      "___MEGqc___:  For this data file artifact detection was performed on magnetometers, they are more sensitive to muscle activity than gradiometers. \n",
      "Duration original:  120.001\n",
      "START (320, 3000)\n",
      "END (320, 3000)\n",
      "Duration of start attached:  3.0\n",
      "Duration of end attached:  3.0\n",
      "Duration after attaching dummy data:  126.001\n",
      "___MEGqc___:  No powerline noise found in data or PSD artifacts detection was not performed. Notch filtering skipped.\n",
      "Filtering raw data in 3 contiguous segments\n",
      "Setting up band-pass filter from 1.1e+02 - 1.4e+02 Hz\n",
      "\n",
      "FIR filter parameters\n",
      "---------------------\n",
      "Designing a one-pass, zero-phase, non-causal bandpass filter:\n",
      "- Windowed time-domain design (firwin) method\n",
      "- Hamming window with 0.0194 passband ripple and 53 dB stopband attenuation\n",
      "- Lower passband edge: 110.00\n",
      "- Lower transition bandwidth: 27.50 Hz (-6 dB cutoff frequency: 96.25 Hz)\n",
      "- Upper passband edge: 140.00 Hz\n",
      "- Upper transition bandwidth: 35.00 Hz (-6 dB cutoff frequency: 157.50 Hz)\n",
      "- Filter length: 121 samples (0.121 s)\n",
      "\n",
      "Setting up low-pass filter at 4 Hz\n",
      "\n",
      "FIR filter parameters\n",
      "---------------------\n",
      "Designing a one-pass, zero-phase, non-causal lowpass filter:\n",
      "- Windowed time-domain design (firwin) method\n",
      "- Hamming window with 0.0194 passband ripple and 53 dB stopband attenuation\n",
      "- Upper passband edge: 4.00 Hz\n",
      "- Upper transition bandwidth: 2.00 Hz (-6 dB cutoff frequency: 5.00 Hz)\n",
      "- Filter length: 1651 samples (1.651 s)\n",
      "\n",
      "___MEGqc___:  Finished Muscle artifacts calculation. --- Execution 10.870388746261597 seconds ---\n",
      "___MEGqc___:  QC_derivs {'MEG data quality analysis report': [], 'Report_strings': [MEG QC derivative: \n",
      " content: <class 'dict'>\n",
      " name: ReportStrings\n",
      " type: json\n",
      " description for user: \n",
      " ], 'Interactive time series': [], 'Sensors locations': [MEG QC derivative: \n",
      " content: <class 'pandas.core.frame.DataFrame'>\n",
      " name: Sensors\n",
      " type: df\n",
      " description for user: \n",
      " ], 'Standard deviation of the data': [MEG QC derivative: \n",
      " content: <class 'pandas.core.frame.DataFrame'>\n",
      " name: std_per_epoch_vs_mean_ratio_mag\n",
      " type: df\n",
      " description for user: \n",
      " , MEG QC derivative: \n",
      " content: <class 'pandas.core.frame.DataFrame'>\n",
      " name: Noisy_epochs_on_std_base_mag\n",
      " type: df\n",
      " description for user: \n",
      " , MEG QC derivative: \n",
      " content: <class 'pandas.core.frame.DataFrame'>\n",
      " name: Flat_epochs_on_std_base_mag\n",
      " type: df\n",
      " description for user: \n",
      " , MEG QC derivative: \n",
      " content: <class 'pandas.core.frame.DataFrame'>\n",
      " name: std_per_epoch_vs_mean_ratio_grad\n",
      " type: df\n",
      " description for user: \n",
      " , MEG QC derivative: \n",
      " content: <class 'pandas.core.frame.DataFrame'>\n",
      " name: Noisy_epochs_on_std_base_grad\n",
      " type: df\n",
      " description for user: \n",
      " , MEG QC derivative: \n",
      " content: <class 'pandas.core.frame.DataFrame'>\n",
      " name: Flat_epochs_on_std_base_grad\n",
      " type: df\n",
      " description for user: \n",
      " , MEG QC derivative: \n",
      " content: <class 'pandas.core.frame.DataFrame'>\n",
      " name: STDs\n",
      " type: df\n",
      " description for user: \n",
      " ], 'Frequency spectrum': [MEG QC derivative: \n",
      " content: <class 'pandas.core.frame.DataFrame'>\n",
      " name: abs_ampl_mag\n",
      " type: df\n",
      " description for user: \n",
      " , MEG QC derivative: \n",
      " content: <class 'pandas.core.frame.DataFrame'>\n",
      " name: relative_ampl_mag\n",
      " type: df\n",
      " description for user: \n",
      " , MEG QC derivative: \n",
      " content: <class 'pandas.core.frame.DataFrame'>\n",
      " name: ampl_by_Nfreq_mag\n",
      " type: df\n",
      " description for user: \n",
      " , MEG QC derivative: \n",
      " content: <class 'pandas.core.frame.DataFrame'>\n",
      " name: PSDnoiseMag\n",
      " type: df\n",
      " description for user: \n",
      " , MEG QC derivative: \n",
      " content: <class 'pandas.core.frame.DataFrame'>\n",
      " name: PSDwavesMag\n",
      " type: df\n",
      " description for user: \n",
      " , MEG QC derivative: \n",
      " content: <class 'pandas.core.frame.DataFrame'>\n",
      " name: abs_ampl_grad\n",
      " type: df\n",
      " description for user: \n",
      " , MEG QC derivative: \n",
      " content: <class 'pandas.core.frame.DataFrame'>\n",
      " name: relative_ampl_grad\n",
      " type: df\n",
      " description for user: \n",
      " , MEG QC derivative: \n",
      " content: <class 'pandas.core.frame.DataFrame'>\n",
      " name: ampl_by_Nfreq_grad\n",
      " type: df\n",
      " description for user: \n",
      " , MEG QC derivative: \n",
      " content: <class 'pandas.core.frame.DataFrame'>\n",
      " name: PSDnoiseGrad\n",
      " type: df\n",
      " description for user: \n",
      " , MEG QC derivative: \n",
      " content: <class 'pandas.core.frame.DataFrame'>\n",
      " name: PSDwavesGrad\n",
      " type: df\n",
      " description for user: \n",
      " , MEG QC derivative: \n",
      " content: <class 'pandas.core.frame.DataFrame'>\n",
      " name: PSDs\n",
      " type: df\n",
      " description for user: \n",
      " ], 'Peak-to-Peak manual': [MEG QC derivative: \n",
      " content: <class 'pandas.core.frame.DataFrame'>\n",
      " name: ptp_per_epoch_vs_mean_ratio_mag\n",
      " type: df\n",
      " description for user: \n",
      " , MEG QC derivative: \n",
      " content: <class 'pandas.core.frame.DataFrame'>\n",
      " name: Noisy_epochs_on_ptp_base_mag\n",
      " type: df\n",
      " description for user: \n",
      " , MEG QC derivative: \n",
      " content: <class 'pandas.core.frame.DataFrame'>\n",
      " name: Flat_epochs_on_ptp_base_mag\n",
      " type: df\n",
      " description for user: \n",
      " , MEG QC derivative: \n",
      " content: <class 'pandas.core.frame.DataFrame'>\n",
      " name: ptp_per_epoch_vs_mean_ratio_grad\n",
      " type: df\n",
      " description for user: \n",
      " , MEG QC derivative: \n",
      " content: <class 'pandas.core.frame.DataFrame'>\n",
      " name: Noisy_epochs_on_ptp_base_grad\n",
      " type: df\n",
      " description for user: \n",
      " , MEG QC derivative: \n",
      " content: <class 'pandas.core.frame.DataFrame'>\n",
      " name: Flat_epochs_on_ptp_base_grad\n",
      " type: df\n",
      " description for user: \n",
      " , MEG QC derivative: \n",
      " content: <class 'pandas.core.frame.DataFrame'>\n",
      " name: PtPsManual\n",
      " type: df\n",
      " description for user: \n",
      " ], 'Peak-to-Peak auto from MNE': [], 'ECG': [MEG QC derivative: \n",
      " content: <class 'pandas.core.frame.DataFrame'>\n",
      " name: ECGchannel\n",
      " type: df\n",
      " description for user: \n",
      " , MEG QC derivative: \n",
      " content: <class 'plotly.graph_objs._figure.Figure'>\n",
      " name: Mean_artifactECG\n",
      " type: plotly\n",
      " description for user: Mean event of ECG channel has expected shape.\n",
      " , MEG QC derivative: \n",
      " content: <class 'pandas.core.frame.DataFrame'>\n",
      " name: ECGs\n",
      " type: df\n",
      " description for user: \n",
      " ], 'EOG': [MEG QC derivative: \n",
      " content: <class 'plotly.graph_objs._figure.Figure'>\n",
      " name: Mean_artifactEOG\n",
      " type: plotly\n",
      " description for user: Mean event of EOG channel has expected shape.\n",
      " , MEG QC derivative: \n",
      " content: <class 'pandas.core.frame.DataFrame'>\n",
      " name: EOGs\n",
      " type: df\n",
      " description for user: \n",
      " ], 'Head movement artifacts': [], 'High frequency (Muscle) artifacts': [MEG QC derivative: \n",
      " content: <class 'pandas.core.frame.DataFrame'>\n",
      " name: Muscle\n",
      " type: df\n",
      " description for user: \n",
      " ]}\n",
      "Embedding : jquery-3.6.0.min.js\n",
      "Embedding : bootstrap.bundle.min.js\n",
      "Embedding : bootstrap.min.css\n",
      "Embedding : bootstrap-table/bootstrap-table.min.js\n",
      "Embedding : bootstrap-table/bootstrap-table.min.css\n",
      "Embedding : bootstrap-table/bootstrap-table-copy-rows.min.js\n",
      "Embedding : bootstrap-table/bootstrap-table-export.min.js\n",
      "Embedding : bootstrap-table/tableExport.min.js\n",
      "Embedding : bootstrap-icons/bootstrap-icons.mne.min.css\n",
      "Embedding : highlightjs/highlight.min.js\n",
      "Embedding : highlightjs/atom-one-dark-reasonable.min.css\n",
      "Overwriting existing file.\n",
      "Saving report to : /data/areer/MEG_QC_stuff/data/openneuro/ds003483/derivatives/Meg_QC/sub-013/sub-013_ses-1_task-deduction_run-1_desc-REPORT_meg.html\n"
     ]
    }
   ],
   "source": [
    "import sys\n",
    "import os\n",
    "\n",
    "# Get the absolute path of the parent directory of the current script\n",
    "parent_dir = os.path.dirname(os.getcwd())\n",
    "\n",
    "# Add the parent directory to sys.path\n",
    "sys.path.append(parent_dir)\n",
    "\n",
    "from meg_qc.calculation.meg_qc_pipeline import make_derivative_meg_qc\n",
    "\n",
    "config_file_path = parent_dir+'/meg_qc/settings/settings.ini' \n",
    "internal_config_file_path=parent_dir+'/meg_qc/settings/settings_internal.ini' # internal settings in in\n",
    "#raw, raw_cropped_filtered_resampled, QC_derivs, QC_simple, df_head_pos, head_pos, scores_muscle_all1, scores_muscle_all2, scores_muscle_all3, raw1, raw2, raw3, avg_ecg, avg_eog = make_derivative_meg_qc(config_file_path, internal_config_file_path)\n",
    "\n",
    "for_report = make_derivative_meg_qc(config_file_path, internal_config_file_path)\n",
    "\n"
   ]
  },
  {
   "cell_type": "code",
   "execution_count": null,
   "metadata": {},
   "outputs": [],
   "source": []
  },
  {
   "cell_type": "code",
   "execution_count": null,
   "metadata": {},
   "outputs": [],
   "source": [
    "import pandas as pd\n",
    "print(pd.__version__)"
   ]
  },
  {
   "cell_type": "code",
   "execution_count": null,
   "metadata": {},
   "outputs": [],
   "source": [
    "import mne\n",
    "raw = mne.io.read_raw_fif('/Volumes/M2_DATA/MEG_QC_stuff/data/openneuro/ds003483/sub-022/ses-1/meg/sub-022_ses-1_task-deduction_run-1_meg.fif', on_split_missing='ignore')\n",
    "\n",
    "#print(raw.info)\n",
    "print(type(raw.info))\n",
    "\n",
    "#How to extract raw.info from data file, save in derivs and later embed it into the mne report?\n",
    "\n",
    "rep = mne.Report(raw)\n"
   ]
  },
  {
   "cell_type": "code",
   "execution_count": null,
   "metadata": {},
   "outputs": [],
   "source": [
    "import plotly.graph_objects as go\n",
    "import pandas as pd\n",
    "from meg_qc.source.universal_plots import make_3d_sensors_trace, keep_unique_locs, switch_names_on_off, QC_derivative\n",
    "from meg_qc.source.initial_meg_qc import MEG_channels\n",
    "\n",
    "\n",
    "def plot_sensors_3d_csv(sensors_csv_path: str):\n",
    "\n",
    "    \"\"\"\n",
    "    Plots the 3D locations of the sensors in the raw file. Plot both mags and grads (if both present) in 1 figure. \n",
    "    Can turn mags/grads visialisation on and off.\n",
    "    Separete channels into brain areas by color coding.\n",
    "\n",
    "\n",
    "    Parameters\n",
    "    ----------\n",
    "    chs_by_lobe : dict\n",
    "        A dictionary of channels by ch type and lobe.\n",
    "    \n",
    "    Returns\n",
    "    -------\n",
    "    qc_derivative : list\n",
    "        A list of QC_derivative objects containing the plotly figures with the sensor locations.\n",
    "\n",
    "    \"\"\"\n",
    "\n",
    "    df = pd.read_csv(sensors_csv_path, sep='\\t')\n",
    "\n",
    "\n",
    "    #to not rewrite the whole func, just turn the df back into dic of MEG_channels:\n",
    "\n",
    "    unique_lobes = df['Lobe'].unique().tolist()\n",
    "\n",
    "    lobes_dict={}\n",
    "    for lobe in unique_lobes:\n",
    "        lobes_dict[lobe] = []\n",
    "        for index, row in df.iterrows():\n",
    "            if row['Lobe'] == lobe:\n",
    "                locs = [row[col] for col in df.columns if 'Sensor_location' in col]\n",
    "                lobes_dict[lobe].append(MEG_channels(name = row['Name'], type = row['Type'], lobe = row['Lobe'], lobe_color = row['Lobe Color'], loc = locs))\n",
    "\n",
    "    print(lobes_dict)\n",
    "\n",
    "    traces = []\n",
    "\n",
    "    if len(lobes_dict)>1: #if there are lobes - we use color coding: one color pear each lobe\n",
    "        for lobe in lobes_dict:\n",
    "            ch_locs, ch_names, ch_color, ch_lobe = keep_unique_locs(lobes_dict[lobe])\n",
    "            traces.append(make_3d_sensors_trace(ch_locs, ch_names, ch_color[0], 10, ch_lobe[0], 'circle', 'top left'))\n",
    "            #here color and lobe must be identical for all channels in 1 trace, thi is why we take the first element of the list\n",
    "            # TEXT SIZE set to 10. This works for the \"Always show names\" option but not for \"Show names on hover\" option\n",
    "\n",
    "    else: #if there are no lobes - we use random colors previously assigned to channels, channel names will be used instead of lobe names in make_3d_trace function\n",
    "        ch_locs, ch_names, ch_color, ch_lobe = keep_unique_locs(lobes_dict[lobe])\n",
    "        for i, _ in enumerate(ch_locs):\n",
    "            traces.append(make_3d_sensors_trace([ch_locs[i]], ch_names[i], ch_color[i], 10, ch_names[i], 'circle', 'top left'))\n",
    "\n",
    "\n",
    "    fig = go.Figure(data=traces)\n",
    "\n",
    "    fig.update_layout(\n",
    "        width=900, height=900,\n",
    "        title={\n",
    "        'text': 'Sensors positions',\n",
    "        'y':0.85,\n",
    "        'x':0.5,\n",
    "        'xanchor': 'center',\n",
    "        'yanchor': 'top'})\n",
    "    \n",
    "    fig.update_layout(\n",
    "        scene = dict(\n",
    "        xaxis = dict(visible=False),\n",
    "        yaxis = dict(visible=False),\n",
    "        zaxis =dict(visible=False)\n",
    "        )\n",
    "    )\n",
    "\n",
    "    #check_num_channels_correct(chs_by_lobe, 'END_PLOT') #check we didnt change the original dict\n",
    "\n",
    "\n",
    "    # Add the button to have names show up on hover or always:\n",
    "    fig = switch_names_on_off(fig)\n",
    "\n",
    "    fig.update_traces(hoverlabel=dict(font=dict(size=10))) #TEXT SIZE set to 10 again. This works for the \"Show names on hover\" option, but not for \"Always show names\" option\n",
    "\n",
    "    fig.show()\n",
    "    \n",
    "    qc_derivative = [QC_derivative(content=fig, name='Sensors_positions', content_type='plotly', description_for_user=\"Magnetometers names end with '1' like 'MEG0111'. Gradiometers names end with '2' and '3' like 'MEG0112', 'MEG0113'. \")]\n",
    "\n",
    "    return qc_derivative \n",
    "\n",
    "plot_sensors_3d_csv(sensors_csv_path = '/Volumes/M2_DATA/MEG_QC_stuff/data/openneuro/ds003483/derivatives/Meg_QC/sub-009/sub-009_ses-1_task-deduction_run-1_desc-Sensors_meg.tsv')\n",
    "\n",
    "\n"
   ]
  },
  {
   "cell_type": "code",
   "execution_count": null,
   "metadata": {},
   "outputs": [],
   "source": [
    "import pandas as pd\n",
    "\n",
    "df = pd.DataFrame({'c1': [10, 11, 12], 'c2': [100, 110, 120]})\n",
    "df = df.reset_index()  # make sure indexes pair with number of rows\n",
    "\n",
    "for index, row in df.iterrows():\n",
    "    print(row['c1'], row['c2'])\n",
    "\n",
    "print(df)"
   ]
  },
  {
   "cell_type": "code",
   "execution_count": null,
   "metadata": {},
   "outputs": [],
   "source": [
    "Plotting_paths"
   ]
  },
  {
   "cell_type": "code",
   "execution_count": null,
   "metadata": {},
   "outputs": [],
   "source": [
    "import mne\n",
    "raw = mne.io.read_raw_fif('/Volumes/M2_DATA/MEG_QC_stuff/data/Jochem/Paris2020/sub-emptyroom/meg/sub-emptyroom_task-Paris5_meg.fif', allow_maxshield=True)\n",
    "#raw = mne.io.read_raw_fif('/Volumes/M2_DATA/MEG_QC_stuff/data/Jochem/LeerraumMD2016/sub-emptyroom/meg/sub-emptyroom_task-Magdeburg2_meg.fif')\n",
    "raw"
   ]
  },
  {
   "cell_type": "code",
   "execution_count": null,
   "metadata": {},
   "outputs": [],
   "source": [
    "#Aligned Wave Shapes:\n",
    "\n",
    "import numpy as np\n",
    "import matplotlib.pyplot as plt\n",
    "from scipy.stats import pearsonr\n",
    "\n",
    "# Generate two aligned wave shapes\n",
    "time = np.linspace(0, 1, 100)\n",
    "wave1 = np.sin(2 * np.pi * 2 * time)\n",
    "wave2 = np.sin(2 * np.pi * 2 * time)\n",
    "\n",
    "# Calculate correlation\n",
    "correlation = np.correlate(wave1, wave2, mode='same')\n",
    "corr1 = pearsonr(wave1, wave2)\n",
    "print(corr1)\n",
    "\n",
    "# Plot the wave shapes and correlation\n",
    "plt.subplot(2, 1, 1)\n",
    "plt.plot(time, wave1)\n",
    "plt.title('Wave 1')\n",
    "plt.subplot(2, 1, 2)\n",
    "plt.plot(time, wave2)\n",
    "plt.title('Wave 2')\n",
    "plt.show()\n",
    "\n",
    "\n",
    "#Misaligned Wave Shapes:\n",
    "\n",
    "import numpy as np\n",
    "import matplotlib.pyplot as plt\n",
    "\n",
    "# Generate two misaligned wave shapes\n",
    "time = np.linspace(0, 1, 100)\n",
    "wave1 = np.sin(2 * np.pi * 2 * time)\n",
    "wave2 = np.sin(2 * np.pi * 2 * (time + 0.15))  # Shifted by 0.2 seconds\n",
    "\n",
    "# Calculate correlation\n",
    "correlation = np.correlate(wave1, wave2, mode='same')\n",
    "corr2 = pearsonr(wave1, wave2)\n",
    "print(corr2)\n",
    "\n",
    "# Plot the wave shapes and correlation\n",
    "plt.subplot(2, 1, 1)\n",
    "plt.plot(time, wave1)\n",
    "plt.title('Wave 1')\n",
    "plt.subplot(2, 1, 2)\n",
    "plt.plot(time, wave2)\n",
    "plt.title('Wave 2')\n",
    "plt.show()"
   ]
  },
  {
   "cell_type": "code",
   "execution_count": null,
   "metadata": {},
   "outputs": [],
   "source": [
    "#Create wave shapes\n",
    "import plotly.graph_objects as go\n",
    "import numpy as np\n",
    "\n",
    "# Define the number of points in each array\n",
    "num_points = 100\n",
    "\n",
    "# Create an array of time values\n",
    "t = np.linspace(0, 2*np.pi, num_points)\n",
    "\n",
    "# Define the amplitudes for the R-wave shapes\n",
    "amplitudes = [1.0, 1.5, 2.0, 2.5, 3.0, 3.5]\n",
    "\n",
    "# Define the maximum time shift in seconds\n",
    "max_shift = 0.4\n",
    "\n",
    "# Create five arrays with R-wave shapes, shifted in time\n",
    "waves = []\n",
    "for i, amplitude in enumerate(amplitudes):\n",
    "    # Generate a random time shift within the maximum shift range\n",
    "    time_shift = np.random.uniform(-max_shift, max_shift)\n",
    "    \n",
    "    # Shift the time values\n",
    "    shifted_t = t + time_shift\n",
    "    \n",
    "    # Create the R-wave shape with the shifted time values\n",
    "    wave = np.exp(-shifted_t) * np.sin(4*shifted_t) * amplitude\n",
    "    #waves.append(wave)\n",
    "    waves.append(wave[::-1])\n",
    "\n",
    "\n",
    "fig = go.Figure()\n",
    "for i, wave in enumerate(waves):\n",
    "    fig.add_trace(go.Scatter(x=time, y=wave, name=f'Wave {i+1}'))\n",
    "fig.show()"
   ]
  },
  {
   "cell_type": "code",
   "execution_count": null,
   "metadata": {},
   "outputs": [],
   "source": [
    "import numpy as np\n",
    "\n",
    "# Assuming you have two arrays: array1 and array2\n",
    "array1 = waves[0]\n",
    "array2 = waves[5]\n",
    "\n",
    "import numpy as np\n",
    "import plotly.graph_objects as go\n",
    "from scipy.signal import find_peaks\n",
    "\n",
    "# Assuming you have two arrays: array1 and array2\n",
    "\n",
    "# Find peaks in both arrays\n",
    "peaks1, _ = find_peaks(array1)\n",
    "peaks2, _ = find_peaks(array2)\n",
    "\n",
    "# Calculate the time shift based on the peak positions\n",
    "time_shift = peaks1[0] - peaks2[0]\n",
    "\n",
    "# Shift array2 to align with array1\n",
    "aligned_array2 = np.roll(array2, time_shift)\n",
    "\n",
    "# Create the figure\n",
    "fig = go.Figure()\n",
    "\n",
    "# Add the array1 trace\n",
    "fig.add_trace(go.Scatter(x=np.arange(len(array1)), y=array1, name='Array 1'))\n",
    "\n",
    "# Add the array2 trace\n",
    "fig.add_trace(go.Scatter(x=np.arange(len(array2)), y=array2, name='Array 2'))\n",
    "\n",
    "# Add the aligned_array2 trace\n",
    "fig.add_trace(go.Scatter(x=np.arange(len(aligned_array2)), y=aligned_array2, name='Aligned Array 2'))\n",
    "\n",
    "# Set the layout\n",
    "fig.update_layout(title='Aligned Arrays using Peak Detection',\n",
    "                  xaxis_title='Time',\n",
    "                  yaxis_title='Amplitude')\n",
    "\n",
    "# Show the figure\n",
    "fig.show()"
   ]
  },
  {
   "cell_type": "code",
   "execution_count": null,
   "metadata": {},
   "outputs": [],
   "source": [
    "import numpy as np\n",
    "import plotly.graph_objects as go\n",
    "from scipy.signal import find_peaks\n",
    "\n",
    "array1 = waves[0]\n",
    "array2 = -waves[5]\n",
    "\n",
    "# Create the figure\n",
    "fig = go.Figure()\n",
    "\n",
    "# Add the array1 trace\n",
    "fig.add_trace(go.Scatter(x=np.arange(len(array1)), y=array1, name='Array 1'))\n",
    "\n",
    "# Add the array2 trace\n",
    "fig.add_trace(go.Scatter(x=np.arange(len(array2)), y=array2, name='Array 2'))\n",
    "\n",
    "# Set the layout\n",
    "fig.update_layout(title='Aligned Arrays using Peak Detection',\n",
    "                  xaxis_title='Time',\n",
    "                  yaxis_title='Amplitude')\n",
    "\n",
    "# Show the figure\n",
    "fig.show()\n"
   ]
  },
  {
   "cell_type": "code",
   "execution_count": null,
   "metadata": {},
   "outputs": [],
   "source": [
    "\n",
    "\n",
    "# Assuming you have two arrays: array1 and array2\n",
    "\n",
    "# Find peaks in array1\n",
    "peaks1, _ = find_peaks(array1)\n",
    "\n",
    "# Initialize variables for best alignment\n",
    "best_time_shift = 0\n",
    "best_correlation = -np.inf\n",
    "best_aligned_array2 = None\n",
    "\n",
    "# Try aligning array2 in both orientations\n",
    "for flip in [False, True]:\n",
    "    # Flip array2 if needed\n",
    "    #aligned_array2 = np.flip(array2) if flip else array2\n",
    "    aligned_array2 = -array2 if flip else array2\n",
    "\n",
    "    # Find peaks in aligned_array2\n",
    "    peaks2, _ = find_peaks(aligned_array2)\n",
    "\n",
    "    # Calculate the time shift based on the peak positions\n",
    "    time_shift = peaks1[0] - peaks2[0]\n",
    "\n",
    "    # Shift aligned_array2 to align with array1\n",
    "    aligned_array2 = np.roll(aligned_array2, time_shift)\n",
    "\n",
    "    # Calculate the correlation between array1 and aligned_array2\n",
    "    correlation = np.corrcoef(array1, aligned_array2)[0, 1]\n",
    "\n",
    "    # Update the best alignment if the correlation is higher\n",
    "    if correlation > best_correlation:\n",
    "        best_correlation = correlation\n",
    "        best_time_shift = time_shift\n",
    "        best_aligned_array2 = aligned_array2\n",
    "\n",
    "# Create the figure\n",
    "fig = go.Figure()\n",
    "\n",
    "# Add the array1 trace\n",
    "fig.add_trace(go.Scatter(x=np.arange(len(array1)), y=array1, name='Array 1'))\n",
    "\n",
    "# Add the array2 trace\n",
    "fig.add_trace(go.Scatter(x=np.arange(len(array2)), y=array2, name='Array 2'))\n",
    "\n",
    "# Add the best_aligned_array2 trace\n",
    "fig.add_trace(go.Scatter(x=np.arange(len(best_aligned_array2)), y=best_aligned_array2, name='Aligned Array 2'))\n",
    "\n",
    "# Set the layout\n",
    "fig.update_layout(title='Aligned Arrays with Flipped Second Array',\n",
    "                  xaxis_title='Time',\n",
    "                  yaxis_title='Amplitude')\n",
    "\n",
    "# Show the figure\n",
    "fig.show()"
   ]
  },
  {
   "cell_type": "code",
   "execution_count": null,
   "metadata": {},
   "outputs": [],
   "source": [
    "import numpy as np\n",
    "from scipy.signal import find_peaks\n",
    "\n",
    "avg_ecg_epoch_data_nonflipped_limited_to_event = np.array(waves)\n",
    "\n",
    "max_values=np.max(np.abs(avg_ecg_epoch_data_nonflipped_limited_to_event), axis=1)\n",
    "print(max_values)\n",
    "max_values_ind=np.argsort(max_values)[::-1] \n",
    "print(max_values_ind)\n",
    "max_values_ind=max_values_ind[:5]\n",
    "\n",
    "chosen_5 = (avg_ecg_epoch_data_nonflipped_limited_to_event[max_values_ind])\n",
    "\n",
    "thresh_lvl_peakfinder = 5\n",
    "\n",
    "\n",
    "#get the highest peak for every channel:\n",
    "max_amplitude1 = []\n",
    "index_of_max_amplitude1=[]\n",
    "for ch_data in avg_ecg_epoch_data_nonflipped_limited_to_event:\n",
    "\n",
    "    thresh_mean=(max(ch_data) - min(ch_data)) / thresh_lvl_peakfinder\n",
    "    peak_locs_pos, _ = find_peaks(ch_data, prominence=thresh_mean)\n",
    "    peak_locs_neg, _ = find_peaks(-ch_data, prominence=thresh_mean)\n",
    "\n",
    "    all_peaks = np.concatenate((peak_locs_pos, peak_locs_neg))\n",
    "    print('all peaks', all_peaks)\n",
    "\n",
    "    #Find the peak with the maximal amplitude:\n",
    "\n",
    "    max_amplitude_peak = np.argmax(np.abs(ch_data[all_peaks]))\n",
    "\n",
    "    #now find the index of this point in the channel data:\n",
    "    index_of_max_amplitude1.append(all_peaks[max_amplitude_peak])\n",
    "\n",
    "    print('Index1', index_of_max_amplitude1)\n",
    "\n",
    "    #now find the magnitude of the data in this point:\n",
    "\n",
    "    max_amplitude1.append(ch_data[index_of_max_amplitude1[-1]])\n",
    "\n",
    "    \n",
    "\n",
    "# find 5 channels which have the highest peaks and get the locations of these peaks:\n",
    "highest_channels_sorted = np.argsort(max_amplitude1)[::-1] \n",
    "print(highest_channels_sorted)\n",
    "max_ind_of_chosen_5=highest_channels_sorted[:5]\n",
    "\n",
    "print(max_ind_of_chosen_5)\n"
   ]
  },
  {
   "cell_type": "code",
   "execution_count": null,
   "metadata": {},
   "outputs": [],
   "source": [
    "index_of_max_amplitude2=[]\n",
    "for ch_data in max_ind_of_chosen_5:\n",
    "\n",
    "    thresh_mean=(max(ch_data) - min(ch_data)) / thresh_lvl_peakfinder\n",
    "    peak_locs_pos, _ = find_peaks(ch_data, prominence=thresh_mean)\n",
    "    peak_locs_neg, _ = find_peaks(-ch_data, prominence=thresh_mean)\n",
    "\n",
    "    all_peaks = np.concatenate((peak_locs_pos, peak_locs_neg))\n",
    "    print('all peaks', all_peaks)\n",
    "\n",
    "    #Find the peak with the maximal amplitude:\n",
    "\n",
    "    max_amplitude_peak = np.argmax(np.abs(ch_data[all_peaks]))\n",
    "\n",
    "\n",
    "    #6. Output the index of the point with the maximal amplitude:\n",
    "\n",
    "    index_of_max_amplitude1.append(all_peaks[max_amplitude_peak])\n",
    "    print('Index1', index_of_max_amplitude1)\n",
    "\n",
    "    if len(all_peaks)>1:\n",
    "        #7. Now find the second largest peak:\n",
    "        all_peaks_without_max = np.delete(all_peaks, max_amplitude_peak)\n",
    "\n",
    "        print('no max', all_peaks_without_max)\n",
    "\n",
    "        max_amplitude_peak = np.argmax(np.abs(ch_data[all_peaks_without_max]))\n",
    "\n",
    "\n",
    "        #6. Output the index of the point with the maximal amplitude:\n",
    "\n",
    "        index_of_max_amplitude2.append(all_peaks_without_max[max_amplitude_peak])\n",
    "        print('Index2', index_of_max_amplitude2)\n",
    "        \n",
    "    else:\n",
    "        index_of_max_amplitude2.append(np.nan)\n",
    "\n",
    "mean_index_of_max_amplitude1 = np.nanmean(index_of_max_amplitude1)\n",
    "\n",
    "# If in more than a half of cases there was no second biggest peak found, skip it and assign t) as first peak:\n",
    "non_zero_count = np.count_nonzero(index_of_max_amplitude2)\n",
    "percentage = (non_zero_count/len(index_of_max_amplitude2)) * 100\n",
    "\n",
    "if percentage < 50:\n",
    "    t0_peak = int(mean_index_of_max_amplitude1)\n",
    "else:\n",
    "    mean_index_of_max_amplitude2 = np.nanmean(index_of_max_amplitude2)\n",
    "    #Now out of them set the first peak (according to time) as t0.\n",
    "    t0_peak = int(np.nanmin([mean_index_of_max_amplitude1, mean_index_of_max_amplitude2]))\n",
    "\n",
    "\n",
    "print('mean_ind1', mean_index_of_max_amplitude1)\n",
    "print('mean_ind2', mean_index_of_max_amplitude2)\n",
    "\n",
    "\n",
    "print(t0_peak)\n",
    "\n"
   ]
  },
  {
   "cell_type": "code",
   "execution_count": null,
   "metadata": {},
   "outputs": [],
   "source": [
    "\n"
   ]
  },
  {
   "cell_type": "code",
   "execution_count": null,
   "metadata": {},
   "outputs": [],
   "source": [
    "import numpy as np\n",
    "\n",
    "arr = np.array([5, 2, 9, 1, 7, 3])\n",
    "\n",
    "# Get the indices that would sort the array in ascending order\n",
    "sorted_indices = np.argsort(arr)\n",
    "\n",
    "# Index of the largest value\n",
    "largest_index = sorted_indices[-1]\n",
    "\n",
    "# Index of the second largest value\n",
    "second_largest_index = sorted_indices[-2]\n",
    "\n",
    "print(\"Index of the largest value:\", largest_index)\n",
    "print(\"Index of the second largest value:\", second_largest_index)"
   ]
  },
  {
   "cell_type": "code",
   "execution_count": null,
   "metadata": {},
   "outputs": [],
   "source": [
    "import mne\n",
    "from IPython.display import display\n",
    "\n",
    "# Load the MEG data\n",
    "raw=mne.io.read_raw_fif('/Volumes/M2_DATA/MEG_QC_stuff/data/openneuro/ds004107/sub-mind002/ses-01/meg/sub-mind002_ses-01_task-auditory_meg.fif', preload=True)\n",
    "\n",
    "display(raw)\n"
   ]
  },
  {
   "cell_type": "code",
   "execution_count": null,
   "metadata": {},
   "outputs": [],
   "source": [
    "\n",
    "# Define the EOG channel names\n",
    "eog_channels = ['EOG 061', 'EOG 062']\n",
    "\n",
    "# extract the data of 2 EOG channels\n",
    "eog_data = raw.copy().pick_channels(eog_channels).get_data()\n",
    "\n",
    "print(eog_data)\n"
   ]
  },
  {
   "cell_type": "code",
   "execution_count": null,
   "metadata": {},
   "outputs": [],
   "source": [
    "\n",
    "# Plot the data with plotly:\n",
    "\n",
    "import plotly.graph_objs as go\n",
    "from plotly.subplots import make_subplots\n",
    "\n",
    "# Create a figure with two subplots\n",
    "fig = make_subplots(rows=2, cols=1)\n",
    "\n",
    "x_values = raw.times\n",
    "\n",
    "# Add a trace for the first subplot\n",
    "fig.add_trace(go.Scatter(x=x_values, y=eog_data[0], mode='lines', name='EOG 1'), row=1, col=1)\n",
    "\n",
    "# Add a trace for the second subplot\n",
    "fig.add_trace(go.Scatter(x=x_values, y=eog_data[1], mode='lines', name='EOG 2'), row=2, col=1)\n",
    "\n",
    "# Update the layout\n",
    "fig.update_layout(title='EOG Data', xaxis_title='Time (s)', yaxis_title='Amplitude')\n",
    "\n",
    "# Show the figure\n",
    "fig.show()\n",
    "\n"
   ]
  },
  {
   "cell_type": "code",
   "execution_count": null,
   "metadata": {},
   "outputs": [],
   "source": [
    "import numpy as np\n",
    "\n",
    "# create two arrays\n",
    "array1 = np.array([1, 2, 3, 4, 5])\n",
    "array2 = np.array([6, 7, 8, 9, 10])\n",
    "\n",
    "# stack the arrays horizontally\n",
    "stacked = np.stack((array1, array2), axis=0)\n",
    "\n",
    "display(stacked)\n",
    "\n",
    "# calculate the covariance matrix\n",
    "covariance_matrix = np.cov(stacked)\n",
    "\n",
    "print(covariance_matrix)\n"
   ]
  },
  {
   "cell_type": "code",
   "execution_count": null,
   "metadata": {},
   "outputs": [],
   "source": [
    "import mne\n",
    "import numpy as np\n",
    "from scipy.signal import find_peaks\n",
    "\n",
    "# Load the MEG data\n",
    "raw = mne.io.read_raw_fif('/Volumes/M2_DATA/MEG_QC_stuff/data/openneuro/ds003703/sub-a68d5xp5/meg/sub-a68d5xp5_task-listeningToSpeech_run-01_meg.fif')\n",
    "#raw=mne.io.read_raw_fif('/Volumes/M2_DATA/MEG_QC_stuff/data/openneuro/ds004107/sub-mind002/ses-01/meg/sub-mind002_ses-01_task-auditory_meg.fif', preload=True)\n",
    "\n",
    "# Select the EOG channels\n",
    "eog_channels = mne.pick_types(raw.info, meg=False, eeg=False, stim=False, eog=True)\n",
    "\n",
    "# Get the names of the EOG channels\n",
    "eog_channel_names = [raw.ch_names[ch] for ch in eog_channels]\n",
    "\n",
    "print('EOG channel names:', eog_channel_names)\n",
    "\n",
    "eog_events = mne.preprocessing.find_eog_events(raw)"
   ]
  },
  {
   "cell_type": "code",
   "execution_count": null,
   "metadata": {},
   "outputs": [],
   "source": [
    "\n",
    "picks_ECG = mne.pick_types(raw.info, ecg=True)\n",
    "ecg_ch_name = [raw.info['chs'][name]['ch_name'] for name in picks_ECG]\n",
    "\n",
    "arr=raw.get_data(picks=ecg_ch_name)[0] \n",
    "height = np.mean(arr) + 1 * np.std(arr)\n",
    "fs=raw.info['sfreq']\n",
    "peaks, _ = find_peaks(arr, height=height, distance=round(0.5 * fs)) #assume there are no peaks within 0.5 seconds from each other.\n",
    "ecg_events = peaks/fs\n",
    "\n",
    "# Define the time window of interest\n",
    "time_window = [0.2, 0.2]  # in seconds\n",
    "tmin=-0.2\n",
    "tmax=0.2\n",
    "\n",
    "# Convert time window to samples\n",
    "sfreq = 1000  # sampling frequency of your data\n",
    "time_window_samples = np.round(np.array(time_window) * sfreq).astype(int)\n",
    "print('samples', time_window_samples)\n",
    "\n",
    "# Initialize an empty array to store the extracted epochs\n",
    "epochs = np.zeros((len(peaks), int((tmax-tmin)*sfreq)))\n",
    "\n",
    "print('HERE')\n",
    "print(arr)\n",
    "print(epochs)\n",
    "\n",
    "# Loop through each ECG event and extract the corresponding epoch\n",
    "for i, event in enumerate(peaks):\n",
    "    start = event - time_window_samples[0]\n",
    "    start = np.round(event + tmin*sfreq).astype(int)\n",
    "    end = event + time_window_samples[1]\n",
    "    end= np.round(event + tmax*sfreq).astype(int)\n",
    "    epochs[i, :] = arr[start:end]\n",
    "\n",
    "#average all epochs:\n",
    "avg_ecg=np.mean(epochs, axis=0)\n",
    "\n",
    "#print average ecg with plotly:\n",
    "import plotly.graph_objects as go\n",
    "\n",
    "fig = go.Figure()\n",
    "#create time vector based on time window and sampling frequency:\n",
    "times= np.arange(tmin, tmax, 1/sfreq)\n",
    "fig.add_trace(go.Scatter(x=times, y=avg_ecg, mode='lines', name='ECG'))\n",
    "fig.show()\n",
    "\n",
    "\n"
   ]
  },
  {
   "cell_type": "code",
   "execution_count": null,
   "metadata": {},
   "outputs": [],
   "source": [
    "\n",
    "# Detect the R-wave peaks in the filtered ECG channel data\n",
    "r_peaks, ch_ecg, pulse, ecg_data_rec = mne.preprocessing.find_ecg_events(raw, return_ecg=True)\n",
    "print(ecg_data_rec)\n",
    "\n",
    "#plot the ECG data with plotly:\n",
    "import plotly.graph_objects as go\n",
    "\n",
    "times=[t for t in range(len(ecg_data_rec[0]))]\n",
    "fig = go.Figure()\n",
    "fig.add_trace(go.Scatter(x=times, y=ecg_data_rec[0], mode='lines', name='ECG'))\n",
    "fig.update_layout(title='ECG data', xaxis_title='Time (s)', yaxis_title='ECG (mV)')\n",
    "fig.show()\n",
    "\n",
    "# Calculate the time difference between each R-wave peak and the first R-wave peak\n",
    "r_wave_epochs = (r_peaks - r_peaks[0]) / raw.info['sfreq']\n",
    "print('r_wave_epochs', r_wave_epochs)\n",
    "\n",
    "# Calculate the average R-wave epoch\n",
    "avg_r_wave_epoch = np.mean(r_wave_epochs)\n",
    "print('avg_r_wave_epoch', avg_r_wave_epoch)\n",
    "\n",
    "if ecg_ch_name:\n",
    "    # Extract the ECG channel data\n",
    "    ecg_data, times = raw.get_data(ecg_ch_name, return_times=True)\n",
    "    ecg_data2=ecg_data_rec\n",
    "else:\n",
    "    ecg_data=ecg_data_rec\n",
    "\n",
    "\n",
    "\n",
    "# Use the average R-wave epoch to extract a segment of data from the ECG channel\n",
    "avg_r_wave_data = ecg_data[:, int(avg_r_wave_epoch * raw.info['sfreq']) : int((avg_r_wave_epoch + 0.2) * raw.info['sfreq'])]\n",
    "avg_r_wave_data2 = ecg_data2[:, int(avg_r_wave_epoch * raw.info['sfreq']) : int((avg_r_wave_epoch + 0.2) * raw.info['sfreq'])]\n",
    "\n",
    "#plot the average R-wave epoch with plotly:\n",
    "import plotly.graph_objects as go\n",
    "\n",
    "times=[t/raw.info['sfreq'] for t in range(len(avg_r_wave_data[0]))]\n",
    "fig = go.Figure()\n",
    "fig.add_trace(go.Scatter(x=times, y=avg_r_wave_data[0], mode='lines', name='ECG'))\n",
    "fig.add_trace(go.Scatter(x=times, y=avg_r_wave_data2[0], mode='lines', name='ECG2'))\n",
    "fig.update_layout(title='Average R-wave epoch', xaxis_title='Time (s)', yaxis_title='ECG (mV)')\n",
    "fig.show()\n",
    "\n",
    "raw"
   ]
  },
  {
   "cell_type": "code",
   "execution_count": null,
   "metadata": {},
   "outputs": [],
   "source": [
    "print([t/raw.info['sfreq'] for t in range(len(avg_r_wave_data[0]))])"
   ]
  },
  {
   "cell_type": "code",
   "execution_count": null,
   "metadata": {},
   "outputs": [],
   "source": [
    "ecg_data\n",
    "avg_r_wave_epoch * raw.info['sfreq']\n",
    "r_peaks[0]"
   ]
  },
  {
   "cell_type": "code",
   "execution_count": null,
   "metadata": {},
   "outputs": [],
   "source": [
    "avg_r_wave_data = ecg_data[:, int(avg_r_wave_epoch * raw.info['sfreq']) : int((avg_r_wave_epoch + 0.2) * raw.info['sfreq'])]\n",
    "avg_r_wave_data2 = ecg_data2[:, int(avg_r_wave_epoch * raw.info['sfreq']) : int((avg_r_wave_epoch + 0.2) * raw.info['sfreq'])]\n",
    "\n",
    "#plot the average R-wave epoch with plotly:\n",
    "import plotly.graph_objects as go\n",
    "\n",
    "times=[t/raw.info['sfreq'] for t in range(len(avg_r_wave_data[0]))]\n",
    "fig = go.Figure()\n",
    "fig.add_trace(go.Scatter(x=times, y=avg_r_wave_data[0], mode='lines', name='ECG'))\n",
    "fig.add_trace(go.Scatter(x=times, y=avg_r_wave_data2[0], mode='lines', name='ECG2'))\n",
    "fig.update_layout(title='Average R-wave epoch', xaxis_title='Time (s)', yaxis_title='ECG (mV)')\n",
    "fig.show()"
   ]
  },
  {
   "cell_type": "code",
   "execution_count": null,
   "metadata": {},
   "outputs": [],
   "source": [
    "import numpy as np\n",
    "from scipy.stats import pearsonr\n",
    "\n",
    "# Generate two waves\n",
    "wave1 = np.array([1, 2, 3, 4, 5])\n",
    "wave2 = np.array([2, 4, 6, 8, 10])\n",
    "\n",
    "# Calculate the Pearson correlation coefficient and p-value\n",
    "corr_coef, p_value = pearsonr(wave1, wave2)\n",
    "\n",
    "# Print the results\n",
    "print(\"Pearson correlation coefficient:\", corr_coef)\n",
    "print(\"p-value:\", p_value)\n",
    "\n",
    "\n",
    "#plot both waves with plotly:\n",
    "import plotly.graph_objects as go\n",
    "\n",
    "fig = go.Figure()\n",
    "fig.add_trace(go.Scatter(y=wave1, mode='lines', name='wave1'))\n",
    "fig.add_trace(go.Scatter(y=wave2, mode='lines', name='wave2'))\n",
    "fig.show()\n"
   ]
  },
  {
   "cell_type": "code",
   "execution_count": null,
   "metadata": {},
   "outputs": [],
   "source": [
    "import random\n",
    "\n",
    "lobe_colors = {\n",
    "        'Left Frontal': '#1f77b4',\n",
    "        'Right Frontal': '#ff7f0e',\n",
    "        'Left Temporal': '#2ca02c',\n",
    "        'Right Temporal': '#9467bd',\n",
    "        'Left Parietal': '#e377c2',\n",
    "        'Right Parietal': '#d62728',\n",
    "        'Left Occipital': '#bcbd22',\n",
    "        'Right Occipital': '#17becf'}\n",
    "\n",
    "print(random.choice(list(lobe_colors.values())))"
   ]
  },
  {
   "cell_type": "code",
   "execution_count": null,
   "metadata": {},
   "outputs": [],
   "source": [
    "from scipy.ndimage import gaussian_filter\n",
    "import numpy as np\n",
    "\n",
    "# Generate some noisy wave data\n",
    "x = np.linspace(0, 2*np.pi, 100)\n",
    "y = np.sin(x) + np.random.normal(0, 0.5, 100)\n",
    "\n",
    "# Apply Gaussian smoothing with a sigma of 2\n",
    "y_smooth = gaussian_filter(y, sigma=4)\n",
    "\n",
    "# Plot the original and smoothed waves\n",
    "import matplotlib.pyplot as plt\n",
    "plt.plot(x, y, label='Noisy wave')\n",
    "plt.plot(x, y_smooth, label='Smoothed wave')\n",
    "plt.legend()\n",
    "plt.show()\n"
   ]
  },
  {
   "cell_type": "code",
   "execution_count": null,
   "metadata": {},
   "outputs": [],
   "source": [
    "import plotly.graph_objs as go\n",
    "import pandas as pd\n",
    "\n",
    "# create sample data\n",
    "df = pd.DataFrame({'values': [1, 2, 3, 4, 5, 6, 7, 8, 9, 10]}, index=['A']*10)\n",
    "df = df.T\n",
    "print(df)\n",
    "\n",
    "# create box plot trace\n",
    "box_trace = go.Box(x=df.iloc[0], orientation='h')\n",
    "#box_trace = go.Box(x=df['values'], y=df.index, orientation='h', name='')\n",
    "\n",
    "fig = go.Figure(data=box_trace)\n",
    "\n",
    "for col in df.columns:\n",
    "    fig.add_trace(go.Scatter(x=df[col], name=col))\n",
    "\n",
    "# for v in df['values']:\n",
    "#     #fig.add_trace(go.Scatter(x=df['values'], y=df.index, mode='markers', marker=dict(size=5, color='yellow'), name='Scatter Plot', hovertext=df.index))\n",
    "#     fig.add_trace(go.Scatter(x=[v], y=['A'], mode='markers', marker=dict(size=5, color='yellow'), name='Scatter Plot', hovertext=df.index))\n",
    "\n",
    "# plot figure\n",
    "fig.show()\n"
   ]
  },
  {
   "cell_type": "code",
   "execution_count": null,
   "metadata": {},
   "outputs": [],
   "source": [
    "import plotly.graph_objs as go\n",
    "\n",
    "fig = go.Figure()\n",
    "\n",
    "# Add box plot trace\n",
    "fig.add_trace(go.Box(x=[1, 2, 3, 4, 5]))\n",
    "\n",
    "# Add horizontal line at y=0\n",
    "fig.update_layout(\n",
    "    shapes=[\n",
    "        dict(\n",
    "            type='line',\n",
    "            yref='y',\n",
    "            y0=0,\n",
    "            y1=0,\n",
    "            xref='paper',\n",
    "            x0=0,\n",
    "            x1=1\n",
    "        )\n",
    "    ]\n",
    ")\n",
    "\n",
    "fig.show()\n"
   ]
  },
  {
   "cell_type": "code",
   "execution_count": null,
   "metadata": {},
   "outputs": [],
   "source": [
    "import plotly.graph_objects as go\n",
    "import pandas as pd\n",
    "import numpy as np\n",
    "\n",
    "# Create example dataset\n",
    "np.random.seed(123)\n",
    "std_val = pd.DataFrame({'Group': ['A', 'A', 'B', 'B', 'C', 'C'],\n",
    "                     'Value': np.random.normal(size=6)})\n",
    "\n",
    "# Create box plot with custom marker colors\n",
    "fig = go.Figure()\n",
    "fig.add_trace(go.Box(x=std_val['Group'], y=std_val['Value'], name='Value',\n",
    "                     marker=dict(color='red')))\n",
    "\n",
    "# Update layout\n",
    "fig.update_layout(title='Box plot with custom marker colors',\n",
    "                  xaxis_title='Group', yaxis_title='Value')\n",
    "\n",
    "# Show the plot\n",
    "fig.show()"
   ]
  },
  {
   "cell_type": "code",
   "execution_count": null,
   "metadata": {},
   "outputs": [],
   "source": [
    "import plotly.graph_objs as go\n",
    "\n",
    "# create a box plot with custom marker color\n",
    "trace = go.Box(\n",
    "    y=[1, 2, 3, 4, 5],\n",
    "    marker=dict(\n",
    "        color='blue'\n",
    "    )\n",
    ")\n",
    "\n",
    "# create a figure and add the box plot trace\n",
    "fig = go.Figure(data=[trace])\n",
    "\n",
    "# show the figure\n",
    "fig.show()\n"
   ]
  },
  {
   "cell_type": "code",
   "execution_count": null,
   "metadata": {},
   "outputs": [],
   "source": [
    "#This here is to save all the average ECG/EOG data into a pickle file, so I can test difefrent wave detection algorythms on them without running the pipeline again\n",
    "\n",
    "import pickle \n",
    "import plotly.graph_objects as go\n",
    "import numpy as np\n",
    "\n",
    "\n",
    "# open a file in write binary mode\n",
    "with open(\"avg_ecg.pkl\", \"wb\") as f:\n",
    "    # dump the list of objects into the file\n",
    "    pickle.dump(avg_ecg, f)\n",
    "\n",
    "with open(\"avg_eog.pkl\", \"wb\") as f:\n",
    "    # dump the list of objects into the file\n",
    "    pickle.dump(avg_eog, f)\n",
    "\n",
    "\n"
   ]
  },
  {
   "cell_type": "code",
   "execution_count": null,
   "metadata": {},
   "outputs": [],
   "source": [
    "#This here is to open the pickle files from above and plot the data\n",
    "\n",
    "import pickle \n",
    "import plotly.graph_objects as go\n",
    "import numpy as np\n",
    "\n",
    "# open the file in read binary mode\n",
    "with open(\"avg_ecg0.pkl\", \"rb\") as f:\n",
    "    # load the list of objects from the file\n",
    "    eog_list = pickle.load(f)\n",
    "\n",
    "print(eog_list[0])\n",
    "\n",
    "sfreq=1000\n",
    "t = np.round(np.arange(-0.4, 0.4+1/sfreq, 1/sfreq), 3) #yes, you need to round\n",
    "fig0=go.Figure()\n",
    "for x in range(0, len(eog_list)):\n",
    "    fig_temp=eog_list[x].plot_epoch_and_peak(t, 'Channels affected by ECG artifact: ', 'mag', fig0)\n",
    "    for trace in fig_temp['data']:\n",
    "        fig0.add_trace(trace)\n",
    "\n",
    "fig0.update_layout(\n",
    "    yaxis = dict(\n",
    "            showexponent = 'all',\n",
    "            exponentformat = 'e')) \n",
    "fig0.show()\n"
   ]
  },
  {
   "cell_type": "code",
   "execution_count": null,
   "metadata": {},
   "outputs": [],
   "source": [
    "# same for EOG\n",
    "\n",
    "import pickle \n",
    "import plotly.graph_objects as go\n",
    "import numpy as np\n",
    "from copy import deepcopy\n",
    "from scipy.ndimage import gaussian_filter\n",
    "\n",
    "\n",
    "# open the file in read binary mode\n",
    "with open(\"avg_eog0.pkl\", \"rb\") as f:\n",
    "    # load the list of objects from the file\n",
    "    eog_list = pickle.load(f)\n",
    "\n",
    "sfreq=1000\n",
    "t = np.round(np.arange(-0.4, 0.4+1/sfreq, 1/sfreq), 3) #yes, you need to round\n",
    "fig0=go.Figure()\n",
    "for x in range(0, len(eog_list)):\n",
    "    fig_temp=eog_list[x].plot_epoch_and_peak(t, 'Channels affected by ECG artifact: ', 'mag')\n",
    "    for trace in fig_temp['data']:\n",
    "        fig0.add_trace(trace)\n",
    "\n",
    "fig0.update_layout(\n",
    "    yaxis = dict(\n",
    "            showexponent = 'all',\n",
    "            exponentformat = 'e')) \n",
    "fig0.show()\n",
    "\n",
    "#Now apply the gaussia filter to each trace and plot result in the same figure:\n",
    "fig0_new=deepcopy(fig0)\n",
    "for trace in fig0_new['data']:\n",
    "    y=trace['y']\n",
    "    y_smooth = gaussian_filter(y, sigma=10)\n",
    "    trace['y']=y_smooth\n",
    "\n",
    "fig0_new.show()"
   ]
  },
  {
   "cell_type": "code",
   "execution_count": null,
   "metadata": {},
   "outputs": [],
   "source": [
    "import mne\n",
    "raw = mne.io.read_raw_fif('/Volumes/M2_DATA/MEG_QC_stuff/data/Jochem/LeerraumAarhus2017/sub-emptyroom/meg/sub-emptyroom_task-Aarhus_meg.fif', preload=True)"
   ]
  },
  {
   "cell_type": "code",
   "execution_count": null,
   "metadata": {},
   "outputs": [],
   "source": [
    "#show sensor posiions using mne:\n",
    "\n",
    "import mne\n",
    "\n",
    "raw = mne.io.read_raw_fif('/Volumes/M2_DATA/MEG_QC_stuff/data/Jochem/LeerraumAarhus2017/sub-emptyroom/meg/sub-emptyroom_task-Aarhus_meg.fif', preload=True)\n",
    "\n",
    "mne.viz.plot_sensors(raw.info, kind='topomap', ch_type='grad', show_names=True, ch_groups='position')\n"
   ]
  },
  {
   "cell_type": "code",
   "execution_count": null,
   "metadata": {},
   "outputs": [],
   "source": [
    "#PLOT SENSORS IN 2D with plotly\n",
    "import numpy as np\n",
    "import plotly.graph_objects as go\n",
    "import mne\n",
    "\n",
    "raw = mne.io.read_raw_fif('/Volumes/M2_DATA/MEG_QC_stuff/data/Jochem/LeerraumAarhus2017/sub-emptyroom/meg/sub-emptyroom_task-Aarhus_meg.fif', preload=True)\n",
    "\n",
    "\n",
    "mag_ch_names = raw.copy().pick_types(meg='mag').ch_names if 'mag' in raw else None\n",
    "grad_ch_names = raw.copy().pick_types(meg='grad').ch_names if 'grad' in raw else None\n",
    "channels_objs = {'mag': mag_ch_names, 'grad': grad_ch_names}\n",
    "\n",
    "# Get the sensor locations\n",
    "sensor_locs = raw.info['chs']\n",
    "#print(sensor_locs)\n",
    "#coords_mag=[loc['loc'][:2] for loc in sensor_locs]\n",
    "coords_mag=[loc['loc'] for loc in sensor_locs if loc['ch_name'] in mag_ch_names]\n",
    "#print(len(coords), coords)\n",
    "print(len(coords_mag), coords_mag)\n",
    "\n",
    "x = [r[0] for r in coords_mag]\n",
    "y = [r[1] for r in coords_mag]\n",
    "#x, y, z = [loc['loc'][:3] for loc in sensor_locs]\n",
    "names = [loc['ch_name'] for loc in sensor_locs if loc['ch_name'] in mag_ch_names]\n",
    "kinds= [loc['kind'] for loc in sensor_locs]\n",
    "print(kinds)\n",
    "\n",
    "# Create a scatter plot of the sensor locations\n",
    "fig = go.Figure(data=go.Scatter(x=x, y=y, mode='markers', text=names))\n",
    "\n",
    "fig.update_layout(\n",
    "    autosize=False,\n",
    "    width=1000,\n",
    "    height=1000)\n",
    "\n",
    "# Set the plot title and axis labels\n",
    "fig.update_layout(title='MEG Sensor Locations', xaxis_title='X', yaxis_title='Y')\n",
    "\n",
    "# Add a circle shape to the plot to show the position of the head\n",
    "fig.update_layout(\n",
    "    shapes=[\n",
    "        dict(\n",
    "            type='circle',\n",
    "            xref='x',\n",
    "            yref='y',\n",
    "            x0=-0.1,\n",
    "            y0=-0.1,\n",
    "            x1=0.1,\n",
    "            y1=0.12,\n",
    "            line=dict(color='red', width=2),\n",
    "            opacity=0.5\n",
    "        ),\n",
    "        dict(\n",
    "            type='line',\n",
    "            xref='x',\n",
    "            yref='y',\n",
    "            x0=[0, -0.02],\n",
    "            y0=[0.1, 0.08],\n",
    "            line=dict(color='black', width=2)\n",
    "        ),\n",
    "        dict(\n",
    "            type='line',\n",
    "            xref='x',\n",
    "            yref='y',\n",
    "            x0=[0, 0.02],\n",
    "            y0=[0.1, 0.08],\n",
    "            line=dict(color='black', width=2)\n",
    "        ),\n",
    "        dict(\n",
    "            type='line',\n",
    "            xref='x',\n",
    "            yref='y',\n",
    "            x0=[-0.02, 0.02],\n",
    "            y0=[0.08, 0.08],\n",
    "            line=dict(color='black', width=2))\n",
    "])\n",
    "\n",
    "\n",
    "\n",
    "# Show the plot \n",
    "fig.show()"
   ]
  },
  {
   "cell_type": "code",
   "execution_count": null,
   "metadata": {},
   "outputs": [],
   "source": [
    "raw = mne.io.read_raw_fif('/Volumes/M2_DATA/MEG_QC_stuff/data/Jochem/LeerraumAarhus2017/sub-emptyroom/meg/sub-emptyroom_task-Aarhus_meg.fif', preload=True)\n",
    "\n",
    "#PLOT 3 D\n",
    "\n",
    "def switch_names_on_off(fig):\n",
    "    # Define the buttons\n",
    "    buttons = [\n",
    "    dict(label='Show channel names when hovering',\n",
    "         method='update',\n",
    "         args=[{'mode': 'markers'}]),\n",
    "    dict(label='Always show channel names',\n",
    "         method='update',\n",
    "         args=[{'mode': 'markers+text'}])\n",
    "    ]\n",
    "\n",
    "    # Add the buttons to the layout\n",
    "    fig.update_layout(updatemenus=[dict(type='buttons',\n",
    "                                        showactive=True,\n",
    "                                        buttons=buttons)])\n",
    "\n",
    "    return fig\n",
    "\n",
    "\n",
    "\n",
    "# Extract the sensor locations and names for magnetometers\n",
    "mag_locs = raw.copy().pick_types(meg='mag').info['chs']\n",
    "mag_pos = [ch['loc'][:3] for ch in mag_locs]\n",
    "mag_names = [ch['ch_name'] for ch in mag_locs]\n",
    "\n",
    "# Create the magnetometer plot with markers only\n",
    "\n",
    "mag_fig = go.Figure(data=[go.Scatter3d(x=[pos[0] for pos in mag_pos],\n",
    "                                       y=[pos[1] for pos in mag_pos],\n",
    "                                       z=[pos[2] for pos in mag_pos],\n",
    "                                       mode='markers',\n",
    "                                       marker=dict(size=5),\n",
    "                                       text=mag_names,\n",
    "                                       hovertemplate='%{text}')],\n",
    "                                       layout=go.Layout(width=1000, height=1000))\n",
    "\n",
    "mag_fig.update_layout(title='Magnetometers')\n",
    "\n",
    "mag_fig = switch_names_on_off(mag_fig)\n",
    "mag_fig.show()\n",
    "\n",
    "\n",
    "\n",
    "# Extract the sensor locations and names for gradiometers\n",
    "grad_locs = raw.copy().pick_types(meg='grad').info['chs']\n",
    "grad_pos = [ch['loc'][:3] for ch in grad_locs]\n",
    "grad_names = [ch['ch_name'] for ch in grad_locs]\n",
    "\n",
    "#since grads have 2 sensors located in the same spot - need to put their names together to make pretty plot labels:\n",
    "\n",
    "grad_pos_together = []\n",
    "grad_names_together = []\n",
    "\n",
    "for i in range(len(grad_pos)-1):\n",
    "    if all(x == y for x, y in zip(grad_pos[i], grad_pos[i+1])):\n",
    "        grad_pos_together += [grad_pos[i]]\n",
    "        grad_names_together += [grad_names[i]+', '+grad_names[i+1]]\n",
    "    else:\n",
    "        pass\n",
    "\n",
    "\n",
    "# Add both sets of gradiometer positions to the plot:\n",
    "grad_fig = go.Figure(data=[go.Scatter3d(x=[pos[0] for pos in grad_pos_together],\n",
    "                                        y=[pos[1] for pos in grad_pos_together],\n",
    "                                        z=[pos[2] for pos in grad_pos_together],\n",
    "                                        mode='markers',\n",
    "                                        marker=dict(size=5),\n",
    "                                        text=grad_names_together,\n",
    "                                        hovertemplate='%{text}')],\n",
    "                                        layout=go.Layout(width=1000, height=1000))\n",
    "\n",
    "grad_fig.update_layout(title='Gradiometers')\n",
    "\n",
    "\n",
    "# Add the button to have names show up on hover or always:\n",
    "grad_fig = switch_names_on_off(grad_fig)\n",
    "\n",
    "# Show the plots\n",
    "\n",
    "grad_fig.show()\n"
   ]
  },
  {
   "cell_type": "code",
   "execution_count": null,
   "metadata": {},
   "outputs": [],
   "source": [
    "\n",
    "# MUSCLE ARIFACTS IN EMPTYROOM DATA:\n",
    "# Discussed with Andreas:\n",
    "# We can see very high muscle scores at the very beginning and end of the empty room recording\n",
    "# Are these real muscle artifacts or filtering errors?\n",
    "# Cut out 1st second of the data where they are visible.\n",
    "# make Fourier transform of the 1st second and see if there are high amplitudes visible for the muscle frequencies - nope \n",
    "# most likely this is filtering.\n",
    "# next, follow the MNE steps for muscle artifact detection: they use first filtering at 11--140 hz, then Hilbert\n",
    "# plotted raw data after the applied filter, and Hilbert - see cut artifacts in the beginning and end. (WJY arw we sure it  s not hilbert?)\n",
    "# then, tried to only filter - very noisy data. but most likely the filtering is the source. Because of the cut-off in the beginning and end.\n",
    "# Solutions: zero padding in the beginning and end before filtering, which will be cut off after. But may still create a jump while filtering and keep the artifact.\n",
    "# Better: add 2s of dummy data at the beginning and end of the recording, and then crop it out (the data added should be mirrored). This will not create a jump in the filtering.\n",
    "# Tried\n",
    "\n",
    "# Problem found! 2 problems: \n",
    "# 1st: The main artifact is actually introduced by filtering power lines. filtering the data at 150 Hz (harmonics) clearly creates this artifact.\n",
    "# Removed that and any other filtering over the range of muscle freqs, since we don't need them anyways. (over 140 Hz)\n",
    "# 2nd: Still some artifact is present in the beginning and end of the recording. For this attach mirrored data on both ends.\n",
    "# Then detect muscle, then cut the resulting scores away for the attached period.\n",
    "# There will be still some very minimal artifact at the beginning/end of this attachment - probably due to the attachment itself: the mirrored data is still not a normally shaped signal.\n",
    "# See example in cell above of how all 3 option look: oroginal, with attached data and with attached and cut away.\n",
    "\n",
    "import numpy as np\n",
    "import plotly.graph_objects as go\n",
    "import mne\n",
    "\n",
    "raw = mne.io.read_raw_fif('/Volumes/M2_DATA/MEG_QC_stuff/data/Jochem/LeerraumAarhus2017/sub-emptyroom/meg/sub-emptyroom_task-Aarhus_meg.fif', preload=True)\n",
    "\n",
    "#%matplotlib qt\n",
    "raw_first = raw.copy().crop(tmin=0, tmax=1)\n",
    "#raw_first.plot()\n",
    "\n",
    "\n",
    "std_val=raw_first.get_data()\n",
    "\n",
    "window = np.hanning(std_val.shape[-1])*std_val\n",
    "\n",
    "window\n",
    "\n",
    "freqs = np.fft.rfftfreq(window.shape[-1], 1/raw.info['sfreq'])\n",
    "\n",
    "components = np.fft.fft(window, axis=-1)\n",
    "\n",
    "components.shape\n",
    "\n",
    "fig = go.Figure()\n",
    "for ch in range(15, 250):\n",
    "    fig.add_trace(go.Scatter(x=freqs, y = np.abs(components[ch, 0:500])))\n",
    "fig.add_trace(go.Scatter(x=freqs, y = np.abs(components[0, 0:500])))\n",
    "#from mne annotate_muscle_zscore:\n",
    "from scipy.stats import zscore\n",
    "from scipy.ndimage import label\n",
    "\n",
    "filter_freq=(110, 140)\n",
    "legend_category = 'mag'\n",
    "\n",
    "raw_copy = raw_first.copy()\n",
    "raw_copy.load_data()\n",
    "\n",
    "if legend_category is None:\n",
    "    raw_ch_type = raw_copy.get_channel_types()\n",
    "    if 'mag' in raw_ch_type:\n",
    "        legend_category = 'mag'\n",
    "    elif 'grad' in raw_ch_type:\n",
    "        legend_category = 'grad'\n",
    "    elif 'eeg' in raw_ch_type:\n",
    "        legend_category = 'eeg'\n",
    "    else:\n",
    "        raise ValueError('No M/EEG channel types found, please specify a'\n",
    "                            ' ch_type or provide M/EEG sensor data')\n",
    "\n",
    "if legend_category in ('mag', 'grad'):\n",
    "    raw_copy.pick_types(meg=legend_category, ref_meg=False)\n",
    "else:\n",
    "    legend_category = {'meg': False, legend_category: True}\n",
    "    raw_copy.pick_types(**legend_category)\n",
    "\n",
    "#raw_copy.filter(filter_freq[0], filter_freq[1], fir_design='firwin',\n",
    "#                pad=\"reflect_limited\")\n",
    "\n",
    "hilb_applied=raw_copy.apply_hilbert(envelope=True)\n",
    "hilb_applied.plot()\n",
    "\n"
   ]
  },
  {
   "cell_type": "code",
   "execution_count": null,
   "metadata": {},
   "outputs": [],
   "source": [
    "import numpy as np\n",
    "\n",
    "# Load the list of values into a NumPy array\n",
    "values = np.array([1, 2, 1.8, 2.5, 3, 3.5, 4, 3.8, 5, 4, 2, 2.1, 1, 0, 2, 4, 6])\n",
    "\n",
    "\n",
    "\n",
    "import numpy as np\n",
    "from scipy.signal import butter, filtfilt, savgol_filter, find_peaks\n",
    "\n",
    "import plotly.graph_objects as go\n",
    "import numpy as np\n",
    "\n",
    "# Generate a noisy wave shape\n",
    "t = np.linspace(0, 10, 1000)\n",
    "y = np.sin(t) + 0.5*np.random.randn(len(t))\n",
    "\n",
    "data = np.random.randn(1000) #no wave shape\n",
    "# Load the noisy wave data into a NumPy array\n",
    "wave_data = data\n",
    "\n",
    "# Create a Plotly figure\n",
    "fig = go.Figure()\n",
    "fig.add_trace(go.Scatter(x=t, y=wave_data, mode='lines', name='Noisy Wave'))\n",
    "fig.update_layout(xaxis_title='Time', yaxis_title='Amplitude', title='Noisy Wave Shape')\n",
    "fig.show()\n",
    "\n",
    "# Apply a low-pass filter to remove high-frequency noise\n",
    "b, a = butter(5, 0.1, 'low')\n",
    "filtered_data = filtfilt(b, a, wave_data)\n",
    "\n",
    "# plot filtered data\n",
    "fig = go.Figure()\n",
    "fig.add_trace(go.Scatter(x=t, y=filtered_data, mode='lines', name='Filtered Wave'))\n",
    "fig.update_layout(xaxis_title='Time', yaxis_title='Amplitude', title='Filtered Wave Shape')\n",
    "fig.show()\n",
    "\n",
    "# Apply a Savitzky-Golay filter to further reduce noise and extract the underlying wave shape\n",
    "#smoothed_data = savgol_filter(wave_data, window_length=int(len(wave_data)/4), polyorder=3)\n",
    "smoothed_data = savgol_filter(data, window_length=100, polyorder=3)\n",
    "\n",
    "# Identify the shape of the wave using peak detection or curve fitting\n",
    "# For example, you can use the `scipy.signal.find_peaks` function to detect peaks in the smoothed data\n",
    "#peaks, _ = find_peaks(smoothed_data, height=0.5*np.max(smoothed_data))\n",
    "peaks, _ = find_peaks(smoothed_data)\n",
    "\n",
    "# plot smoothed data\n",
    "fig = go.Figure()\n",
    "fig.add_trace(go.Scatter(x=t, y=smoothed_data, mode='lines', name='Smoothed Wave'))\n",
    "fig.update_layout(xaxis_title='Time', yaxis_title='Amplitude', title='Smoothed Wave Shape')\n",
    "fig.add_trace(go.Scatter(x=t[peaks], y=smoothed_data[peaks], mode='markers', name='Peaks'))\n",
    "fig.show()\n",
    "\n"
   ]
  },
  {
   "cell_type": "code",
   "execution_count": null,
   "metadata": {},
   "outputs": [],
   "source": [
    "import plotly.graph_objects as go\n",
    "import numpy as np\n",
    "from scipy.signal import find_peaks\n",
    "\n",
    "# Generate a noisy wave shape\n",
    "t = np.linspace(0, 10, 1000)\n",
    "y = np.sin(t) + 0.5*np.random.randn(len(t))\n",
    "\n",
    "# Find the peaks in the wave\n",
    "peaks, _ = find_peaks(y)\n",
    "\n",
    "# Count the number of peaks\n",
    "num_peaks = len(peaks)\n",
    "\n",
    "# Create a Plotly figure\n",
    "fig = go.Figure()\n",
    "\n",
    "# Add the noisy wave shape to the figure\n",
    "fig.add_trace(go.Scatter(x=t, y=y, mode='lines', name='Noisy Wave'))\n",
    "\n",
    "# Add the peaks to the figure\n",
    "fig.add_trace(go.Scatter(x=t[peaks], y=y[peaks], mode='markers', name='Peaks'))\n",
    "\n",
    "# Add axis labels and a title\n",
    "fig.update_layout(xaxis_title='Time', yaxis_title='Amplitude', title='Noisy Wave Shape')\n",
    "\n",
    "# Show the figure and print the number of peaks\n",
    "fig.show()\n",
    "print(f'The wave has {num_peaks} crest(s).')"
   ]
  },
  {
   "cell_type": "code",
   "execution_count": null,
   "metadata": {},
   "outputs": [],
   "source": [
    "import mne\n",
    "picks_EOG = mne.pick_types(raw.info, eog=True)\n",
    "eog_ch_name = [raw.info['chs'][name]['ch_name'] for name in picks_EOG]\n",
    "eog_ch_name"
   ]
  },
  {
   "cell_type": "code",
   "execution_count": null,
   "metadata": {},
   "outputs": [],
   "source": [
    "one_psd = [2.93686870e-12, 5.37336497e-13, 2.34749324e-13, 1.70403629e-13\n",
    ", 1.42868936e-13, 1.10614848e-13, 1.01586902e-13, 9.41699507e-14\n",
    ", 8.41904711e-14, 7.56254639e-14, 6.98933286e-14, 6.47116338e-14\n",
    ", 5.37107007e-14, 5.42174045e-14, 4.78692577e-14, 4.36476164e-14\n",
    ", 3.69272073e-14, 3.81479068e-14, 4.07614720e-14, 3.71683505e-14\n",
    ", 3.74843265e-14, 3.57210926e-14, 3.99173535e-14, 4.87143053e-14\n",
    ", 4.20066645e-14, 3.84896719e-14, 3.13482998e-14, 2.86289627e-14\n",
    ", 2.82586165e-14, 2.71780036e-14, 2.48692250e-14, 2.71251350e-14\n",
    ", 2.79561808e-14, 2.72047767e-14, 2.79637330e-14, 2.55955578e-14\n",
    ", 2.53291180e-14, 2.01500680e-14, 2.12080778e-14, 2.18529602e-14\n",
    ", 2.12775368e-14, 2.14334140e-14, 2.18751322e-14, 1.97884378e-14\n",
    ", 1.89952388e-14, 1.79404586e-14, 2.01555022e-14, 2.21105500e-14\n",
    ", 1.87897255e-14, 1.95585625e-14, 2.07067862e-14, 2.15786185e-14\n",
    ", 1.78539522e-14, 1.89461927e-14, 1.83714513e-14, 1.91272285e-14\n",
    ", 1.81790918e-14, 1.51935998e-14, 1.55331746e-14, 1.37627320e-14\n",
    ", 1.37333973e-14, 1.47261781e-14, 1.35323358e-14, 1.23234074e-14\n",
    ", 1.26296023e-14, 1.39794705e-14, 1.32391885e-14, 1.33172509e-14\n",
    ", 1.40752537e-14, 1.35291881e-14, 1.46771014e-14, 1.57039580e-14\n",
    ", 1.76870590e-14, 2.11409680e-14, 2.66470647e-14, 2.09066429e-14\n",
    ", 1.68226688e-14, 1.63034232e-14, 1.32317697e-14, 1.20372472e-14\n",
    ", 1.10395275e-14, 1.17336558e-14, 1.12817157e-14, 1.31068881e-14\n",
    ", 1.36940739e-14, 1.48016686e-14, 1.35999052e-14, 1.56644411e-14\n",
    ", 1.51726149e-14, 1.95274934e-14, 1.84669709e-14, 1.89443054e-14\n",
    ", 1.82544652e-14, 1.92617658e-14, 1.80902967e-14, 2.17239287e-14\n",
    ", 2.67917043e-14, 4.45194367e-14, 2.01857457e-12, 4.40594585e-12\n",
    ", 1.74602155e-12, 4.30562941e-14, 2.53461498e-14, 1.87278757e-14\n",
    ", 1.54232144e-14, 1.67924147e-14, 1.22749773e-14, 1.25017017e-14\n",
    ", 1.22475994e-14, 1.02921463e-14, 1.07700101e-14, 1.02658035e-14\n",
    ", 9.54949869e-15, 9.84280694e-15, 8.88745310e-15, 9.02206922e-15\n",
    ", 8.47210049e-15, 8.64491709e-15, 1.32254861e-14, 1.89573615e-14\n",
    ", 1.23079196e-14, 8.62994931e-15, 8.12535185e-15, 8.01035318e-15\n",
    ", 7.53220890e-15, 8.02056256e-15, 7.90231409e-15, 7.63270083e-15\n",
    ", 7.93212379e-15, 7.28368608e-15, 7.59772607e-15, 7.26136429e-15\n",
    ", 7.86504197e-15, 7.36256360e-15, 7.02847343e-15, 7.08620266e-15\n",
    ", 6.86068169e-15, 7.21792433e-15, 7.28674098e-15, 6.88181371e-15\n",
    ", 6.78751472e-15, 6.59002904e-15, 6.74850515e-15, 6.53743454e-15\n",
    ", 6.70834535e-15, 6.72520433e-15, 6.78371437e-15, 6.70420118e-15\n",
    ", 6.97442862e-15, 7.26767528e-15, 6.79388360e-15, 6.83101277e-15\n",
    ", 6.90684197e-15, 6.45716620e-15, 6.66190889e-15, 6.49304182e-15\n",
    ", 6.38068712e-15, 6.29160702e-15, 5.92354089e-15, 6.33890242e-15\n",
    ", 6.33787606e-15, 5.76688121e-15, 6.31821916e-15, 6.34536916e-15\n",
    ", 6.51250512e-15, 6.43164190e-15, 6.46530769e-15, 6.44724883e-15\n",
    ", 7.48305304e-15, 7.50925230e-15, 6.28419317e-15, 6.33908319e-15\n",
    ", 5.86954984e-15, 6.54561206e-15, 6.08872456e-15, 6.40874736e-15\n",
    ", 5.95870142e-15, 6.13488554e-15, 5.83721527e-15, 5.87793931e-15\n",
    ", 5.81207088e-15, 5.98748087e-15, 5.94551525e-15, 5.75415575e-15\n",
    ", 5.66968278e-15, 6.11006036e-15, 5.72066372e-15, 5.96629716e-15\n",
    ", 5.80372053e-15, 5.75583336e-15, 5.84628922e-15, 5.63642362e-15\n",
    ", 5.34942930e-15, 5.75920960e-15, 6.05337029e-15, 6.61372576e-15\n",
    ", 7.14210116e-15, 6.94968538e-15, 1.85742697e-14, 3.52090532e-14\n",
    ", 1.48785528e-14, 6.23577963e-15, 5.66229647e-15, 5.39212323e-15\n",
    ", 5.32890121e-15, 5.54967559e-15, 5.29485491e-15, 5.65665900e-15\n",
    ", 5.31337965e-15, 5.30139224e-15, 5.21434237e-15, 5.61739646e-15\n",
    ", 5.62673191e-15, 5.68441483e-15, 5.43332729e-15, 5.34563989e-15\n",
    ", 5.69510011e-15, 6.43038706e-15, 5.52069097e-15, 5.22891308e-15\n",
    ", 5.06513758e-15, 5.15715319e-15, 5.32484298e-15, 5.37071225e-15\n",
    ", 5.24099974e-15, 5.14413780e-15, 5.05322799e-15, 5.27277366e-15\n",
    ", 5.17209094e-15, 5.19895605e-15, 5.04662049e-15, 5.13492402e-15\n",
    ", 5.39573281e-15, 5.13639899e-15, 5.29696474e-15, 5.29749076e-15\n",
    ", 5.23187737e-15, 5.14179424e-15, 1.44011463e-14, 2.29753019e-14\n",
    ", 8.85041560e-15, 5.16398069e-15, 5.09075672e-15, 5.06681957e-15\n",
    ", 5.17284653e-15, 4.99688083e-15, 5.01988585e-15, 5.07952302e-15\n",
    ", 4.97188381e-15, 5.17733558e-15, 4.97124292e-15, 4.96910679e-15\n",
    ", 4.96283207e-15, 5.07193856e-15, 4.80712108e-15, 4.97630935e-15\n",
    ", 4.93727883e-15, 4.84091247e-15, 5.07370238e-15, 4.76459850e-15\n",
    ", 4.86678392e-15, 5.03907955e-15, 4.91645908e-15, 4.99691785e-15\n",
    ", 4.81326372e-15, 5.56398292e-15, 5.40286001e-15, 4.91762834e-15\n",
    ", 4.96042200e-15, 4.86125369e-15, 5.04306529e-15, 4.89229744e-15\n",
    ", 4.93924928e-15, 4.91889752e-15, 4.92336366e-15, 4.91476256e-15\n",
    ", 4.90731383e-15, 4.79751988e-15, 4.96181659e-15, 5.04353794e-15]\n",
    "\n",
    "#plot the data with ploty:\n",
    "import numpy as np\n",
    "import plotly.graph_objects as go\n",
    "from scipy.signal import find_peaks\n",
    "\n",
    "freqs = [i/2 for i in range(0, 280)]\n",
    "prominence_lvl_pos = 50\n",
    "prominence_pos=(max(one_psd) - min(one_psd)) / prominence_lvl_pos\n",
    "noisy_freqs_indexes, _ = find_peaks(one_psd, prominence=prominence_pos)\n",
    "noisy_freqs_indexes = [int(i) for i in noisy_freqs_indexes]\n",
    "\n",
    "for i in range(0,2):\n",
    "    fig = go.Figure()\n",
    "    fig.add_trace(go.Scatter(x=freqs, y=one_psd, name='psd'))\n",
    "    fig.update_layout(title=' PSD', xaxis_title='Frequency', yaxis_title='Amplitude',\n",
    "            yaxis = dict(\n",
    "            showexponent = 'all',\n",
    "            exponentformat = 'e'))\n",
    "\n",
    "    fig.add_trace(go.Scatter(x=[freqs[noisy_freqs_indexes[0]]], y=[one_psd[noisy_freqs_indexes[0]]], mode='markers', name='peaks'))\n",
    "\n",
    "    if i == 0:\n",
    "        fig.update_yaxes(type=\"log\")\n",
    "\n",
    "    fig.show()\n"
   ]
  },
  {
   "cell_type": "code",
   "execution_count": null,
   "metadata": {},
   "outputs": [],
   "source": [
    "df_head_pos\n"
   ]
  },
  {
   "cell_type": "code",
   "execution_count": null,
   "metadata": {},
   "outputs": [],
   "source": [
    "bool('False')\n",
    "\n",
    "#convert \"false\" to boolean:\n",
    "import ast\n",
    "t = ast.literal_eval('False')\n",
    "t\n"
   ]
  }
 ],
 "metadata": {
  "kernelspec": {
   "display_name": "ancp_test",
   "language": "python",
   "name": "python3"
  },
  "language_info": {
   "codemirror_mode": {
    "name": "ipython",
    "version": 3
   },
   "file_extension": ".py",
   "mimetype": "text/x-python",
   "name": "python",
   "nbconvert_exporter": "python",
   "pygments_lexer": "ipython3",
   "version": "3.8.10"
  },
  "orig_nbformat": 4
 },
 "nbformat": 4,
 "nbformat_minor": 2
}
