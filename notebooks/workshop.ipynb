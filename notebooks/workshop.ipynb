{
 "cells": [
  {
   "cell_type": "markdown",
   "metadata": {},
   "source": [
    "## Welcome to MEGqc!\n",
    "\n",
    "### Please follow the step below:\n",
    "\n"
   ]
  },
  {
   "cell_type": "code",
   "execution_count": null,
   "metadata": {},
   "outputs": [],
   "source": [
    "# 0. Install dependencies\n",
    "!pip install ancpbids\n",
    "!pip install mne\n",
    "!pip install pandas\n",
    "!pip install plotly"
   ]
  },
  {
   "cell_type": "markdown",
   "metadata": {},
   "source": [
    "\n",
    "\n",
    "1. Clone MEGqc from Github. Or use the Github repository from USB stick\n",
    "2. Download test data from the cloud: (give share link here)\n",
    "   Or copy it from a USB stick.\n",
    "   Or use your own data (only .fif files are supported).\n",
    "3. In case you use your own data, please make sure it is organised according to the BIDS standard.\n",
    "   Use BIDS.Validator: https://bids-standard.github.io/bids-validator/ to check if your data is BIDS-compliant.\n",
    "   If it is not, you can form BIDS-compliant directory structure around your .fif file and change the file name:\n",
    "   1) Download dummy directory structure from the USB stick.\n",
    "   2) Change the file name to: sub-001_task-rest_meg.fif and place it into the directory instead of a dummy .fif file\n",
    "4. Adjust the settings file settings_ws.ini (can be found in MEGqc_workshop_/MEG-QC-code/meg_qc): \n",
    "   1) Give the path to your data set in 'data_directory' parameter.\n",
    "   2) Set cropping of the data to ~2 min (120 sec) in 'crop_data' parameter to ensure faster execution fro this trial.\n",
    "   3) If desired, set some of the metrics to False. If you use the examplary data sey downloaded from the cloud, please keep Head metric as False. \n",
    "      This data set does not contain head position recording of a good quality, and it will take significant time to produce the unseccessful result for this metric.\n",
    "   4) To save time, process just 1 subject for this trial. Set 'subjects' parameter to your desired subject identifier, such as 009 or 001.\n",
    "      To process all subjects set this parameter to 'all'.\n",
    "   5) Keep the rest of the parameters as default for the first trial, they can be adjusted later for your data if needed.\n",
    "5. Run the code below to execute the pipeline.\n",
    "\n"
   ]
  },
  {
   "cell_type": "code",
   "execution_count": null,
   "metadata": {},
   "outputs": [],
   "source": [
    "# Run meg_qc pipeline\n",
    "\n",
    "from meg_qc.meg_qc_pipeline import make_derivative_meg_qc\n",
    "\n",
    "config_file_path = 'meg_qc/settings_ws.ini' \n",
    "internal_config_file_path='meg_qc/settings_internal.ini' # internal settings (these should not be adjusted manually)\n",
    "make_derivative_meg_qc(config_file_path, internal_config_file_path)\n"
   ]
  },
  {
   "cell_type": "code",
   "execution_count": null,
   "metadata": {},
   "outputs": [],
   "source": [
    "# 7. You can find the reports in the data set directory under derivatives/Meg_QC/sub-009/...\n",
    "#   Visual reports are saved as HTML files, and can be opened in any browser.\n",
    "#   Machinre-readable reports are saved as JSON files.\n",
    "#   Additional machine-readable darivatives are saved as TSV files."
   ]
  }
 ],
 "metadata": {
  "kernelspec": {
   "display_name": "mne_qc",
   "language": "python",
   "name": "python3"
  },
  "language_info": {
   "codemirror_mode": {
    "name": "ipython",
    "version": 3
   },
   "file_extension": ".py",
   "mimetype": "text/x-python",
   "name": "python",
   "nbconvert_exporter": "python",
   "pygments_lexer": "ipython3",
   "version": "3.10.0"
  }
 },
 "nbformat": 4,
 "nbformat_minor": 4
}
